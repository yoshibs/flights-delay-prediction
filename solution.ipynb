{
 "cells": [
  {
   "cell_type": "markdown",
   "id": "c1eb19be",
   "metadata": {},
   "source": [
    "# The Case\n",
    "\n",
    "The problem consists in predicting the probability of delay of the flights that land or take off from the airport of Santiago de Chile (SCL). For that you will have a dataset using public and real data where each row corresponds to a flight that landed or took off from SCL during 2017.<br>\n",
    "<br>\n",
    "The following information is available for each flight:\n",
    ">Fecha-I: Scheduled date and time of the flight<br>\n",
    ">Vlo-I : Scheduled flight number<br>\n",
    ">Ori-I : Programmed origin city code<br>\n",
    ">Des-I : Programmed destination city code<br>\n",
    ">Emp-I : Scheduled flight airline code<br>\n",
    ">Fecha-O : Date and time of flight operation<br>\n",
    ">Vlo-O : Flight operation number of the flight<br>\n",
    ">Ori-O : Operation origin city code<br>\n",
    ">Des-O : Operation destination city code<br>\n",
    ">Emp-O : Airline code of the operated flight<br>\n",
    ">DIA: Day of the month of flight operation<br>\n",
    ">MES : Number of the month of operation of the flight<br>\n",
    ">AÑO : Year of flight operation<br>\n",
    ">DIANOM : Day of the week of flight operation<br>\n",
    ">TIPOVUELO : Type of flight, I =International, N =National<br>\n",
    ">OPERA : Name of the airline that operates<br>\n",
    ">SIGLAORI: Name city of origin<br>\n",
    ">SIGLADES: Destination city name<br>"
   ]
  },
  {
   "cell_type": "markdown",
   "id": "870d6cf1",
   "metadata": {},
   "source": [
    "### Tools"
   ]
  },
  {
   "cell_type": "code",
   "execution_count": 1,
   "id": "dbec1d33",
   "metadata": {
    "ExecuteTime": {
     "end_time": "2023-04-05T02:36:22.256790Z",
     "start_time": "2023-04-05T02:36:12.227536Z"
    },
    "scrolled": false
   },
   "outputs": [
    {
     "name": "stdout",
     "output_type": "stream",
     "text": [
      "Requirement already satisfied: imblearn in c:\\users\\miyamura\\appdata\\roaming\\python\\python38\\site-packages (0.0)\n",
      "Requirement already satisfied: imbalanced-learn in c:\\users\\miyamura\\appdata\\roaming\\python\\python38\\site-packages (from imblearn) (0.10.1)\n",
      "Requirement already satisfied: threadpoolctl>=2.0.0 in d:\\python\\lib\\site-packages (from imbalanced-learn->imblearn) (2.1.0)\n",
      "Requirement already satisfied: joblib>=1.1.1 in d:\\python\\lib\\site-packages (from imbalanced-learn->imblearn) (1.2.0)\n",
      "Requirement already satisfied: scipy>=1.3.2 in d:\\python\\lib\\site-packages (from imbalanced-learn->imblearn) (1.6.1)\n",
      "Requirement already satisfied: scikit-learn>=1.0.2 in d:\\python\\lib\\site-packages (from imbalanced-learn->imblearn) (1.2.2)\n",
      "Requirement already satisfied: numpy>=1.17.3 in d:\\python\\lib\\site-packages (from imbalanced-learn->imblearn) (1.21.0+mkl)\n"
     ]
    }
   ],
   "source": [
    "!pip install imblearn --user"
   ]
  },
  {
   "cell_type": "code",
   "execution_count": 2,
   "id": "34d30e3a",
   "metadata": {
    "ExecuteTime": {
     "end_time": "2023-04-05T02:36:22.272794Z",
     "start_time": "2023-04-05T02:36:22.257790Z"
    }
   },
   "outputs": [],
   "source": [
    "import warnings\n",
    "warnings.filterwarnings('ignore')"
   ]
  },
  {
   "cell_type": "code",
   "execution_count": 3,
   "id": "1705e890",
   "metadata": {
    "ExecuteTime": {
     "end_time": "2023-04-05T02:36:23.441056Z",
     "start_time": "2023-04-05T02:36:22.273795Z"
    }
   },
   "outputs": [],
   "source": [
    "import pandas as pd\n",
    "import numpy as np\n",
    "#import datetime\n",
    "#from math import sin, cos, sqrt, atan2, radians\n",
    "from math import sqrt\n",
    "import seaborn as sns\n",
    "from matplotlib import pyplot as plt #, dates\n",
    "\n",
    "#from sklearn.linear_model import LinearRegression, Ridge, Lasso, ElasticNet\n",
    "from sklearn.ensemble import RandomForestClassifier #, GradientBoostingClassifier\n",
    "from sklearn.naive_bayes import GaussianNB\n",
    "#from sklearn.metrics import r2_score,confusion_matrix,classification_report, accuracy_score, precision_score, recall_score, f1_score\n",
    "from sklearn.metrics import accuracy_score, precision_score, recall_score, f1_score\n",
    "from sklearn.model_selection import cross_val_score, train_test_split, KFold, RandomizedSearchCV\n",
    "from sklearn import tree\n",
    "\n",
    "from imblearn.over_sampling import SMOTE\n",
    "\n",
    "from sklearn.feature_selection import chi2"
   ]
  },
  {
   "cell_type": "code",
   "execution_count": 4,
   "id": "02c3abf1",
   "metadata": {
    "ExecuteTime": {
     "end_time": "2023-04-05T02:36:23.457060Z",
     "start_time": "2023-04-05T02:36:23.442057Z"
    }
   },
   "outputs": [],
   "source": [
    "smote = SMOTE()"
   ]
  },
  {
   "cell_type": "markdown",
   "id": "b36f7ece",
   "metadata": {},
   "source": [
    "## Initial Analysis\n",
    "\n",
    "How is the data distributed? Did you find any noteworthy insight to share? What can you conclude about this?"
   ]
  },
  {
   "cell_type": "markdown",
   "id": "60168576",
   "metadata": {},
   "source": [
    "### Initial analysis over the dataframe data"
   ]
  },
  {
   "cell_type": "code",
   "execution_count": 5,
   "id": "b2fbd150",
   "metadata": {
    "ExecuteTime": {
     "end_time": "2023-04-05T02:36:23.601092Z",
     "start_time": "2023-04-05T02:36:23.458074Z"
    },
    "scrolled": false
   },
   "outputs": [
    {
     "data": {
      "text/html": [
       "<div>\n",
       "<style scoped>\n",
       "    .dataframe tbody tr th:only-of-type {\n",
       "        vertical-align: middle;\n",
       "    }\n",
       "\n",
       "    .dataframe tbody tr th {\n",
       "        vertical-align: top;\n",
       "    }\n",
       "\n",
       "    .dataframe thead th {\n",
       "        text-align: right;\n",
       "    }\n",
       "</style>\n",
       "<table border=\"1\" class=\"dataframe\">\n",
       "  <thead>\n",
       "    <tr style=\"text-align: right;\">\n",
       "      <th></th>\n",
       "      <th>Fecha-I</th>\n",
       "      <th>Vlo-I</th>\n",
       "      <th>Ori-I</th>\n",
       "      <th>Des-I</th>\n",
       "      <th>Emp-I</th>\n",
       "      <th>Fecha-O</th>\n",
       "      <th>Vlo-O</th>\n",
       "      <th>Ori-O</th>\n",
       "      <th>Des-O</th>\n",
       "      <th>Emp-O</th>\n",
       "      <th>DIA</th>\n",
       "      <th>MES</th>\n",
       "      <th>AÑO</th>\n",
       "      <th>DIANOM</th>\n",
       "      <th>TIPOVUELO</th>\n",
       "      <th>OPERA</th>\n",
       "      <th>SIGLAORI</th>\n",
       "      <th>SIGLADES</th>\n",
       "    </tr>\n",
       "  </thead>\n",
       "  <tbody>\n",
       "    <tr>\n",
       "      <th>0</th>\n",
       "      <td>2017-01-01 23:30:00</td>\n",
       "      <td>226</td>\n",
       "      <td>SCEL</td>\n",
       "      <td>KMIA</td>\n",
       "      <td>AAL</td>\n",
       "      <td>2017-01-01 23:33:00</td>\n",
       "      <td>226</td>\n",
       "      <td>SCEL</td>\n",
       "      <td>KMIA</td>\n",
       "      <td>AAL</td>\n",
       "      <td>1</td>\n",
       "      <td>1</td>\n",
       "      <td>2017</td>\n",
       "      <td>Domingo</td>\n",
       "      <td>I</td>\n",
       "      <td>American Airlines</td>\n",
       "      <td>Santiago</td>\n",
       "      <td>Miami</td>\n",
       "    </tr>\n",
       "    <tr>\n",
       "      <th>1</th>\n",
       "      <td>2017-01-02 23:30:00</td>\n",
       "      <td>226</td>\n",
       "      <td>SCEL</td>\n",
       "      <td>KMIA</td>\n",
       "      <td>AAL</td>\n",
       "      <td>2017-01-02 23:39:00</td>\n",
       "      <td>226</td>\n",
       "      <td>SCEL</td>\n",
       "      <td>KMIA</td>\n",
       "      <td>AAL</td>\n",
       "      <td>2</td>\n",
       "      <td>1</td>\n",
       "      <td>2017</td>\n",
       "      <td>Lunes</td>\n",
       "      <td>I</td>\n",
       "      <td>American Airlines</td>\n",
       "      <td>Santiago</td>\n",
       "      <td>Miami</td>\n",
       "    </tr>\n",
       "    <tr>\n",
       "      <th>2</th>\n",
       "      <td>2017-01-03 23:30:00</td>\n",
       "      <td>226</td>\n",
       "      <td>SCEL</td>\n",
       "      <td>KMIA</td>\n",
       "      <td>AAL</td>\n",
       "      <td>2017-01-03 23:39:00</td>\n",
       "      <td>226</td>\n",
       "      <td>SCEL</td>\n",
       "      <td>KMIA</td>\n",
       "      <td>AAL</td>\n",
       "      <td>3</td>\n",
       "      <td>1</td>\n",
       "      <td>2017</td>\n",
       "      <td>Martes</td>\n",
       "      <td>I</td>\n",
       "      <td>American Airlines</td>\n",
       "      <td>Santiago</td>\n",
       "      <td>Miami</td>\n",
       "    </tr>\n",
       "    <tr>\n",
       "      <th>3</th>\n",
       "      <td>2017-01-04 23:30:00</td>\n",
       "      <td>226</td>\n",
       "      <td>SCEL</td>\n",
       "      <td>KMIA</td>\n",
       "      <td>AAL</td>\n",
       "      <td>2017-01-04 23:33:00</td>\n",
       "      <td>226</td>\n",
       "      <td>SCEL</td>\n",
       "      <td>KMIA</td>\n",
       "      <td>AAL</td>\n",
       "      <td>4</td>\n",
       "      <td>1</td>\n",
       "      <td>2017</td>\n",
       "      <td>Miercoles</td>\n",
       "      <td>I</td>\n",
       "      <td>American Airlines</td>\n",
       "      <td>Santiago</td>\n",
       "      <td>Miami</td>\n",
       "    </tr>\n",
       "    <tr>\n",
       "      <th>4</th>\n",
       "      <td>2017-01-05 23:30:00</td>\n",
       "      <td>226</td>\n",
       "      <td>SCEL</td>\n",
       "      <td>KMIA</td>\n",
       "      <td>AAL</td>\n",
       "      <td>2017-01-05 23:28:00</td>\n",
       "      <td>226</td>\n",
       "      <td>SCEL</td>\n",
       "      <td>KMIA</td>\n",
       "      <td>AAL</td>\n",
       "      <td>5</td>\n",
       "      <td>1</td>\n",
       "      <td>2017</td>\n",
       "      <td>Jueves</td>\n",
       "      <td>I</td>\n",
       "      <td>American Airlines</td>\n",
       "      <td>Santiago</td>\n",
       "      <td>Miami</td>\n",
       "    </tr>\n",
       "  </tbody>\n",
       "</table>\n",
       "</div>"
      ],
      "text/plain": [
       "               Fecha-I Vlo-I Ori-I Des-I Emp-I              Fecha-O Vlo-O  \\\n",
       "0  2017-01-01 23:30:00   226  SCEL  KMIA   AAL  2017-01-01 23:33:00   226   \n",
       "1  2017-01-02 23:30:00   226  SCEL  KMIA   AAL  2017-01-02 23:39:00   226   \n",
       "2  2017-01-03 23:30:00   226  SCEL  KMIA   AAL  2017-01-03 23:39:00   226   \n",
       "3  2017-01-04 23:30:00   226  SCEL  KMIA   AAL  2017-01-04 23:33:00   226   \n",
       "4  2017-01-05 23:30:00   226  SCEL  KMIA   AAL  2017-01-05 23:28:00   226   \n",
       "\n",
       "  Ori-O Des-O Emp-O  DIA  MES   AÑO     DIANOM TIPOVUELO              OPERA  \\\n",
       "0  SCEL  KMIA   AAL    1    1  2017    Domingo         I  American Airlines   \n",
       "1  SCEL  KMIA   AAL    2    1  2017      Lunes         I  American Airlines   \n",
       "2  SCEL  KMIA   AAL    3    1  2017     Martes         I  American Airlines   \n",
       "3  SCEL  KMIA   AAL    4    1  2017  Miercoles         I  American Airlines   \n",
       "4  SCEL  KMIA   AAL    5    1  2017     Jueves         I  American Airlines   \n",
       "\n",
       "   SIGLAORI SIGLADES  \n",
       "0  Santiago    Miami  \n",
       "1  Santiago    Miami  \n",
       "2  Santiago    Miami  \n",
       "3  Santiago    Miami  \n",
       "4  Santiago    Miami  "
      ]
     },
     "execution_count": 5,
     "metadata": {},
     "output_type": "execute_result"
    }
   ],
   "source": [
    "#Reading the dataset and inputing in 'df_flights' variable\n",
    "#Viewing the top 5 rows to observe the columns and to make an initial analysis of data\n",
    "\n",
    "df_flights = pd.read_csv('dataset_SCL.csv', sep=',', low_memory=False)\n",
    "df_flights.head(5)"
   ]
  },
  {
   "cell_type": "code",
   "execution_count": 6,
   "id": "30a7cb72",
   "metadata": {
    "ExecuteTime": {
     "end_time": "2023-04-05T02:36:23.649103Z",
     "start_time": "2023-04-05T02:36:23.602093Z"
    },
    "scrolled": false
   },
   "outputs": [
    {
     "name": "stdout",
     "output_type": "stream",
     "text": [
      "<class 'pandas.core.frame.DataFrame'>\n",
      "RangeIndex: 68206 entries, 0 to 68205\n",
      "Data columns (total 18 columns):\n",
      " #   Column     Non-Null Count  Dtype \n",
      "---  ------     --------------  ----- \n",
      " 0   Fecha-I    68206 non-null  object\n",
      " 1   Vlo-I      68206 non-null  object\n",
      " 2   Ori-I      68206 non-null  object\n",
      " 3   Des-I      68206 non-null  object\n",
      " 4   Emp-I      68206 non-null  object\n",
      " 5   Fecha-O    68206 non-null  object\n",
      " 6   Vlo-O      68205 non-null  object\n",
      " 7   Ori-O      68206 non-null  object\n",
      " 8   Des-O      68206 non-null  object\n",
      " 9   Emp-O      68206 non-null  object\n",
      " 10  DIA        68206 non-null  int64 \n",
      " 11  MES        68206 non-null  int64 \n",
      " 12  AÑO        68206 non-null  int64 \n",
      " 13  DIANOM     68206 non-null  object\n",
      " 14  TIPOVUELO  68206 non-null  object\n",
      " 15  OPERA      68206 non-null  object\n",
      " 16  SIGLAORI   68206 non-null  object\n",
      " 17  SIGLADES   68206 non-null  object\n",
      "dtypes: int64(3), object(15)\n",
      "memory usage: 9.4+ MB\n"
     ]
    }
   ],
   "source": [
    "#Verify the variables type and if there's any null information in df_flights\n",
    "\n",
    "df_flights.info()"
   ]
  },
  {
   "cell_type": "code",
   "execution_count": 7,
   "id": "8c6edc0f",
   "metadata": {
    "ExecuteTime": {
     "end_time": "2023-04-05T02:36:23.697114Z",
     "start_time": "2023-04-05T02:36:23.650103Z"
    }
   },
   "outputs": [
    {
     "data": {
      "text/plain": [
       "Fecha-I      0\n",
       "Vlo-I        0\n",
       "Ori-I        0\n",
       "Des-I        0\n",
       "Emp-I        0\n",
       "Fecha-O      0\n",
       "Vlo-O        1\n",
       "Ori-O        0\n",
       "Des-O        0\n",
       "Emp-O        0\n",
       "DIA          0\n",
       "MES          0\n",
       "AÑO          0\n",
       "DIANOM       0\n",
       "TIPOVUELO    0\n",
       "OPERA        0\n",
       "SIGLAORI     0\n",
       "SIGLADES     0\n",
       "dtype: int64"
      ]
     },
     "execution_count": 7,
     "metadata": {},
     "output_type": "execute_result"
    }
   ],
   "source": [
    "#Printing a better way to see null occurrences\n",
    "#There's one occurrence at 'Vlo-O' variable\n",
    "\n",
    "df_flights.isnull().sum()"
   ]
  },
  {
   "cell_type": "code",
   "execution_count": 8,
   "id": "a10b5917",
   "metadata": {
    "ExecuteTime": {
     "end_time": "2023-04-05T02:36:23.713118Z",
     "start_time": "2023-04-05T02:36:23.699115Z"
    }
   },
   "outputs": [
    {
     "data": {
      "text/html": [
       "<div>\n",
       "<style scoped>\n",
       "    .dataframe tbody tr th:only-of-type {\n",
       "        vertical-align: middle;\n",
       "    }\n",
       "\n",
       "    .dataframe tbody tr th {\n",
       "        vertical-align: top;\n",
       "    }\n",
       "\n",
       "    .dataframe thead th {\n",
       "        text-align: right;\n",
       "    }\n",
       "</style>\n",
       "<table border=\"1\" class=\"dataframe\">\n",
       "  <thead>\n",
       "    <tr style=\"text-align: right;\">\n",
       "      <th></th>\n",
       "      <th>Fecha-I</th>\n",
       "      <th>Vlo-I</th>\n",
       "      <th>Ori-I</th>\n",
       "      <th>Des-I</th>\n",
       "      <th>Emp-I</th>\n",
       "      <th>Fecha-O</th>\n",
       "      <th>Vlo-O</th>\n",
       "      <th>Ori-O</th>\n",
       "      <th>Des-O</th>\n",
       "      <th>Emp-O</th>\n",
       "      <th>DIA</th>\n",
       "      <th>MES</th>\n",
       "      <th>AÑO</th>\n",
       "      <th>DIANOM</th>\n",
       "      <th>TIPOVUELO</th>\n",
       "      <th>OPERA</th>\n",
       "      <th>SIGLAORI</th>\n",
       "      <th>SIGLADES</th>\n",
       "    </tr>\n",
       "  </thead>\n",
       "  <tbody>\n",
       "  </tbody>\n",
       "</table>\n",
       "</div>"
      ],
      "text/plain": [
       "Empty DataFrame\n",
       "Columns: [Fecha-I, Vlo-I, Ori-I, Des-I, Emp-I, Fecha-O, Vlo-O, Ori-O, Des-O, Emp-O, DIA, MES, AÑO, DIANOM, TIPOVUELO, OPERA, SIGLAORI, SIGLADES]\n",
       "Index: []"
      ]
     },
     "execution_count": 8,
     "metadata": {},
     "output_type": "execute_result"
    }
   ],
   "source": [
    "#Looking the data in the row where 'Vlo-O' is null\n",
    "#There's nothing anymore\n",
    "\n",
    "df_flights[df_flights['Vlo-O'] == np.nan]"
   ]
  },
  {
   "cell_type": "code",
   "execution_count": 9,
   "id": "2026b610",
   "metadata": {
    "ExecuteTime": {
     "end_time": "2023-04-05T02:36:23.761128Z",
     "start_time": "2023-04-05T02:36:23.714117Z"
    }
   },
   "outputs": [],
   "source": [
    "#Dropping the row where there's null data\n",
    "\n",
    "df_flights = df_flights.dropna()"
   ]
  },
  {
   "cell_type": "code",
   "execution_count": 10,
   "id": "def0e8c2",
   "metadata": {
    "ExecuteTime": {
     "end_time": "2023-04-05T02:36:23.809139Z",
     "start_time": "2023-04-05T02:36:23.762129Z"
    }
   },
   "outputs": [
    {
     "data": {
      "text/plain": [
       "Fecha-I      0\n",
       "Vlo-I        0\n",
       "Ori-I        0\n",
       "Des-I        0\n",
       "Emp-I        0\n",
       "Fecha-O      0\n",
       "Vlo-O        0\n",
       "Ori-O        0\n",
       "Des-O        0\n",
       "Emp-O        0\n",
       "DIA          0\n",
       "MES          0\n",
       "AÑO          0\n",
       "DIANOM       0\n",
       "TIPOVUELO    0\n",
       "OPERA        0\n",
       "SIGLAORI     0\n",
       "SIGLADES     0\n",
       "dtype: int64"
      ]
     },
     "execution_count": 10,
     "metadata": {},
     "output_type": "execute_result"
    }
   ],
   "source": [
    "#Verify if there's still any null information in df_flights\n",
    "#Now, we have no null case\n",
    "\n",
    "df_flights.isnull().sum()"
   ]
  },
  {
   "cell_type": "markdown",
   "id": "07122af2",
   "metadata": {},
   "source": [
    "Observing unique occurrences of values in each column.\n",
    "\n",
    "We have:\n",
    "- 64 Des-I and 63 Des-O\n",
    "- 62 SIGLADES\n",
    "- 2 AÑO\n"
   ]
  },
  {
   "cell_type": "code",
   "execution_count": 11,
   "id": "c84b2b6e",
   "metadata": {
    "ExecuteTime": {
     "end_time": "2023-04-05T02:36:23.873153Z",
     "start_time": "2023-04-05T02:36:23.810139Z"
    }
   },
   "outputs": [
    {
     "data": {
      "text/plain": [
       "Fecha-I      53252\n",
       "Vlo-I          584\n",
       "Ori-I            1\n",
       "Des-I           64\n",
       "Emp-I           30\n",
       "Fecha-O      62774\n",
       "Vlo-O          861\n",
       "Ori-O            1\n",
       "Des-O           63\n",
       "Emp-O           32\n",
       "DIA             31\n",
       "MES             12\n",
       "AÑO              2\n",
       "DIANOM           7\n",
       "TIPOVUELO        2\n",
       "OPERA           23\n",
       "SIGLAORI         1\n",
       "SIGLADES        62\n",
       "dtype: int64"
      ]
     },
     "execution_count": 11,
     "metadata": {},
     "output_type": "execute_result"
    }
   ],
   "source": [
    "#Printing unique occurrences of values in each column.\n",
    "\n",
    "df_flights.nunique()"
   ]
  },
  {
   "cell_type": "markdown",
   "id": "c7c61e62",
   "metadata": {},
   "source": [
    "Looking to 'SIGLADES', there're less cities than 'Des' (airport). \\\n",
    "Probably because one city can have more than one airport."
   ]
  },
  {
   "cell_type": "code",
   "execution_count": 12,
   "id": "b368b7a7",
   "metadata": {
    "ExecuteTime": {
     "end_time": "2023-04-05T02:36:23.889157Z",
     "start_time": "2023-04-05T02:36:23.874154Z"
    }
   },
   "outputs": [
    {
     "name": "stdout",
     "output_type": "stream",
     "text": [
      "['Miami' 'Dallas' 'Buenos Aires' 'Toronto' 'Paris' 'Ciudad de Mexico'\n",
      " 'Bogota' 'Roma' 'Londres' 'Ciudad de Panama' 'Atlanta' 'Sao Paulo'\n",
      " 'Rio de Janeiro' 'Florianapolis' 'Madrid' 'Lima' 'Sydney' 'Houston'\n",
      " 'Asuncion' 'Cataratas Iguacu' 'Puerto Montt' 'Punta Arenas'\n",
      " 'Puerto Natales' 'Balmaceda' 'Temuco' 'Valdivia' 'Concepcion' 'La Serena'\n",
      " 'Copiapo' 'Calama' 'Antofagasta' 'Iquique' 'Arica' 'Mendoza' 'Cordoba'\n",
      " 'Montevideo' 'Castro (Chiloe)' 'Osorno' 'Orlando' 'Nueva York'\n",
      " 'Guayaquil' 'Cancun' 'Punta Cana' 'Los Angeles' 'Auckland N.Z.'\n",
      " 'Isla de Pascua' 'La Paz' 'Santa Cruz' 'Curitiba, Bra.' 'Quito'\n",
      " 'Bariloche' 'Rosario' 'Washington' 'Tucuman' 'Melbourne' 'San Juan, Arg.'\n",
      " 'Neuquen' 'Pisco, Peru' 'Ushuia' 'Puerto Stanley' 'Punta del Este'\n",
      " 'Cochabamba']\n",
      "62\n"
     ]
    }
   ],
   "source": [
    "#Taking a look to unique SIGLADES registers and how many they are\n",
    "\n",
    "print(df_flights['SIGLADES'].unique())\n",
    "print(df_flights['SIGLADES'].nunique())"
   ]
  },
  {
   "cell_type": "markdown",
   "id": "101a41a2",
   "metadata": {},
   "source": [
    "There's one more Des-I than Des-O: it's SARI. \\\n",
    "Maybe SARI isn't at operational Destination list, because the line between SARI and SCL was deactivated.\n"
   ]
  },
  {
   "cell_type": "code",
   "execution_count": 13,
   "id": "f29a35f0",
   "metadata": {
    "ExecuteTime": {
     "end_time": "2023-04-05T02:36:23.905161Z",
     "start_time": "2023-04-05T02:36:23.890158Z"
    },
    "scrolled": true
   },
   "outputs": [
    {
     "name": "stdout",
     "output_type": "stream",
     "text": [
      "['KMIA' 'KDFW' 'SAEZ' 'CYYZ' 'LFPG' 'MMMX' 'SABE' 'SKBO' 'LIRF' 'EGLL'\n",
      " 'MPTO' 'KATL' 'SBGR' 'SBGL' 'SBFL' 'LEMD' 'SPJC' 'YSSY' 'KIAH' 'SGAS'\n",
      " 'SBFI' 'SCTE' 'SCCI' 'SCNT' 'SCBA' 'SCVD' 'SCQP' 'SCIE' 'SCSE' 'SCAT'\n",
      " 'SCCF' 'SCFA' 'SCDA' 'SCAR' 'SAME' 'SACO' 'SUMU' 'SCPQ' 'SCJO' 'KMCO'\n",
      " 'KJFK' 'SEGU' 'MMUN' 'MDPC' 'KLAX' 'NZAA' 'SCIP' 'SLLP' 'SLVR' 'SBCT'\n",
      " 'SEQM' 'SAZS' 'SAAR' 'SANT' 'YMML' 'SEQU' 'SANU' 'SAZN' 'SPSO' 'SAWH'\n",
      " 'EGYP' 'SULS' 'SLCB' 'SARI']\n",
      "64\n"
     ]
    }
   ],
   "source": [
    "#Looking to unique 'Des-I' registers and how many they are\n",
    "\n",
    "print(df_flights['Des-I'].unique())\n",
    "print(df_flights['Des-I'].nunique())"
   ]
  },
  {
   "cell_type": "code",
   "execution_count": 14,
   "id": "b65ba137",
   "metadata": {
    "ExecuteTime": {
     "end_time": "2023-04-05T02:36:23.921164Z",
     "start_time": "2023-04-05T02:36:23.906161Z"
    }
   },
   "outputs": [
    {
     "name": "stdout",
     "output_type": "stream",
     "text": [
      "['KMIA' 'KDFW' 'SAEZ' 'CYYZ' 'LFPG' 'MMMX' 'SABE' 'SKBO' 'LIRF' 'EGLL'\n",
      " 'MPTO' 'KATL' 'SBGR' 'SBGL' 'SBFL' 'LEMD' 'SPJC' 'YSSY' 'KIAH' 'SGAS'\n",
      " 'SBFI' 'SCTE' 'SCCI' 'SCNT' 'SCBA' 'SCQP' 'SCVD' 'SCIE' 'SCSE' 'SCAT'\n",
      " 'SCCF' 'SCFA' 'SCDA' 'SCAR' 'SAME' 'SACO' 'SUMU' 'SCPQ' 'SCJO' 'KMCO'\n",
      " 'KJFK' 'SEGU' 'MMUN' 'MDPC' 'KLAX' 'NZAA' 'SCIP' 'SLLP' 'SLVR' 'SBCT'\n",
      " 'SEQM' 'SAZS' 'SAAR' 'KIAD' 'SANT' 'YMML' 'SANU' 'SAZN' 'SPSO' 'SAWH'\n",
      " 'EGYP' 'SULS' 'SLCB']\n",
      "63\n"
     ]
    }
   ],
   "source": [
    "#Looking to unique 'Des-O' registers and how many they are\n",
    "\n",
    "print(df_flights['Des-O'].unique())\n",
    "print(df_flights['Des-O'].nunique())"
   ]
  },
  {
   "cell_type": "markdown",
   "id": "abfd08eb",
   "metadata": {},
   "source": [
    "There're two operational years on the dataset: 2017 and 2018. \\\n",
    "That's because some flights was programmed to occur in the last day of 2017, but occurred on 2018 because of some delay."
   ]
  },
  {
   "cell_type": "code",
   "execution_count": 15,
   "id": "9c9569b0",
   "metadata": {
    "ExecuteTime": {
     "end_time": "2023-04-05T02:36:23.937168Z",
     "start_time": "2023-04-05T02:36:23.922164Z"
    }
   },
   "outputs": [
    {
     "data": {
      "text/plain": [
       "array([2017, 2018], dtype=int64)"
      ]
     },
     "execution_count": 15,
     "metadata": {},
     "output_type": "execute_result"
    }
   ],
   "source": [
    "#Checking uniques values in 'AÑO'\n",
    "\n",
    "df_flights['AÑO'].unique()"
   ]
  },
  {
   "cell_type": "code",
   "execution_count": 16,
   "id": "bcf5f177",
   "metadata": {
    "ExecuteTime": {
     "end_time": "2023-04-05T02:36:23.953171Z",
     "start_time": "2023-04-05T02:36:23.938168Z"
    }
   },
   "outputs": [
    {
     "data": {
      "text/html": [
       "<div>\n",
       "<style scoped>\n",
       "    .dataframe tbody tr th:only-of-type {\n",
       "        vertical-align: middle;\n",
       "    }\n",
       "\n",
       "    .dataframe tbody tr th {\n",
       "        vertical-align: top;\n",
       "    }\n",
       "\n",
       "    .dataframe thead th {\n",
       "        text-align: right;\n",
       "    }\n",
       "</style>\n",
       "<table border=\"1\" class=\"dataframe\">\n",
       "  <thead>\n",
       "    <tr style=\"text-align: right;\">\n",
       "      <th></th>\n",
       "      <th>Fecha-I</th>\n",
       "      <th>Vlo-I</th>\n",
       "      <th>Ori-I</th>\n",
       "      <th>Des-I</th>\n",
       "      <th>Emp-I</th>\n",
       "      <th>Fecha-O</th>\n",
       "      <th>Vlo-O</th>\n",
       "      <th>Ori-O</th>\n",
       "      <th>Des-O</th>\n",
       "      <th>Emp-O</th>\n",
       "      <th>DIA</th>\n",
       "      <th>MES</th>\n",
       "      <th>AÑO</th>\n",
       "      <th>DIANOM</th>\n",
       "      <th>TIPOVUELO</th>\n",
       "      <th>OPERA</th>\n",
       "      <th>SIGLAORI</th>\n",
       "      <th>SIGLADES</th>\n",
       "    </tr>\n",
       "  </thead>\n",
       "  <tbody>\n",
       "    <tr>\n",
       "      <th>66918</th>\n",
       "      <td>2017-12-31 23:55:00</td>\n",
       "      <td>602</td>\n",
       "      <td>SCEL</td>\n",
       "      <td>KLAX</td>\n",
       "      <td>LAN</td>\n",
       "      <td>2018-01-01 00:02:00</td>\n",
       "      <td>602.0</td>\n",
       "      <td>SCEL</td>\n",
       "      <td>KLAX</td>\n",
       "      <td>LAN</td>\n",
       "      <td>1</td>\n",
       "      <td>1</td>\n",
       "      <td>2018</td>\n",
       "      <td>Lunes</td>\n",
       "      <td>I</td>\n",
       "      <td>Grupo LATAM</td>\n",
       "      <td>Santiago</td>\n",
       "      <td>Los Angeles</td>\n",
       "    </tr>\n",
       "    <tr>\n",
       "      <th>66947</th>\n",
       "      <td>2017-12-31 23:40:00</td>\n",
       "      <td>622</td>\n",
       "      <td>SCEL</td>\n",
       "      <td>MMMX</td>\n",
       "      <td>LAN</td>\n",
       "      <td>2018-01-01 00:12:00</td>\n",
       "      <td>622.0</td>\n",
       "      <td>SCEL</td>\n",
       "      <td>MMMX</td>\n",
       "      <td>LAN</td>\n",
       "      <td>1</td>\n",
       "      <td>1</td>\n",
       "      <td>2018</td>\n",
       "      <td>Lunes</td>\n",
       "      <td>I</td>\n",
       "      <td>Grupo LATAM</td>\n",
       "      <td>Santiago</td>\n",
       "      <td>Ciudad de Mexico</td>\n",
       "    </tr>\n",
       "  </tbody>\n",
       "</table>\n",
       "</div>"
      ],
      "text/plain": [
       "                   Fecha-I Vlo-I Ori-I Des-I Emp-I              Fecha-O  \\\n",
       "66918  2017-12-31 23:55:00   602  SCEL  KLAX   LAN  2018-01-01 00:02:00   \n",
       "66947  2017-12-31 23:40:00   622  SCEL  MMMX   LAN  2018-01-01 00:12:00   \n",
       "\n",
       "       Vlo-O Ori-O Des-O Emp-O  DIA  MES   AÑO DIANOM TIPOVUELO        OPERA  \\\n",
       "66918  602.0  SCEL  KLAX   LAN    1    1  2018  Lunes         I  Grupo LATAM   \n",
       "66947  622.0  SCEL  MMMX   LAN    1    1  2018  Lunes         I  Grupo LATAM   \n",
       "\n",
       "       SIGLAORI          SIGLADES  \n",
       "66918  Santiago       Los Angeles  \n",
       "66947  Santiago  Ciudad de Mexico  "
      ]
     },
     "execution_count": 16,
     "metadata": {},
     "output_type": "execute_result"
    }
   ],
   "source": [
    "#Looking to registers where 'AÑO' is 2018 to analysis what could occured\n",
    "\n",
    "df_flights[df_flights['AÑO'] == 2018]"
   ]
  },
  {
   "cell_type": "markdown",
   "id": "88beb8ba",
   "metadata": {},
   "source": [
    "### Analysis about frequency and relative frequency of different variables"
   ]
  },
  {
   "cell_type": "markdown",
   "id": "1a87c998",
   "metadata": {},
   "source": [
    "Looking at the distribuition of flights occurence over days of the week, we can observe that the most prefered day to travel are: Monday, Thursday and Friday. Probably, they're the favourite days to travel and enjoy the weekends and go back after.And maybe that's because the least favorite day to flight is Saturday. <br>\n",
    "In the Plotting, we can see a \"valley\" on Saturday flights occurrence."
   ]
  },
  {
   "cell_type": "code",
   "execution_count": 17,
   "id": "4fbd18a2",
   "metadata": {
    "ExecuteTime": {
     "end_time": "2023-04-05T02:36:23.969175Z",
     "start_time": "2023-04-05T02:36:23.954172Z"
    }
   },
   "outputs": [
    {
     "data": {
      "text/html": [
       "<div>\n",
       "<style scoped>\n",
       "    .dataframe tbody tr th:only-of-type {\n",
       "        vertical-align: middle;\n",
       "    }\n",
       "\n",
       "    .dataframe tbody tr th {\n",
       "        vertical-align: top;\n",
       "    }\n",
       "\n",
       "    .dataframe thead th {\n",
       "        text-align: right;\n",
       "    }\n",
       "</style>\n",
       "<table border=\"1\" class=\"dataframe\">\n",
       "  <thead>\n",
       "    <tr style=\"text-align: right;\">\n",
       "      <th></th>\n",
       "      <th>Day of Week</th>\n",
       "      <th>Frequency</th>\n",
       "      <th>Percent</th>\n",
       "    </tr>\n",
       "  </thead>\n",
       "  <tbody>\n",
       "    <tr>\n",
       "      <th>0</th>\n",
       "      <td>Viernes</td>\n",
       "      <td>10292</td>\n",
       "      <td>15.089803</td>\n",
       "    </tr>\n",
       "    <tr>\n",
       "      <th>1</th>\n",
       "      <td>Jueves</td>\n",
       "      <td>10250</td>\n",
       "      <td>15.028224</td>\n",
       "    </tr>\n",
       "    <tr>\n",
       "      <th>2</th>\n",
       "      <td>Lunes</td>\n",
       "      <td>10131</td>\n",
       "      <td>14.853750</td>\n",
       "    </tr>\n",
       "    <tr>\n",
       "      <th>3</th>\n",
       "      <td>Domingo</td>\n",
       "      <td>9796</td>\n",
       "      <td>14.362583</td>\n",
       "    </tr>\n",
       "    <tr>\n",
       "      <th>4</th>\n",
       "      <td>Miercoles</td>\n",
       "      <td>9722</td>\n",
       "      <td>14.254087</td>\n",
       "    </tr>\n",
       "    <tr>\n",
       "      <th>5</th>\n",
       "      <td>Martes</td>\n",
       "      <td>9662</td>\n",
       "      <td>14.166117</td>\n",
       "    </tr>\n",
       "    <tr>\n",
       "      <th>6</th>\n",
       "      <td>Sabado</td>\n",
       "      <td>8352</td>\n",
       "      <td>12.245437</td>\n",
       "    </tr>\n",
       "  </tbody>\n",
       "</table>\n",
       "</div>"
      ],
      "text/plain": [
       "  Day of Week  Frequency    Percent\n",
       "0     Viernes      10292  15.089803\n",
       "1      Jueves      10250  15.028224\n",
       "2       Lunes      10131  14.853750\n",
       "3     Domingo       9796  14.362583\n",
       "4   Miercoles       9722  14.254087\n",
       "5      Martes       9662  14.166117\n",
       "6      Sabado       8352  12.245437"
      ]
     },
     "execution_count": 17,
     "metadata": {},
     "output_type": "execute_result"
    }
   ],
   "source": [
    "#Flights Occurence and Percent by day of the week\n",
    "\n",
    "freq_day_week = df_flights['DIANOM'].value_counts()\n",
    "percent_day_week = df_flights['DIANOM'].value_counts(normalize=True) * 100\n",
    "\n",
    "df_flights_day_week = pd.DataFrame(\n",
    "    {\n",
    "        'Frequency':freq_day_week, 'Percent':percent_day_week\n",
    "    }).reset_index().rename(columns={'index':'Day of Week'})\n",
    "\n",
    "df_flights_day_week.sort_values('Frequency', ascending=False)"
   ]
  },
  {
   "cell_type": "code",
   "execution_count": 18,
   "id": "3e9c75b8",
   "metadata": {
    "ExecuteTime": {
     "end_time": "2023-04-05T02:36:24.113208Z",
     "start_time": "2023-04-05T02:36:23.970175Z"
    },
    "hide_input": false,
    "scrolled": true
   },
   "outputs": [
    {
     "data": {
      "text/plain": [
       "<AxesSubplot:xlabel='DIANOM', ylabel='count'>"
      ]
     },
     "execution_count": 18,
     "metadata": {},
     "output_type": "execute_result"
    },
    {
     "data": {
      "image/png": "[encoded data removed]",
      "text/plain": [
       "<Figure size 432x288 with 1 Axes>"
      ]
     },
     "metadata": {
      "needs_background": "light"
     },
     "output_type": "display_data"
    }
   ],
   "source": [
    "#Plotting a visualization to observe the flight levels across the week\n",
    "\n",
    "sns.countplot(data=df_flights, x = 'DIANOM', order=['Lunes', 'Martes', 'Miercoles', 'Jueves', 'Viernes', 'Sabado', 'Domingo'])"
   ]
  },
  {
   "cell_type": "markdown",
   "id": "f4bbc642",
   "metadata": {},
   "source": [
    "Talking about months of the year, we can see that December, January and November are the top 3 Months to flight. Probably because of Special Holidays or Vacations. In the Plotting, we can observe a visualy similar behavior on July and October."
   ]
  },
  {
   "cell_type": "code",
   "execution_count": 19,
   "id": "62516431",
   "metadata": {
    "ExecuteTime": {
     "end_time": "2023-04-05T02:36:24.129211Z",
     "start_time": "2023-04-05T02:36:24.114208Z"
    }
   },
   "outputs": [
    {
     "data": {
      "text/html": [
       "<div>\n",
       "<style scoped>\n",
       "    .dataframe tbody tr th:only-of-type {\n",
       "        vertical-align: middle;\n",
       "    }\n",
       "\n",
       "    .dataframe tbody tr th {\n",
       "        vertical-align: top;\n",
       "    }\n",
       "\n",
       "    .dataframe thead th {\n",
       "        text-align: right;\n",
       "    }\n",
       "</style>\n",
       "<table border=\"1\" class=\"dataframe\">\n",
       "  <thead>\n",
       "    <tr style=\"text-align: right;\">\n",
       "      <th></th>\n",
       "      <th>Month</th>\n",
       "      <th>Frequency</th>\n",
       "      <th>Percent</th>\n",
       "    </tr>\n",
       "  </thead>\n",
       "  <tbody>\n",
       "    <tr>\n",
       "      <th>0</th>\n",
       "      <td>12</td>\n",
       "      <td>6356</td>\n",
       "      <td>9.318965</td>\n",
       "    </tr>\n",
       "    <tr>\n",
       "      <th>1</th>\n",
       "      <td>1</td>\n",
       "      <td>6107</td>\n",
       "      <td>8.953889</td>\n",
       "    </tr>\n",
       "    <tr>\n",
       "      <th>2</th>\n",
       "      <td>11</td>\n",
       "      <td>6080</td>\n",
       "      <td>8.914302</td>\n",
       "    </tr>\n",
       "    <tr>\n",
       "      <th>3</th>\n",
       "      <td>10</td>\n",
       "      <td>6032</td>\n",
       "      <td>8.843926</td>\n",
       "    </tr>\n",
       "    <tr>\n",
       "      <th>4</th>\n",
       "      <td>7</td>\n",
       "      <td>5992</td>\n",
       "      <td>8.785280</td>\n",
       "    </tr>\n",
       "    <tr>\n",
       "      <th>5</th>\n",
       "      <td>8</td>\n",
       "      <td>5744</td>\n",
       "      <td>8.421670</td>\n",
       "    </tr>\n",
       "    <tr>\n",
       "      <th>6</th>\n",
       "      <td>9</td>\n",
       "      <td>5610</td>\n",
       "      <td>8.225203</td>\n",
       "    </tr>\n",
       "    <tr>\n",
       "      <th>7</th>\n",
       "      <td>2</td>\n",
       "      <td>5561</td>\n",
       "      <td>8.153361</td>\n",
       "    </tr>\n",
       "    <tr>\n",
       "      <th>8</th>\n",
       "      <td>3</td>\n",
       "      <td>5482</td>\n",
       "      <td>8.037534</td>\n",
       "    </tr>\n",
       "    <tr>\n",
       "      <th>9</th>\n",
       "      <td>5</td>\n",
       "      <td>5240</td>\n",
       "      <td>7.682721</td>\n",
       "    </tr>\n",
       "    <tr>\n",
       "      <th>10</th>\n",
       "      <td>4</td>\n",
       "      <td>5020</td>\n",
       "      <td>7.360164</td>\n",
       "    </tr>\n",
       "    <tr>\n",
       "      <th>11</th>\n",
       "      <td>6</td>\n",
       "      <td>4981</td>\n",
       "      <td>7.302984</td>\n",
       "    </tr>\n",
       "  </tbody>\n",
       "</table>\n",
       "</div>"
      ],
      "text/plain": [
       "    Month  Frequency   Percent\n",
       "0      12       6356  9.318965\n",
       "1       1       6107  8.953889\n",
       "2      11       6080  8.914302\n",
       "3      10       6032  8.843926\n",
       "4       7       5992  8.785280\n",
       "5       8       5744  8.421670\n",
       "6       9       5610  8.225203\n",
       "7       2       5561  8.153361\n",
       "8       3       5482  8.037534\n",
       "9       5       5240  7.682721\n",
       "10      4       5020  7.360164\n",
       "11      6       4981  7.302984"
      ]
     },
     "execution_count": 19,
     "metadata": {},
     "output_type": "execute_result"
    }
   ],
   "source": [
    "#Flights Occurence and Percent by month of the year\n",
    "\n",
    "freq_mes = df_flights['MES'].value_counts()\n",
    "percent_mes = df_flights['MES'].value_counts(normalize=True) * 100\n",
    "\n",
    "df_flights_month = pd.DataFrame(\n",
    "    {\n",
    "        'Frequency':freq_mes, 'Percent':percent_mes\n",
    "    }).reset_index().rename(columns={'index':'Month'})\n",
    "\n",
    "df_flights_month.sort_values('Frequency', ascending=False)"
   ]
  },
  {
   "cell_type": "code",
   "execution_count": 20,
   "id": "15eba103",
   "metadata": {
    "ExecuteTime": {
     "end_time": "2023-04-05T02:36:24.273243Z",
     "start_time": "2023-04-05T02:36:24.130211Z"
    },
    "scrolled": false
   },
   "outputs": [
    {
     "data": {
      "text/plain": [
       "<AxesSubplot:xlabel='MES', ylabel='count'>"
      ]
     },
     "execution_count": 20,
     "metadata": {},
     "output_type": "execute_result"
    },
    {
     "data": {
      "image/png": "[encoded data removed]",
      "text/plain": [
       "<Figure size 432x288 with 1 Axes>"
      ]
     },
     "metadata": {
      "needs_background": "light"
     },
     "output_type": "display_data"
    }
   ],
   "source": [
    "#Plotting a visualization to observe the occurrences across the year\n",
    "\n",
    "sns.countplot(data=df_flights, x = 'MES')#, palette='ch:.25')"
   ]
  },
  {
   "cell_type": "markdown",
   "id": "c9e0b067",
   "metadata": {},
   "source": [
    "About the type of flight, we can observe that most of them are National Flights (54.2 %).\n"
   ]
  },
  {
   "cell_type": "code",
   "execution_count": 21,
   "id": "8bc26fab",
   "metadata": {
    "ExecuteTime": {
     "end_time": "2023-04-05T02:36:24.289247Z",
     "start_time": "2023-04-05T02:36:24.274244Z"
    }
   },
   "outputs": [
    {
     "data": {
      "text/html": [
       "<div>\n",
       "<style scoped>\n",
       "    .dataframe tbody tr th:only-of-type {\n",
       "        vertical-align: middle;\n",
       "    }\n",
       "\n",
       "    .dataframe tbody tr th {\n",
       "        vertical-align: top;\n",
       "    }\n",
       "\n",
       "    .dataframe thead th {\n",
       "        text-align: right;\n",
       "    }\n",
       "</style>\n",
       "<table border=\"1\" class=\"dataframe\">\n",
       "  <thead>\n",
       "    <tr style=\"text-align: right;\">\n",
       "      <th></th>\n",
       "      <th>Flight</th>\n",
       "      <th>Frequency</th>\n",
       "      <th>Percent</th>\n",
       "    </tr>\n",
       "  </thead>\n",
       "  <tbody>\n",
       "    <tr>\n",
       "      <th>0</th>\n",
       "      <td>N</td>\n",
       "      <td>36966</td>\n",
       "      <td>54.198373</td>\n",
       "    </tr>\n",
       "    <tr>\n",
       "      <th>1</th>\n",
       "      <td>I</td>\n",
       "      <td>31239</td>\n",
       "      <td>45.801627</td>\n",
       "    </tr>\n",
       "  </tbody>\n",
       "</table>\n",
       "</div>"
      ],
      "text/plain": [
       "  Flight  Frequency    Percent\n",
       "0      N      36966  54.198373\n",
       "1      I      31239  45.801627"
      ]
     },
     "execution_count": 21,
     "metadata": {},
     "output_type": "execute_result"
    }
   ],
   "source": [
    "#Flights Occurence and Percent by type of flights\n",
    "\n",
    "freq_type_flight = df_flights['TIPOVUELO'].value_counts()\n",
    "percent_type_flight = df_flights['TIPOVUELO'].value_counts(normalize=True) * 100\n",
    "\n",
    "df_flights_type_flight = pd.DataFrame(\n",
    "    {\n",
    "        'Frequency':freq_type_flight, 'Percent':percent_type_flight\n",
    "    }).reset_index().rename(columns={'index':'Flight'})\n",
    "\n",
    "df_flights_type_flight.sort_values('Frequency', ascending=False)"
   ]
  },
  {
   "cell_type": "code",
   "execution_count": 22,
   "id": "2169e6db",
   "metadata": {
    "ExecuteTime": {
     "end_time": "2023-04-05T02:36:24.401272Z",
     "start_time": "2023-04-05T02:36:24.290247Z"
    }
   },
   "outputs": [
    {
     "data": {
      "text/plain": [
       "<AxesSubplot:xlabel='TIPOVUELO', ylabel='count'>"
      ]
     },
     "execution_count": 22,
     "metadata": {},
     "output_type": "execute_result"
    },
    {
     "data": {
      "image/png": "[encoded data removed]",
      "text/plain": [
       "<Figure size 432x288 with 1 Axes>"
      ]
     },
     "metadata": {
      "needs_background": "light"
     },
     "output_type": "display_data"
    }
   ],
   "source": [
    "#Plotting a visualization to observe the difference better\n",
    "\n",
    "sns.countplot(data=df_flights, x = 'TIPOVUELO')"
   ]
  },
  {
   "cell_type": "markdown",
   "id": "c0ecd1fd",
   "metadata": {},
   "source": [
    "Looking at the average of flight occurencer in each Type of Flight across the months, we can see that the predominance of national flights is over the year. Visually, at the plot, the discrepancy is higher in October, November and December."
   ]
  },
  {
   "cell_type": "code",
   "execution_count": 23,
   "id": "3ca8a918",
   "metadata": {
    "ExecuteTime": {
     "end_time": "2023-04-05T02:36:24.433279Z",
     "start_time": "2023-04-05T02:36:24.404273Z"
    }
   },
   "outputs": [],
   "source": [
    "#Calculating average occurence of each type of flights across each month of the year\n",
    "\n",
    "mean_data1 = df_flights.pivot_table(values='Fecha-I',index='MES',columns='TIPOVUELO', aggfunc=len)\n",
    "mean_data1 = mean_data1.reset_index()"
   ]
  },
  {
   "cell_type": "code",
   "execution_count": 24,
   "id": "22757c65",
   "metadata": {
    "ExecuteTime": {
     "end_time": "2023-04-05T02:36:25.537527Z",
     "start_time": "2023-04-05T02:36:24.435280Z"
    }
   },
   "outputs": [
    {
     "data": {
      "text/plain": [
       "<matplotlib.legend.Legend at 0x18bc592dc10>"
      ]
     },
     "execution_count": 24,
     "metadata": {},
     "output_type": "execute_result"
    },
    {
     "data": {
      "image/png": "[encoded data removed]",
      "text/plain": [
       "<Figure size 432x288 with 1 Axes>"
      ]
     },
     "metadata": {
      "needs_background": "light"
     },
     "output_type": "display_data"
    }
   ],
   "source": [
    "#Plotting a visualization of the calculated average across month\n",
    "\n",
    "ax2 = mean_data1.plot(x='MES', y=['I','N'], kind='bar',rot=0)\n",
    "ax2.legend(loc='upper center', bbox_to_anchor=(0.5, -0.15),fancybox=True, shadow=True, ncol=5)"
   ]
  },
  {
   "cell_type": "markdown",
   "id": "1a1368be",
   "metadata": {
    "ExecuteTime": {
     "end_time": "2023-04-04T23:00:10.680426Z",
     "start_time": "2023-04-04T23:00:10.673425Z"
    }
   },
   "source": [
    "Even the predominance of National Flights, the top 1 destination is Buenos Aires - Argentina. But, observing the top 5 flight destinations, we can see that 3 are chilean: Antofagasta, Calama and Puerto Montt."
   ]
  },
  {
   "cell_type": "code",
   "execution_count": 25,
   "id": "41ce24c5",
   "metadata": {
    "ExecuteTime": {
     "end_time": "2023-04-05T02:36:25.553531Z",
     "start_time": "2023-04-05T02:36:25.538528Z"
    }
   },
   "outputs": [
    {
     "data": {
      "text/html": [
       "<div>\n",
       "<style scoped>\n",
       "    .dataframe tbody tr th:only-of-type {\n",
       "        vertical-align: middle;\n",
       "    }\n",
       "\n",
       "    .dataframe tbody tr th {\n",
       "        vertical-align: top;\n",
       "    }\n",
       "\n",
       "    .dataframe thead th {\n",
       "        text-align: right;\n",
       "    }\n",
       "</style>\n",
       "<table border=\"1\" class=\"dataframe\">\n",
       "  <thead>\n",
       "    <tr style=\"text-align: right;\">\n",
       "      <th></th>\n",
       "      <th>City</th>\n",
       "      <th>Frequency</th>\n",
       "      <th>Percent</th>\n",
       "    </tr>\n",
       "  </thead>\n",
       "  <tbody>\n",
       "    <tr>\n",
       "      <th>0</th>\n",
       "      <td>Buenos Aires</td>\n",
       "      <td>6335</td>\n",
       "      <td>9.288175</td>\n",
       "    </tr>\n",
       "    <tr>\n",
       "      <th>1</th>\n",
       "      <td>Antofagasta</td>\n",
       "      <td>5786</td>\n",
       "      <td>8.483249</td>\n",
       "    </tr>\n",
       "    <tr>\n",
       "      <th>2</th>\n",
       "      <td>Lima</td>\n",
       "      <td>5269</td>\n",
       "      <td>7.725240</td>\n",
       "    </tr>\n",
       "    <tr>\n",
       "      <th>3</th>\n",
       "      <td>Calama</td>\n",
       "      <td>5146</td>\n",
       "      <td>7.544901</td>\n",
       "    </tr>\n",
       "    <tr>\n",
       "      <th>4</th>\n",
       "      <td>Puerto Montt</td>\n",
       "      <td>4357</td>\n",
       "      <td>6.388095</td>\n",
       "    </tr>\n",
       "  </tbody>\n",
       "</table>\n",
       "</div>"
      ],
      "text/plain": [
       "           City  Frequency   Percent\n",
       "0  Buenos Aires       6335  9.288175\n",
       "1   Antofagasta       5786  8.483249\n",
       "2          Lima       5269  7.725240\n",
       "3        Calama       5146  7.544901\n",
       "4  Puerto Montt       4357  6.388095"
      ]
     },
     "execution_count": 25,
     "metadata": {},
     "output_type": "execute_result"
    }
   ],
   "source": [
    "#Selecting the top 5 Flights Occurence and Percent by City Destination\n",
    "\n",
    "fred_dest_city = df_flights['SIGLADES'].value_counts()\n",
    "percent_dest_city = df_flights['SIGLADES'].value_counts(normalize=True)*100\n",
    "\n",
    "df_flights_city = pd.DataFrame(\n",
    "{\n",
    "    'Frequency':fred_dest_city, 'Percent':percent_dest_city\n",
    "}).reset_index().rename(columns={'index':'City'})\n",
    "\n",
    "df_flights_city.sort_values('Percent', ascending=False).head(5)"
   ]
  },
  {
   "cell_type": "markdown",
   "id": "2a3342dc",
   "metadata": {},
   "source": [
    "## Feature Engineering\n",
    "\n",
    "Generate the following additional columns. Please export them to a CSV file named synthetic_features.csv:<br></li>\n",
    "        <ol>\n",
    "            <li>high_season : 1 if Date-I is between Dec-15 and Mar-3, or Jul-15 and Jul-31, or Sep-11 and Sep-30, 0 otherwise</li>\n",
    "            <li>min_diff : difference in minutes between Date-O and Date-I</li>\n",
    "            <li>delay_15 : 1 if min_diff > 15, 0 if not</li>\n",
    "            <li>period_day : morning (between 5:00 and 11:59), afternoon (between 12:00 and 18:59) and night (between 19:00 and 4:59), based onDate-I</li>\n",
    "        </ol>\n"
   ]
  },
  {
   "cell_type": "code",
   "execution_count": 26,
   "id": "7ded55a9",
   "metadata": {
    "ExecuteTime": {
     "end_time": "2023-04-05T02:36:25.649553Z",
     "start_time": "2023-04-05T02:36:25.554531Z"
    }
   },
   "outputs": [],
   "source": [
    "#Fecha-I and Fecha-O are object type. \n",
    "#This code is to convert them to datetime, allowing to make data manipulations.\n",
    "\n",
    "df_flights['Fecha-I'] = pd.to_datetime(df_flights['Fecha-I'], errors='coerce')\n",
    "df_flights['Fecha-O'] = pd.to_datetime(df_flights['Fecha-O'], errors='coerce')"
   ]
  },
  {
   "cell_type": "markdown",
   "id": "676f8544",
   "metadata": {},
   "source": [
    "### high_season"
   ]
  },
  {
   "cell_type": "code",
   "execution_count": 27,
   "id": "26685973",
   "metadata": {
    "ExecuteTime": {
     "end_time": "2023-04-05T02:36:25.665556Z",
     "start_time": "2023-04-05T02:36:25.650553Z"
    }
   },
   "outputs": [],
   "source": [
    "#Function to categorize if a period is high season (1) or not (0).\n",
    "#Built regardless of the year.\n",
    "\n",
    "def high_season(date):\n",
    "    #Dec-15 and Mar-3 was split in three parts\n",
    "    #Dates between Dec-15 and Dec-31, in other words after Dec-15 \n",
    "    if date.month == 12 and date.day >= 15:\n",
    "        return 1\n",
    "    #Dates that are in January or February\n",
    "    elif date.month == 1 or date.month == 2:\n",
    "        return 1\n",
    "    #Dates before Mar-3 \n",
    "    elif date.month == 3 and date.day <= 3:\n",
    "        return 1\n",
    "    #Between Jul-15 and Jul-31 is, in other words, after Jul-15\n",
    "    elif date.month == 7 and date.day >= 15:\n",
    "        return 1\n",
    "    #Between Sep-11 and Sep-30, in other words, after Jul-15\n",
    "    elif date.month == 9 and date.day >= 11:\n",
    "        return 1\n",
    "    #Otherwise, it isn't high season\n",
    "    else:\n",
    "        return 0"
   ]
  },
  {
   "cell_type": "code",
   "execution_count": 28,
   "id": "b2fd8d8f",
   "metadata": {
    "ExecuteTime": {
     "end_time": "2023-04-05T02:36:26.509746Z",
     "start_time": "2023-04-05T02:36:25.666557Z"
    }
   },
   "outputs": [
    {
     "data": {
      "text/html": [
       "<div>\n",
       "<style scoped>\n",
       "    .dataframe tbody tr th:only-of-type {\n",
       "        vertical-align: middle;\n",
       "    }\n",
       "\n",
       "    .dataframe tbody tr th {\n",
       "        vertical-align: top;\n",
       "    }\n",
       "\n",
       "    .dataframe thead th {\n",
       "        text-align: right;\n",
       "    }\n",
       "</style>\n",
       "<table border=\"1\" class=\"dataframe\">\n",
       "  <thead>\n",
       "    <tr style=\"text-align: right;\">\n",
       "      <th></th>\n",
       "      <th>Fecha-I</th>\n",
       "      <th>Vlo-I</th>\n",
       "      <th>Ori-I</th>\n",
       "      <th>Des-I</th>\n",
       "      <th>Emp-I</th>\n",
       "      <th>Fecha-O</th>\n",
       "      <th>Vlo-O</th>\n",
       "      <th>Ori-O</th>\n",
       "      <th>Des-O</th>\n",
       "      <th>Emp-O</th>\n",
       "      <th>DIA</th>\n",
       "      <th>MES</th>\n",
       "      <th>AÑO</th>\n",
       "      <th>DIANOM</th>\n",
       "      <th>TIPOVUELO</th>\n",
       "      <th>OPERA</th>\n",
       "      <th>SIGLAORI</th>\n",
       "      <th>SIGLADES</th>\n",
       "      <th>high_season</th>\n",
       "    </tr>\n",
       "  </thead>\n",
       "  <tbody>\n",
       "    <tr>\n",
       "      <th>0</th>\n",
       "      <td>2017-01-01 23:30:00</td>\n",
       "      <td>226</td>\n",
       "      <td>SCEL</td>\n",
       "      <td>KMIA</td>\n",
       "      <td>AAL</td>\n",
       "      <td>2017-01-01 23:33:00</td>\n",
       "      <td>226</td>\n",
       "      <td>SCEL</td>\n",
       "      <td>KMIA</td>\n",
       "      <td>AAL</td>\n",
       "      <td>1</td>\n",
       "      <td>1</td>\n",
       "      <td>2017</td>\n",
       "      <td>Domingo</td>\n",
       "      <td>I</td>\n",
       "      <td>American Airlines</td>\n",
       "      <td>Santiago</td>\n",
       "      <td>Miami</td>\n",
       "      <td>1</td>\n",
       "    </tr>\n",
       "    <tr>\n",
       "      <th>1</th>\n",
       "      <td>2017-01-02 23:30:00</td>\n",
       "      <td>226</td>\n",
       "      <td>SCEL</td>\n",
       "      <td>KMIA</td>\n",
       "      <td>AAL</td>\n",
       "      <td>2017-01-02 23:39:00</td>\n",
       "      <td>226</td>\n",
       "      <td>SCEL</td>\n",
       "      <td>KMIA</td>\n",
       "      <td>AAL</td>\n",
       "      <td>2</td>\n",
       "      <td>1</td>\n",
       "      <td>2017</td>\n",
       "      <td>Lunes</td>\n",
       "      <td>I</td>\n",
       "      <td>American Airlines</td>\n",
       "      <td>Santiago</td>\n",
       "      <td>Miami</td>\n",
       "      <td>1</td>\n",
       "    </tr>\n",
       "    <tr>\n",
       "      <th>2</th>\n",
       "      <td>2017-01-03 23:30:00</td>\n",
       "      <td>226</td>\n",
       "      <td>SCEL</td>\n",
       "      <td>KMIA</td>\n",
       "      <td>AAL</td>\n",
       "      <td>2017-01-03 23:39:00</td>\n",
       "      <td>226</td>\n",
       "      <td>SCEL</td>\n",
       "      <td>KMIA</td>\n",
       "      <td>AAL</td>\n",
       "      <td>3</td>\n",
       "      <td>1</td>\n",
       "      <td>2017</td>\n",
       "      <td>Martes</td>\n",
       "      <td>I</td>\n",
       "      <td>American Airlines</td>\n",
       "      <td>Santiago</td>\n",
       "      <td>Miami</td>\n",
       "      <td>1</td>\n",
       "    </tr>\n",
       "    <tr>\n",
       "      <th>3</th>\n",
       "      <td>2017-01-04 23:30:00</td>\n",
       "      <td>226</td>\n",
       "      <td>SCEL</td>\n",
       "      <td>KMIA</td>\n",
       "      <td>AAL</td>\n",
       "      <td>2017-01-04 23:33:00</td>\n",
       "      <td>226</td>\n",
       "      <td>SCEL</td>\n",
       "      <td>KMIA</td>\n",
       "      <td>AAL</td>\n",
       "      <td>4</td>\n",
       "      <td>1</td>\n",
       "      <td>2017</td>\n",
       "      <td>Miercoles</td>\n",
       "      <td>I</td>\n",
       "      <td>American Airlines</td>\n",
       "      <td>Santiago</td>\n",
       "      <td>Miami</td>\n",
       "      <td>1</td>\n",
       "    </tr>\n",
       "    <tr>\n",
       "      <th>4</th>\n",
       "      <td>2017-01-05 23:30:00</td>\n",
       "      <td>226</td>\n",
       "      <td>SCEL</td>\n",
       "      <td>KMIA</td>\n",
       "      <td>AAL</td>\n",
       "      <td>2017-01-05 23:28:00</td>\n",
       "      <td>226</td>\n",
       "      <td>SCEL</td>\n",
       "      <td>KMIA</td>\n",
       "      <td>AAL</td>\n",
       "      <td>5</td>\n",
       "      <td>1</td>\n",
       "      <td>2017</td>\n",
       "      <td>Jueves</td>\n",
       "      <td>I</td>\n",
       "      <td>American Airlines</td>\n",
       "      <td>Santiago</td>\n",
       "      <td>Miami</td>\n",
       "      <td>1</td>\n",
       "    </tr>\n",
       "  </tbody>\n",
       "</table>\n",
       "</div>"
      ],
      "text/plain": [
       "              Fecha-I Vlo-I Ori-I Des-I Emp-I             Fecha-O Vlo-O Ori-O  \\\n",
       "0 2017-01-01 23:30:00   226  SCEL  KMIA   AAL 2017-01-01 23:33:00   226  SCEL   \n",
       "1 2017-01-02 23:30:00   226  SCEL  KMIA   AAL 2017-01-02 23:39:00   226  SCEL   \n",
       "2 2017-01-03 23:30:00   226  SCEL  KMIA   AAL 2017-01-03 23:39:00   226  SCEL   \n",
       "3 2017-01-04 23:30:00   226  SCEL  KMIA   AAL 2017-01-04 23:33:00   226  SCEL   \n",
       "4 2017-01-05 23:30:00   226  SCEL  KMIA   AAL 2017-01-05 23:28:00   226  SCEL   \n",
       "\n",
       "  Des-O Emp-O  DIA  MES   AÑO     DIANOM TIPOVUELO              OPERA  \\\n",
       "0  KMIA   AAL    1    1  2017    Domingo         I  American Airlines   \n",
       "1  KMIA   AAL    2    1  2017      Lunes         I  American Airlines   \n",
       "2  KMIA   AAL    3    1  2017     Martes         I  American Airlines   \n",
       "3  KMIA   AAL    4    1  2017  Miercoles         I  American Airlines   \n",
       "4  KMIA   AAL    5    1  2017     Jueves         I  American Airlines   \n",
       "\n",
       "   SIGLAORI SIGLADES  high_season  \n",
       "0  Santiago    Miami            1  \n",
       "1  Santiago    Miami            1  \n",
       "2  Santiago    Miami            1  \n",
       "3  Santiago    Miami            1  \n",
       "4  Santiago    Miami            1  "
      ]
     },
     "execution_count": 28,
     "metadata": {},
     "output_type": "execute_result"
    }
   ],
   "source": [
    "#Apply the function 'high_season' to each row in 'df_flights', based on 'Fecha-I'\n",
    "\n",
    "df_flights['high_season'] = df_flights.apply(lambda x : high_season(x['Fecha-I']), axis=1)\n",
    "df_flights.head(5)"
   ]
  },
  {
   "cell_type": "markdown",
   "id": "0c5830a9",
   "metadata": {},
   "source": [
    "### min_diff"
   ]
  },
  {
   "cell_type": "code",
   "execution_count": 29,
   "id": "f8263ad7",
   "metadata": {
    "ExecuteTime": {
     "end_time": "2023-04-05T02:36:26.541753Z",
     "start_time": "2023-04-05T02:36:26.510746Z"
    }
   },
   "outputs": [
    {
     "data": {
      "text/html": [
       "<div>\n",
       "<style scoped>\n",
       "    .dataframe tbody tr th:only-of-type {\n",
       "        vertical-align: middle;\n",
       "    }\n",
       "\n",
       "    .dataframe tbody tr th {\n",
       "        vertical-align: top;\n",
       "    }\n",
       "\n",
       "    .dataframe thead th {\n",
       "        text-align: right;\n",
       "    }\n",
       "</style>\n",
       "<table border=\"1\" class=\"dataframe\">\n",
       "  <thead>\n",
       "    <tr style=\"text-align: right;\">\n",
       "      <th></th>\n",
       "      <th>Fecha-I</th>\n",
       "      <th>Vlo-I</th>\n",
       "      <th>Ori-I</th>\n",
       "      <th>Des-I</th>\n",
       "      <th>Emp-I</th>\n",
       "      <th>Fecha-O</th>\n",
       "      <th>Vlo-O</th>\n",
       "      <th>Ori-O</th>\n",
       "      <th>Des-O</th>\n",
       "      <th>Emp-O</th>\n",
       "      <th>DIA</th>\n",
       "      <th>MES</th>\n",
       "      <th>AÑO</th>\n",
       "      <th>DIANOM</th>\n",
       "      <th>TIPOVUELO</th>\n",
       "      <th>OPERA</th>\n",
       "      <th>SIGLAORI</th>\n",
       "      <th>SIGLADES</th>\n",
       "      <th>high_season</th>\n",
       "      <th>min_diff</th>\n",
       "    </tr>\n",
       "  </thead>\n",
       "  <tbody>\n",
       "    <tr>\n",
       "      <th>0</th>\n",
       "      <td>2017-01-01 23:30:00</td>\n",
       "      <td>226</td>\n",
       "      <td>SCEL</td>\n",
       "      <td>KMIA</td>\n",
       "      <td>AAL</td>\n",
       "      <td>2017-01-01 23:33:00</td>\n",
       "      <td>226</td>\n",
       "      <td>SCEL</td>\n",
       "      <td>KMIA</td>\n",
       "      <td>AAL</td>\n",
       "      <td>1</td>\n",
       "      <td>1</td>\n",
       "      <td>2017</td>\n",
       "      <td>Domingo</td>\n",
       "      <td>I</td>\n",
       "      <td>American Airlines</td>\n",
       "      <td>Santiago</td>\n",
       "      <td>Miami</td>\n",
       "      <td>1</td>\n",
       "      <td>3.0</td>\n",
       "    </tr>\n",
       "    <tr>\n",
       "      <th>1</th>\n",
       "      <td>2017-01-02 23:30:00</td>\n",
       "      <td>226</td>\n",
       "      <td>SCEL</td>\n",
       "      <td>KMIA</td>\n",
       "      <td>AAL</td>\n",
       "      <td>2017-01-02 23:39:00</td>\n",
       "      <td>226</td>\n",
       "      <td>SCEL</td>\n",
       "      <td>KMIA</td>\n",
       "      <td>AAL</td>\n",
       "      <td>2</td>\n",
       "      <td>1</td>\n",
       "      <td>2017</td>\n",
       "      <td>Lunes</td>\n",
       "      <td>I</td>\n",
       "      <td>American Airlines</td>\n",
       "      <td>Santiago</td>\n",
       "      <td>Miami</td>\n",
       "      <td>1</td>\n",
       "      <td>9.0</td>\n",
       "    </tr>\n",
       "    <tr>\n",
       "      <th>2</th>\n",
       "      <td>2017-01-03 23:30:00</td>\n",
       "      <td>226</td>\n",
       "      <td>SCEL</td>\n",
       "      <td>KMIA</td>\n",
       "      <td>AAL</td>\n",
       "      <td>2017-01-03 23:39:00</td>\n",
       "      <td>226</td>\n",
       "      <td>SCEL</td>\n",
       "      <td>KMIA</td>\n",
       "      <td>AAL</td>\n",
       "      <td>3</td>\n",
       "      <td>1</td>\n",
       "      <td>2017</td>\n",
       "      <td>Martes</td>\n",
       "      <td>I</td>\n",
       "      <td>American Airlines</td>\n",
       "      <td>Santiago</td>\n",
       "      <td>Miami</td>\n",
       "      <td>1</td>\n",
       "      <td>9.0</td>\n",
       "    </tr>\n",
       "    <tr>\n",
       "      <th>3</th>\n",
       "      <td>2017-01-04 23:30:00</td>\n",
       "      <td>226</td>\n",
       "      <td>SCEL</td>\n",
       "      <td>KMIA</td>\n",
       "      <td>AAL</td>\n",
       "      <td>2017-01-04 23:33:00</td>\n",
       "      <td>226</td>\n",
       "      <td>SCEL</td>\n",
       "      <td>KMIA</td>\n",
       "      <td>AAL</td>\n",
       "      <td>4</td>\n",
       "      <td>1</td>\n",
       "      <td>2017</td>\n",
       "      <td>Miercoles</td>\n",
       "      <td>I</td>\n",
       "      <td>American Airlines</td>\n",
       "      <td>Santiago</td>\n",
       "      <td>Miami</td>\n",
       "      <td>1</td>\n",
       "      <td>3.0</td>\n",
       "    </tr>\n",
       "    <tr>\n",
       "      <th>4</th>\n",
       "      <td>2017-01-05 23:30:00</td>\n",
       "      <td>226</td>\n",
       "      <td>SCEL</td>\n",
       "      <td>KMIA</td>\n",
       "      <td>AAL</td>\n",
       "      <td>2017-01-05 23:28:00</td>\n",
       "      <td>226</td>\n",
       "      <td>SCEL</td>\n",
       "      <td>KMIA</td>\n",
       "      <td>AAL</td>\n",
       "      <td>5</td>\n",
       "      <td>1</td>\n",
       "      <td>2017</td>\n",
       "      <td>Jueves</td>\n",
       "      <td>I</td>\n",
       "      <td>American Airlines</td>\n",
       "      <td>Santiago</td>\n",
       "      <td>Miami</td>\n",
       "      <td>1</td>\n",
       "      <td>-2.0</td>\n",
       "    </tr>\n",
       "    <tr>\n",
       "      <th>5</th>\n",
       "      <td>2017-01-06 23:30:00</td>\n",
       "      <td>226</td>\n",
       "      <td>SCEL</td>\n",
       "      <td>KMIA</td>\n",
       "      <td>AAL</td>\n",
       "      <td>2017-01-07 00:04:00</td>\n",
       "      <td>226</td>\n",
       "      <td>SCEL</td>\n",
       "      <td>KMIA</td>\n",
       "      <td>AAL</td>\n",
       "      <td>7</td>\n",
       "      <td>1</td>\n",
       "      <td>2017</td>\n",
       "      <td>Sabado</td>\n",
       "      <td>I</td>\n",
       "      <td>American Airlines</td>\n",
       "      <td>Santiago</td>\n",
       "      <td>Miami</td>\n",
       "      <td>1</td>\n",
       "      <td>34.0</td>\n",
       "    </tr>\n",
       "    <tr>\n",
       "      <th>6</th>\n",
       "      <td>2017-01-07 23:30:00</td>\n",
       "      <td>226</td>\n",
       "      <td>SCEL</td>\n",
       "      <td>KMIA</td>\n",
       "      <td>AAL</td>\n",
       "      <td>2017-01-07 23:25:00</td>\n",
       "      <td>226</td>\n",
       "      <td>SCEL</td>\n",
       "      <td>KMIA</td>\n",
       "      <td>AAL</td>\n",
       "      <td>7</td>\n",
       "      <td>1</td>\n",
       "      <td>2017</td>\n",
       "      <td>Sabado</td>\n",
       "      <td>I</td>\n",
       "      <td>American Airlines</td>\n",
       "      <td>Santiago</td>\n",
       "      <td>Miami</td>\n",
       "      <td>1</td>\n",
       "      <td>-5.0</td>\n",
       "    </tr>\n",
       "    <tr>\n",
       "      <th>7</th>\n",
       "      <td>2017-01-08 23:30:00</td>\n",
       "      <td>226</td>\n",
       "      <td>SCEL</td>\n",
       "      <td>KMIA</td>\n",
       "      <td>AAL</td>\n",
       "      <td>2017-01-08 23:25:00</td>\n",
       "      <td>226</td>\n",
       "      <td>SCEL</td>\n",
       "      <td>KMIA</td>\n",
       "      <td>AAL</td>\n",
       "      <td>8</td>\n",
       "      <td>1</td>\n",
       "      <td>2017</td>\n",
       "      <td>Domingo</td>\n",
       "      <td>I</td>\n",
       "      <td>American Airlines</td>\n",
       "      <td>Santiago</td>\n",
       "      <td>Miami</td>\n",
       "      <td>1</td>\n",
       "      <td>-5.0</td>\n",
       "    </tr>\n",
       "    <tr>\n",
       "      <th>8</th>\n",
       "      <td>2017-01-09 23:30:00</td>\n",
       "      <td>226</td>\n",
       "      <td>SCEL</td>\n",
       "      <td>KMIA</td>\n",
       "      <td>AAL</td>\n",
       "      <td>2017-01-10 00:10:00</td>\n",
       "      <td>226</td>\n",
       "      <td>SCEL</td>\n",
       "      <td>KMIA</td>\n",
       "      <td>AAL</td>\n",
       "      <td>10</td>\n",
       "      <td>1</td>\n",
       "      <td>2017</td>\n",
       "      <td>Martes</td>\n",
       "      <td>I</td>\n",
       "      <td>American Airlines</td>\n",
       "      <td>Santiago</td>\n",
       "      <td>Miami</td>\n",
       "      <td>1</td>\n",
       "      <td>40.0</td>\n",
       "    </tr>\n",
       "    <tr>\n",
       "      <th>9</th>\n",
       "      <td>2017-01-11 23:30:00</td>\n",
       "      <td>226</td>\n",
       "      <td>SCEL</td>\n",
       "      <td>KMIA</td>\n",
       "      <td>AAL</td>\n",
       "      <td>2017-01-12 00:39:00</td>\n",
       "      <td>226</td>\n",
       "      <td>SCEL</td>\n",
       "      <td>KMIA</td>\n",
       "      <td>AAL</td>\n",
       "      <td>12</td>\n",
       "      <td>1</td>\n",
       "      <td>2017</td>\n",
       "      <td>Jueves</td>\n",
       "      <td>I</td>\n",
       "      <td>American Airlines</td>\n",
       "      <td>Santiago</td>\n",
       "      <td>Miami</td>\n",
       "      <td>1</td>\n",
       "      <td>69.0</td>\n",
       "    </tr>\n",
       "  </tbody>\n",
       "</table>\n",
       "</div>"
      ],
      "text/plain": [
       "              Fecha-I Vlo-I Ori-I Des-I Emp-I             Fecha-O Vlo-O Ori-O  \\\n",
       "0 2017-01-01 23:30:00   226  SCEL  KMIA   AAL 2017-01-01 23:33:00   226  SCEL   \n",
       "1 2017-01-02 23:30:00   226  SCEL  KMIA   AAL 2017-01-02 23:39:00   226  SCEL   \n",
       "2 2017-01-03 23:30:00   226  SCEL  KMIA   AAL 2017-01-03 23:39:00   226  SCEL   \n",
       "3 2017-01-04 23:30:00   226  SCEL  KMIA   AAL 2017-01-04 23:33:00   226  SCEL   \n",
       "4 2017-01-05 23:30:00   226  SCEL  KMIA   AAL 2017-01-05 23:28:00   226  SCEL   \n",
       "5 2017-01-06 23:30:00   226  SCEL  KMIA   AAL 2017-01-07 00:04:00   226  SCEL   \n",
       "6 2017-01-07 23:30:00   226  SCEL  KMIA   AAL 2017-01-07 23:25:00   226  SCEL   \n",
       "7 2017-01-08 23:30:00   226  SCEL  KMIA   AAL 2017-01-08 23:25:00   226  SCEL   \n",
       "8 2017-01-09 23:30:00   226  SCEL  KMIA   AAL 2017-01-10 00:10:00   226  SCEL   \n",
       "9 2017-01-11 23:30:00   226  SCEL  KMIA   AAL 2017-01-12 00:39:00   226  SCEL   \n",
       "\n",
       "  Des-O Emp-O  DIA  MES   AÑO     DIANOM TIPOVUELO              OPERA  \\\n",
       "0  KMIA   AAL    1    1  2017    Domingo         I  American Airlines   \n",
       "1  KMIA   AAL    2    1  2017      Lunes         I  American Airlines   \n",
       "2  KMIA   AAL    3    1  2017     Martes         I  American Airlines   \n",
       "3  KMIA   AAL    4    1  2017  Miercoles         I  American Airlines   \n",
       "4  KMIA   AAL    5    1  2017     Jueves         I  American Airlines   \n",
       "5  KMIA   AAL    7    1  2017     Sabado         I  American Airlines   \n",
       "6  KMIA   AAL    7    1  2017     Sabado         I  American Airlines   \n",
       "7  KMIA   AAL    8    1  2017    Domingo         I  American Airlines   \n",
       "8  KMIA   AAL   10    1  2017     Martes         I  American Airlines   \n",
       "9  KMIA   AAL   12    1  2017     Jueves         I  American Airlines   \n",
       "\n",
       "   SIGLAORI SIGLADES  high_season  min_diff  \n",
       "0  Santiago    Miami            1       3.0  \n",
       "1  Santiago    Miami            1       9.0  \n",
       "2  Santiago    Miami            1       9.0  \n",
       "3  Santiago    Miami            1       3.0  \n",
       "4  Santiago    Miami            1      -2.0  \n",
       "5  Santiago    Miami            1      34.0  \n",
       "6  Santiago    Miami            1      -5.0  \n",
       "7  Santiago    Miami            1      -5.0  \n",
       "8  Santiago    Miami            1      40.0  \n",
       "9  Santiago    Miami            1      69.0  "
      ]
     },
     "execution_count": 29,
     "metadata": {},
     "output_type": "execute_result"
    }
   ],
   "source": [
    "#Calculating the difference in hours of 'Fecha-O' and 'Fecha-I'\n",
    "\n",
    "df_flights['min_diff'] = (df_flights['Fecha-O'] - df_flights['Fecha-I']).dt.total_seconds()/60\n",
    "df_flights.head(10)"
   ]
  },
  {
   "cell_type": "markdown",
   "id": "15688d6f",
   "metadata": {
    "ExecuteTime": {
     "end_time": "2023-04-04T23:15:11.574443Z",
     "start_time": "2023-04-04T23:15:11.566442Z"
    }
   },
   "source": [
    "### delay_15"
   ]
  },
  {
   "cell_type": "code",
   "execution_count": 30,
   "id": "5792084d",
   "metadata": {
    "ExecuteTime": {
     "end_time": "2023-04-05T02:36:27.421951Z",
     "start_time": "2023-04-05T02:36:26.542754Z"
    }
   },
   "outputs": [
    {
     "data": {
      "text/html": [
       "<div>\n",
       "<style scoped>\n",
       "    .dataframe tbody tr th:only-of-type {\n",
       "        vertical-align: middle;\n",
       "    }\n",
       "\n",
       "    .dataframe tbody tr th {\n",
       "        vertical-align: top;\n",
       "    }\n",
       "\n",
       "    .dataframe thead th {\n",
       "        text-align: right;\n",
       "    }\n",
       "</style>\n",
       "<table border=\"1\" class=\"dataframe\">\n",
       "  <thead>\n",
       "    <tr style=\"text-align: right;\">\n",
       "      <th></th>\n",
       "      <th>Fecha-I</th>\n",
       "      <th>Vlo-I</th>\n",
       "      <th>Ori-I</th>\n",
       "      <th>Des-I</th>\n",
       "      <th>Emp-I</th>\n",
       "      <th>Fecha-O</th>\n",
       "      <th>Vlo-O</th>\n",
       "      <th>Ori-O</th>\n",
       "      <th>Des-O</th>\n",
       "      <th>Emp-O</th>\n",
       "      <th>...</th>\n",
       "      <th>MES</th>\n",
       "      <th>AÑO</th>\n",
       "      <th>DIANOM</th>\n",
       "      <th>TIPOVUELO</th>\n",
       "      <th>OPERA</th>\n",
       "      <th>SIGLAORI</th>\n",
       "      <th>SIGLADES</th>\n",
       "      <th>high_season</th>\n",
       "      <th>min_diff</th>\n",
       "      <th>delay_15</th>\n",
       "    </tr>\n",
       "  </thead>\n",
       "  <tbody>\n",
       "    <tr>\n",
       "      <th>0</th>\n",
       "      <td>2017-01-01 23:30:00</td>\n",
       "      <td>226</td>\n",
       "      <td>SCEL</td>\n",
       "      <td>KMIA</td>\n",
       "      <td>AAL</td>\n",
       "      <td>2017-01-01 23:33:00</td>\n",
       "      <td>226</td>\n",
       "      <td>SCEL</td>\n",
       "      <td>KMIA</td>\n",
       "      <td>AAL</td>\n",
       "      <td>...</td>\n",
       "      <td>1</td>\n",
       "      <td>2017</td>\n",
       "      <td>Domingo</td>\n",
       "      <td>I</td>\n",
       "      <td>American Airlines</td>\n",
       "      <td>Santiago</td>\n",
       "      <td>Miami</td>\n",
       "      <td>1</td>\n",
       "      <td>3.0</td>\n",
       "      <td>0</td>\n",
       "    </tr>\n",
       "    <tr>\n",
       "      <th>1</th>\n",
       "      <td>2017-01-02 23:30:00</td>\n",
       "      <td>226</td>\n",
       "      <td>SCEL</td>\n",
       "      <td>KMIA</td>\n",
       "      <td>AAL</td>\n",
       "      <td>2017-01-02 23:39:00</td>\n",
       "      <td>226</td>\n",
       "      <td>SCEL</td>\n",
       "      <td>KMIA</td>\n",
       "      <td>AAL</td>\n",
       "      <td>...</td>\n",
       "      <td>1</td>\n",
       "      <td>2017</td>\n",
       "      <td>Lunes</td>\n",
       "      <td>I</td>\n",
       "      <td>American Airlines</td>\n",
       "      <td>Santiago</td>\n",
       "      <td>Miami</td>\n",
       "      <td>1</td>\n",
       "      <td>9.0</td>\n",
       "      <td>0</td>\n",
       "    </tr>\n",
       "    <tr>\n",
       "      <th>2</th>\n",
       "      <td>2017-01-03 23:30:00</td>\n",
       "      <td>226</td>\n",
       "      <td>SCEL</td>\n",
       "      <td>KMIA</td>\n",
       "      <td>AAL</td>\n",
       "      <td>2017-01-03 23:39:00</td>\n",
       "      <td>226</td>\n",
       "      <td>SCEL</td>\n",
       "      <td>KMIA</td>\n",
       "      <td>AAL</td>\n",
       "      <td>...</td>\n",
       "      <td>1</td>\n",
       "      <td>2017</td>\n",
       "      <td>Martes</td>\n",
       "      <td>I</td>\n",
       "      <td>American Airlines</td>\n",
       "      <td>Santiago</td>\n",
       "      <td>Miami</td>\n",
       "      <td>1</td>\n",
       "      <td>9.0</td>\n",
       "      <td>0</td>\n",
       "    </tr>\n",
       "    <tr>\n",
       "      <th>3</th>\n",
       "      <td>2017-01-04 23:30:00</td>\n",
       "      <td>226</td>\n",
       "      <td>SCEL</td>\n",
       "      <td>KMIA</td>\n",
       "      <td>AAL</td>\n",
       "      <td>2017-01-04 23:33:00</td>\n",
       "      <td>226</td>\n",
       "      <td>SCEL</td>\n",
       "      <td>KMIA</td>\n",
       "      <td>AAL</td>\n",
       "      <td>...</td>\n",
       "      <td>1</td>\n",
       "      <td>2017</td>\n",
       "      <td>Miercoles</td>\n",
       "      <td>I</td>\n",
       "      <td>American Airlines</td>\n",
       "      <td>Santiago</td>\n",
       "      <td>Miami</td>\n",
       "      <td>1</td>\n",
       "      <td>3.0</td>\n",
       "      <td>0</td>\n",
       "    </tr>\n",
       "    <tr>\n",
       "      <th>4</th>\n",
       "      <td>2017-01-05 23:30:00</td>\n",
       "      <td>226</td>\n",
       "      <td>SCEL</td>\n",
       "      <td>KMIA</td>\n",
       "      <td>AAL</td>\n",
       "      <td>2017-01-05 23:28:00</td>\n",
       "      <td>226</td>\n",
       "      <td>SCEL</td>\n",
       "      <td>KMIA</td>\n",
       "      <td>AAL</td>\n",
       "      <td>...</td>\n",
       "      <td>1</td>\n",
       "      <td>2017</td>\n",
       "      <td>Jueves</td>\n",
       "      <td>I</td>\n",
       "      <td>American Airlines</td>\n",
       "      <td>Santiago</td>\n",
       "      <td>Miami</td>\n",
       "      <td>1</td>\n",
       "      <td>-2.0</td>\n",
       "      <td>0</td>\n",
       "    </tr>\n",
       "    <tr>\n",
       "      <th>5</th>\n",
       "      <td>2017-01-06 23:30:00</td>\n",
       "      <td>226</td>\n",
       "      <td>SCEL</td>\n",
       "      <td>KMIA</td>\n",
       "      <td>AAL</td>\n",
       "      <td>2017-01-07 00:04:00</td>\n",
       "      <td>226</td>\n",
       "      <td>SCEL</td>\n",
       "      <td>KMIA</td>\n",
       "      <td>AAL</td>\n",
       "      <td>...</td>\n",
       "      <td>1</td>\n",
       "      <td>2017</td>\n",
       "      <td>Sabado</td>\n",
       "      <td>I</td>\n",
       "      <td>American Airlines</td>\n",
       "      <td>Santiago</td>\n",
       "      <td>Miami</td>\n",
       "      <td>1</td>\n",
       "      <td>34.0</td>\n",
       "      <td>1</td>\n",
       "    </tr>\n",
       "    <tr>\n",
       "      <th>6</th>\n",
       "      <td>2017-01-07 23:30:00</td>\n",
       "      <td>226</td>\n",
       "      <td>SCEL</td>\n",
       "      <td>KMIA</td>\n",
       "      <td>AAL</td>\n",
       "      <td>2017-01-07 23:25:00</td>\n",
       "      <td>226</td>\n",
       "      <td>SCEL</td>\n",
       "      <td>KMIA</td>\n",
       "      <td>AAL</td>\n",
       "      <td>...</td>\n",
       "      <td>1</td>\n",
       "      <td>2017</td>\n",
       "      <td>Sabado</td>\n",
       "      <td>I</td>\n",
       "      <td>American Airlines</td>\n",
       "      <td>Santiago</td>\n",
       "      <td>Miami</td>\n",
       "      <td>1</td>\n",
       "      <td>-5.0</td>\n",
       "      <td>0</td>\n",
       "    </tr>\n",
       "    <tr>\n",
       "      <th>7</th>\n",
       "      <td>2017-01-08 23:30:00</td>\n",
       "      <td>226</td>\n",
       "      <td>SCEL</td>\n",
       "      <td>KMIA</td>\n",
       "      <td>AAL</td>\n",
       "      <td>2017-01-08 23:25:00</td>\n",
       "      <td>226</td>\n",
       "      <td>SCEL</td>\n",
       "      <td>KMIA</td>\n",
       "      <td>AAL</td>\n",
       "      <td>...</td>\n",
       "      <td>1</td>\n",
       "      <td>2017</td>\n",
       "      <td>Domingo</td>\n",
       "      <td>I</td>\n",
       "      <td>American Airlines</td>\n",
       "      <td>Santiago</td>\n",
       "      <td>Miami</td>\n",
       "      <td>1</td>\n",
       "      <td>-5.0</td>\n",
       "      <td>0</td>\n",
       "    </tr>\n",
       "    <tr>\n",
       "      <th>8</th>\n",
       "      <td>2017-01-09 23:30:00</td>\n",
       "      <td>226</td>\n",
       "      <td>SCEL</td>\n",
       "      <td>KMIA</td>\n",
       "      <td>AAL</td>\n",
       "      <td>2017-01-10 00:10:00</td>\n",
       "      <td>226</td>\n",
       "      <td>SCEL</td>\n",
       "      <td>KMIA</td>\n",
       "      <td>AAL</td>\n",
       "      <td>...</td>\n",
       "      <td>1</td>\n",
       "      <td>2017</td>\n",
       "      <td>Martes</td>\n",
       "      <td>I</td>\n",
       "      <td>American Airlines</td>\n",
       "      <td>Santiago</td>\n",
       "      <td>Miami</td>\n",
       "      <td>1</td>\n",
       "      <td>40.0</td>\n",
       "      <td>1</td>\n",
       "    </tr>\n",
       "    <tr>\n",
       "      <th>9</th>\n",
       "      <td>2017-01-11 23:30:00</td>\n",
       "      <td>226</td>\n",
       "      <td>SCEL</td>\n",
       "      <td>KMIA</td>\n",
       "      <td>AAL</td>\n",
       "      <td>2017-01-12 00:39:00</td>\n",
       "      <td>226</td>\n",
       "      <td>SCEL</td>\n",
       "      <td>KMIA</td>\n",
       "      <td>AAL</td>\n",
       "      <td>...</td>\n",
       "      <td>1</td>\n",
       "      <td>2017</td>\n",
       "      <td>Jueves</td>\n",
       "      <td>I</td>\n",
       "      <td>American Airlines</td>\n",
       "      <td>Santiago</td>\n",
       "      <td>Miami</td>\n",
       "      <td>1</td>\n",
       "      <td>69.0</td>\n",
       "      <td>1</td>\n",
       "    </tr>\n",
       "  </tbody>\n",
       "</table>\n",
       "<p>10 rows × 21 columns</p>\n",
       "</div>"
      ],
      "text/plain": [
       "              Fecha-I Vlo-I Ori-I Des-I Emp-I             Fecha-O Vlo-O Ori-O  \\\n",
       "0 2017-01-01 23:30:00   226  SCEL  KMIA   AAL 2017-01-01 23:33:00   226  SCEL   \n",
       "1 2017-01-02 23:30:00   226  SCEL  KMIA   AAL 2017-01-02 23:39:00   226  SCEL   \n",
       "2 2017-01-03 23:30:00   226  SCEL  KMIA   AAL 2017-01-03 23:39:00   226  SCEL   \n",
       "3 2017-01-04 23:30:00   226  SCEL  KMIA   AAL 2017-01-04 23:33:00   226  SCEL   \n",
       "4 2017-01-05 23:30:00   226  SCEL  KMIA   AAL 2017-01-05 23:28:00   226  SCEL   \n",
       "5 2017-01-06 23:30:00   226  SCEL  KMIA   AAL 2017-01-07 00:04:00   226  SCEL   \n",
       "6 2017-01-07 23:30:00   226  SCEL  KMIA   AAL 2017-01-07 23:25:00   226  SCEL   \n",
       "7 2017-01-08 23:30:00   226  SCEL  KMIA   AAL 2017-01-08 23:25:00   226  SCEL   \n",
       "8 2017-01-09 23:30:00   226  SCEL  KMIA   AAL 2017-01-10 00:10:00   226  SCEL   \n",
       "9 2017-01-11 23:30:00   226  SCEL  KMIA   AAL 2017-01-12 00:39:00   226  SCEL   \n",
       "\n",
       "  Des-O Emp-O  ...  MES   AÑO     DIANOM TIPOVUELO              OPERA  \\\n",
       "0  KMIA   AAL  ...    1  2017    Domingo         I  American Airlines   \n",
       "1  KMIA   AAL  ...    1  2017      Lunes         I  American Airlines   \n",
       "2  KMIA   AAL  ...    1  2017     Martes         I  American Airlines   \n",
       "3  KMIA   AAL  ...    1  2017  Miercoles         I  American Airlines   \n",
       "4  KMIA   AAL  ...    1  2017     Jueves         I  American Airlines   \n",
       "5  KMIA   AAL  ...    1  2017     Sabado         I  American Airlines   \n",
       "6  KMIA   AAL  ...    1  2017     Sabado         I  American Airlines   \n",
       "7  KMIA   AAL  ...    1  2017    Domingo         I  American Airlines   \n",
       "8  KMIA   AAL  ...    1  2017     Martes         I  American Airlines   \n",
       "9  KMIA   AAL  ...    1  2017     Jueves         I  American Airlines   \n",
       "\n",
       "   SIGLAORI SIGLADES high_season  min_diff  delay_15  \n",
       "0  Santiago    Miami           1       3.0         0  \n",
       "1  Santiago    Miami           1       9.0         0  \n",
       "2  Santiago    Miami           1       9.0         0  \n",
       "3  Santiago    Miami           1       3.0         0  \n",
       "4  Santiago    Miami           1      -2.0         0  \n",
       "5  Santiago    Miami           1      34.0         1  \n",
       "6  Santiago    Miami           1      -5.0         0  \n",
       "7  Santiago    Miami           1      -5.0         0  \n",
       "8  Santiago    Miami           1      40.0         1  \n",
       "9  Santiago    Miami           1      69.0         1  \n",
       "\n",
       "[10 rows x 21 columns]"
      ]
     },
     "execution_count": 30,
     "metadata": {},
     "output_type": "execute_result"
    }
   ],
   "source": [
    "#Based on 'min_diff', flags 1 if it's higher than 15 minutes and 0 if it's lower\n",
    "\n",
    "df_flights['delay_15'] = df_flights.apply(lambda x: 1 if x['min_diff'] > 15 else 0, axis=1)\n",
    "df_flights.head(10)"
   ]
  },
  {
   "cell_type": "code",
   "execution_count": 31,
   "id": "006fcd8d",
   "metadata": {
    "ExecuteTime": {
     "end_time": "2023-04-05T02:36:27.437954Z",
     "start_time": "2023-04-05T02:36:27.422951Z"
    }
   },
   "outputs": [
    {
     "data": {
      "text/plain": [
       "0    55591\n",
       "1    12614\n",
       "Name: delay_15, dtype: int64"
      ]
     },
     "execution_count": 31,
     "metadata": {},
     "output_type": "execute_result"
    }
   ],
   "source": [
    "#Checking the 'delay_15' occurrence\n",
    "#Almost 20% are delayed flights\n",
    "\n",
    "df_flights['delay_15'].value_counts()"
   ]
  },
  {
   "cell_type": "markdown",
   "id": "05239849",
   "metadata": {},
   "source": [
    "### period_day"
   ]
  },
  {
   "cell_type": "code",
   "execution_count": 32,
   "id": "c2f36b9f",
   "metadata": {
    "ExecuteTime": {
     "end_time": "2023-04-05T02:36:27.453958Z",
     "start_time": "2023-04-05T02:36:27.439957Z"
    }
   },
   "outputs": [],
   "source": [
    "#Function to categorize if a time is in the morning, afternoon or night\n",
    "\n",
    "def period_day(dtime):\n",
    "    #Between 5:00 and 11:59 - morning\n",
    "    if dtime.hour >= 5 and dtime.hour < 12:\n",
    "        return 'morning'\n",
    "    #Between 12:00 and 18:59 - afternoon\n",
    "    elif dtime.hour >= 12 and dtime.hour < 19:\n",
    "        return 'afternoon'\n",
    "    #Otherwise, between 19:00 and 4:59 - night\n",
    "    else:\n",
    "        return 'night'"
   ]
  },
  {
   "cell_type": "code",
   "execution_count": 33,
   "id": "5c4b0db3",
   "metadata": {
    "ExecuteTime": {
     "end_time": "2023-04-05T02:36:28.334156Z",
     "start_time": "2023-04-05T02:36:27.454959Z"
    }
   },
   "outputs": [
    {
     "data": {
      "text/html": [
       "<div>\n",
       "<style scoped>\n",
       "    .dataframe tbody tr th:only-of-type {\n",
       "        vertical-align: middle;\n",
       "    }\n",
       "\n",
       "    .dataframe tbody tr th {\n",
       "        vertical-align: top;\n",
       "    }\n",
       "\n",
       "    .dataframe thead th {\n",
       "        text-align: right;\n",
       "    }\n",
       "</style>\n",
       "<table border=\"1\" class=\"dataframe\">\n",
       "  <thead>\n",
       "    <tr style=\"text-align: right;\">\n",
       "      <th></th>\n",
       "      <th>Fecha-I</th>\n",
       "      <th>Vlo-I</th>\n",
       "      <th>Ori-I</th>\n",
       "      <th>Des-I</th>\n",
       "      <th>Emp-I</th>\n",
       "      <th>Fecha-O</th>\n",
       "      <th>Vlo-O</th>\n",
       "      <th>Ori-O</th>\n",
       "      <th>Des-O</th>\n",
       "      <th>Emp-O</th>\n",
       "      <th>...</th>\n",
       "      <th>AÑO</th>\n",
       "      <th>DIANOM</th>\n",
       "      <th>TIPOVUELO</th>\n",
       "      <th>OPERA</th>\n",
       "      <th>SIGLAORI</th>\n",
       "      <th>SIGLADES</th>\n",
       "      <th>high_season</th>\n",
       "      <th>min_diff</th>\n",
       "      <th>delay_15</th>\n",
       "      <th>period_day</th>\n",
       "    </tr>\n",
       "  </thead>\n",
       "  <tbody>\n",
       "    <tr>\n",
       "      <th>0</th>\n",
       "      <td>2017-01-01 23:30:00</td>\n",
       "      <td>226</td>\n",
       "      <td>SCEL</td>\n",
       "      <td>KMIA</td>\n",
       "      <td>AAL</td>\n",
       "      <td>2017-01-01 23:33:00</td>\n",
       "      <td>226</td>\n",
       "      <td>SCEL</td>\n",
       "      <td>KMIA</td>\n",
       "      <td>AAL</td>\n",
       "      <td>...</td>\n",
       "      <td>2017</td>\n",
       "      <td>Domingo</td>\n",
       "      <td>I</td>\n",
       "      <td>American Airlines</td>\n",
       "      <td>Santiago</td>\n",
       "      <td>Miami</td>\n",
       "      <td>1</td>\n",
       "      <td>3.0</td>\n",
       "      <td>0</td>\n",
       "      <td>night</td>\n",
       "    </tr>\n",
       "    <tr>\n",
       "      <th>1</th>\n",
       "      <td>2017-01-02 23:30:00</td>\n",
       "      <td>226</td>\n",
       "      <td>SCEL</td>\n",
       "      <td>KMIA</td>\n",
       "      <td>AAL</td>\n",
       "      <td>2017-01-02 23:39:00</td>\n",
       "      <td>226</td>\n",
       "      <td>SCEL</td>\n",
       "      <td>KMIA</td>\n",
       "      <td>AAL</td>\n",
       "      <td>...</td>\n",
       "      <td>2017</td>\n",
       "      <td>Lunes</td>\n",
       "      <td>I</td>\n",
       "      <td>American Airlines</td>\n",
       "      <td>Santiago</td>\n",
       "      <td>Miami</td>\n",
       "      <td>1</td>\n",
       "      <td>9.0</td>\n",
       "      <td>0</td>\n",
       "      <td>night</td>\n",
       "    </tr>\n",
       "    <tr>\n",
       "      <th>2</th>\n",
       "      <td>2017-01-03 23:30:00</td>\n",
       "      <td>226</td>\n",
       "      <td>SCEL</td>\n",
       "      <td>KMIA</td>\n",
       "      <td>AAL</td>\n",
       "      <td>2017-01-03 23:39:00</td>\n",
       "      <td>226</td>\n",
       "      <td>SCEL</td>\n",
       "      <td>KMIA</td>\n",
       "      <td>AAL</td>\n",
       "      <td>...</td>\n",
       "      <td>2017</td>\n",
       "      <td>Martes</td>\n",
       "      <td>I</td>\n",
       "      <td>American Airlines</td>\n",
       "      <td>Santiago</td>\n",
       "      <td>Miami</td>\n",
       "      <td>1</td>\n",
       "      <td>9.0</td>\n",
       "      <td>0</td>\n",
       "      <td>night</td>\n",
       "    </tr>\n",
       "    <tr>\n",
       "      <th>3</th>\n",
       "      <td>2017-01-04 23:30:00</td>\n",
       "      <td>226</td>\n",
       "      <td>SCEL</td>\n",
       "      <td>KMIA</td>\n",
       "      <td>AAL</td>\n",
       "      <td>2017-01-04 23:33:00</td>\n",
       "      <td>226</td>\n",
       "      <td>SCEL</td>\n",
       "      <td>KMIA</td>\n",
       "      <td>AAL</td>\n",
       "      <td>...</td>\n",
       "      <td>2017</td>\n",
       "      <td>Miercoles</td>\n",
       "      <td>I</td>\n",
       "      <td>American Airlines</td>\n",
       "      <td>Santiago</td>\n",
       "      <td>Miami</td>\n",
       "      <td>1</td>\n",
       "      <td>3.0</td>\n",
       "      <td>0</td>\n",
       "      <td>night</td>\n",
       "    </tr>\n",
       "    <tr>\n",
       "      <th>4</th>\n",
       "      <td>2017-01-05 23:30:00</td>\n",
       "      <td>226</td>\n",
       "      <td>SCEL</td>\n",
       "      <td>KMIA</td>\n",
       "      <td>AAL</td>\n",
       "      <td>2017-01-05 23:28:00</td>\n",
       "      <td>226</td>\n",
       "      <td>SCEL</td>\n",
       "      <td>KMIA</td>\n",
       "      <td>AAL</td>\n",
       "      <td>...</td>\n",
       "      <td>2017</td>\n",
       "      <td>Jueves</td>\n",
       "      <td>I</td>\n",
       "      <td>American Airlines</td>\n",
       "      <td>Santiago</td>\n",
       "      <td>Miami</td>\n",
       "      <td>1</td>\n",
       "      <td>-2.0</td>\n",
       "      <td>0</td>\n",
       "      <td>night</td>\n",
       "    </tr>\n",
       "    <tr>\n",
       "      <th>...</th>\n",
       "      <td>...</td>\n",
       "      <td>...</td>\n",
       "      <td>...</td>\n",
       "      <td>...</td>\n",
       "      <td>...</td>\n",
       "      <td>...</td>\n",
       "      <td>...</td>\n",
       "      <td>...</td>\n",
       "      <td>...</td>\n",
       "      <td>...</td>\n",
       "      <td>...</td>\n",
       "      <td>...</td>\n",
       "      <td>...</td>\n",
       "      <td>...</td>\n",
       "      <td>...</td>\n",
       "      <td>...</td>\n",
       "      <td>...</td>\n",
       "      <td>...</td>\n",
       "      <td>...</td>\n",
       "      <td>...</td>\n",
       "      <td>...</td>\n",
       "    </tr>\n",
       "    <tr>\n",
       "      <th>68201</th>\n",
       "      <td>2017-12-22 14:55:00</td>\n",
       "      <td>400</td>\n",
       "      <td>SCEL</td>\n",
       "      <td>SPJC</td>\n",
       "      <td>JAT</td>\n",
       "      <td>2017-12-22 15:41:00</td>\n",
       "      <td>400.0</td>\n",
       "      <td>SCEL</td>\n",
       "      <td>SPJC</td>\n",
       "      <td>JAT</td>\n",
       "      <td>...</td>\n",
       "      <td>2017</td>\n",
       "      <td>Viernes</td>\n",
       "      <td>I</td>\n",
       "      <td>JetSmart SPA</td>\n",
       "      <td>Santiago</td>\n",
       "      <td>Lima</td>\n",
       "      <td>1</td>\n",
       "      <td>46.0</td>\n",
       "      <td>1</td>\n",
       "      <td>afternoon</td>\n",
       "    </tr>\n",
       "    <tr>\n",
       "      <th>68202</th>\n",
       "      <td>2017-12-25 14:55:00</td>\n",
       "      <td>400</td>\n",
       "      <td>SCEL</td>\n",
       "      <td>SPJC</td>\n",
       "      <td>JAT</td>\n",
       "      <td>2017-12-25 15:11:00</td>\n",
       "      <td>400.0</td>\n",
       "      <td>SCEL</td>\n",
       "      <td>SPJC</td>\n",
       "      <td>JAT</td>\n",
       "      <td>...</td>\n",
       "      <td>2017</td>\n",
       "      <td>Lunes</td>\n",
       "      <td>I</td>\n",
       "      <td>JetSmart SPA</td>\n",
       "      <td>Santiago</td>\n",
       "      <td>Lima</td>\n",
       "      <td>1</td>\n",
       "      <td>16.0</td>\n",
       "      <td>1</td>\n",
       "      <td>afternoon</td>\n",
       "    </tr>\n",
       "    <tr>\n",
       "      <th>68203</th>\n",
       "      <td>2017-12-27 14:55:00</td>\n",
       "      <td>400</td>\n",
       "      <td>SCEL</td>\n",
       "      <td>SPJC</td>\n",
       "      <td>JAT</td>\n",
       "      <td>2017-12-27 15:35:00</td>\n",
       "      <td>400.0</td>\n",
       "      <td>SCEL</td>\n",
       "      <td>SPJC</td>\n",
       "      <td>JAT</td>\n",
       "      <td>...</td>\n",
       "      <td>2017</td>\n",
       "      <td>Miercoles</td>\n",
       "      <td>I</td>\n",
       "      <td>JetSmart SPA</td>\n",
       "      <td>Santiago</td>\n",
       "      <td>Lima</td>\n",
       "      <td>1</td>\n",
       "      <td>40.0</td>\n",
       "      <td>1</td>\n",
       "      <td>afternoon</td>\n",
       "    </tr>\n",
       "    <tr>\n",
       "      <th>68204</th>\n",
       "      <td>2017-12-29 14:55:00</td>\n",
       "      <td>400</td>\n",
       "      <td>SCEL</td>\n",
       "      <td>SPJC</td>\n",
       "      <td>JAT</td>\n",
       "      <td>2017-12-29 15:08:00</td>\n",
       "      <td>400.0</td>\n",
       "      <td>SCEL</td>\n",
       "      <td>SPJC</td>\n",
       "      <td>JAT</td>\n",
       "      <td>...</td>\n",
       "      <td>2017</td>\n",
       "      <td>Viernes</td>\n",
       "      <td>I</td>\n",
       "      <td>JetSmart SPA</td>\n",
       "      <td>Santiago</td>\n",
       "      <td>Lima</td>\n",
       "      <td>1</td>\n",
       "      <td>13.0</td>\n",
       "      <td>0</td>\n",
       "      <td>afternoon</td>\n",
       "    </tr>\n",
       "    <tr>\n",
       "      <th>68205</th>\n",
       "      <td>2017-12-31 14:55:00</td>\n",
       "      <td>400</td>\n",
       "      <td>SCEL</td>\n",
       "      <td>SPJC</td>\n",
       "      <td>JAT</td>\n",
       "      <td>2017-12-31 15:04:00</td>\n",
       "      <td>400.0</td>\n",
       "      <td>SCEL</td>\n",
       "      <td>SPJC</td>\n",
       "      <td>JAT</td>\n",
       "      <td>...</td>\n",
       "      <td>2017</td>\n",
       "      <td>Domingo</td>\n",
       "      <td>I</td>\n",
       "      <td>JetSmart SPA</td>\n",
       "      <td>Santiago</td>\n",
       "      <td>Lima</td>\n",
       "      <td>1</td>\n",
       "      <td>9.0</td>\n",
       "      <td>0</td>\n",
       "      <td>afternoon</td>\n",
       "    </tr>\n",
       "  </tbody>\n",
       "</table>\n",
       "<p>68205 rows × 22 columns</p>\n",
       "</div>"
      ],
      "text/plain": [
       "                  Fecha-I Vlo-I Ori-I Des-I Emp-I             Fecha-O  Vlo-O  \\\n",
       "0     2017-01-01 23:30:00   226  SCEL  KMIA   AAL 2017-01-01 23:33:00    226   \n",
       "1     2017-01-02 23:30:00   226  SCEL  KMIA   AAL 2017-01-02 23:39:00    226   \n",
       "2     2017-01-03 23:30:00   226  SCEL  KMIA   AAL 2017-01-03 23:39:00    226   \n",
       "3     2017-01-04 23:30:00   226  SCEL  KMIA   AAL 2017-01-04 23:33:00    226   \n",
       "4     2017-01-05 23:30:00   226  SCEL  KMIA   AAL 2017-01-05 23:28:00    226   \n",
       "...                   ...   ...   ...   ...   ...                 ...    ...   \n",
       "68201 2017-12-22 14:55:00   400  SCEL  SPJC   JAT 2017-12-22 15:41:00  400.0   \n",
       "68202 2017-12-25 14:55:00   400  SCEL  SPJC   JAT 2017-12-25 15:11:00  400.0   \n",
       "68203 2017-12-27 14:55:00   400  SCEL  SPJC   JAT 2017-12-27 15:35:00  400.0   \n",
       "68204 2017-12-29 14:55:00   400  SCEL  SPJC   JAT 2017-12-29 15:08:00  400.0   \n",
       "68205 2017-12-31 14:55:00   400  SCEL  SPJC   JAT 2017-12-31 15:04:00  400.0   \n",
       "\n",
       "      Ori-O Des-O Emp-O  ...   AÑO     DIANOM  TIPOVUELO              OPERA  \\\n",
       "0      SCEL  KMIA   AAL  ...  2017    Domingo          I  American Airlines   \n",
       "1      SCEL  KMIA   AAL  ...  2017      Lunes          I  American Airlines   \n",
       "2      SCEL  KMIA   AAL  ...  2017     Martes          I  American Airlines   \n",
       "3      SCEL  KMIA   AAL  ...  2017  Miercoles          I  American Airlines   \n",
       "4      SCEL  KMIA   AAL  ...  2017     Jueves          I  American Airlines   \n",
       "...     ...   ...   ...  ...   ...        ...        ...                ...   \n",
       "68201  SCEL  SPJC   JAT  ...  2017    Viernes          I       JetSmart SPA   \n",
       "68202  SCEL  SPJC   JAT  ...  2017      Lunes          I       JetSmart SPA   \n",
       "68203  SCEL  SPJC   JAT  ...  2017  Miercoles          I       JetSmart SPA   \n",
       "68204  SCEL  SPJC   JAT  ...  2017    Viernes          I       JetSmart SPA   \n",
       "68205  SCEL  SPJC   JAT  ...  2017    Domingo          I       JetSmart SPA   \n",
       "\n",
       "       SIGLAORI SIGLADES high_season min_diff  delay_15  period_day  \n",
       "0      Santiago    Miami           1      3.0         0       night  \n",
       "1      Santiago    Miami           1      9.0         0       night  \n",
       "2      Santiago    Miami           1      9.0         0       night  \n",
       "3      Santiago    Miami           1      3.0         0       night  \n",
       "4      Santiago    Miami           1     -2.0         0       night  \n",
       "...         ...      ...         ...      ...       ...         ...  \n",
       "68201  Santiago     Lima           1     46.0         1   afternoon  \n",
       "68202  Santiago     Lima           1     16.0         1   afternoon  \n",
       "68203  Santiago     Lima           1     40.0         1   afternoon  \n",
       "68204  Santiago     Lima           1     13.0         0   afternoon  \n",
       "68205  Santiago     Lima           1      9.0         0   afternoon  \n",
       "\n",
       "[68205 rows x 22 columns]"
      ]
     },
     "execution_count": 33,
     "metadata": {},
     "output_type": "execute_result"
    }
   ],
   "source": [
    "#Apply the function 'period_day' to each row in 'df_flights', based on 'Fecha-I'\n",
    "\n",
    "df_flights['period_day'] = df_flights.apply(lambda x: period_day(x['Fecha-I']), axis=1)\n",
    "df_flights"
   ]
  },
  {
   "cell_type": "markdown",
   "id": "b32ca19f",
   "metadata": {},
   "source": [
    "### Exporting csv"
   ]
  },
  {
   "cell_type": "code",
   "execution_count": 34,
   "id": "9e3bdb4c",
   "metadata": {
    "ExecuteTime": {
     "end_time": "2023-04-05T02:36:28.494192Z",
     "start_time": "2023-04-05T02:36:28.335156Z"
    }
   },
   "outputs": [],
   "source": [
    "#Creating a dataframe with created features and exporting to csv\n",
    "\n",
    "synthetic_features = df_flights[['high_season','min_diff','delay_15','period_day']]\n",
    "synthetic_features\n",
    "\n",
    "synthetic_features.to_csv('synthetic_features.csv')"
   ]
  },
  {
   "cell_type": "markdown",
   "id": "ad3172db",
   "metadata": {},
   "source": [
    "## Delay Rate behavior"
   ]
  },
  {
   "cell_type": "markdown",
   "id": "519230a7",
   "metadata": {},
   "source": [
    "What is the behavior of the delay rate across destination, airline, month of the year, day of the week, season, type of flight<br>\n",
    "What variables would you expect to have the most influence in predicting delays?"
   ]
  },
  {
   "cell_type": "code",
   "execution_count": 35,
   "id": "1735da92",
   "metadata": {
    "ExecuteTime": {
     "end_time": "2023-04-05T02:36:28.510196Z",
     "start_time": "2023-04-05T02:36:28.495192Z"
    }
   },
   "outputs": [],
   "source": [
    "#Function to calculate the Delay Rate with differents parameters\n",
    "\n",
    "def delay_rate (col_param):\n",
    "    delay_count = df_flights[df_flights['delay_15'] == 1][col_param].value_counts().reset_index().rename(columns={'index':col_param,col_param:'delay_15_true'})\n",
    "    total_count = df_flights[[col_param,'delay_15']].groupby(by=col_param).agg('count').reset_index()\n",
    "    \n",
    "    delay_rate = pd.merge(delay_count, total_count, on=col_param)\n",
    "    delay_rate['percent'] = delay_rate['delay_15_true']/delay_rate['delay_15']\n",
    "    \n",
    "    return delay_rate"
   ]
  },
  {
   "cell_type": "code",
   "execution_count": 36,
   "id": "9be77d0d",
   "metadata": {
    "ExecuteTime": {
     "end_time": "2023-04-05T02:36:28.526199Z",
     "start_time": "2023-04-05T02:36:28.511196Z"
    }
   },
   "outputs": [],
   "source": [
    "#Function to plot two bar charts, side by side, across differents parameters\n",
    "#On the right, a Delay Occurrence visualization\n",
    "#On the left, a Delay Rate visualization\n",
    "\n",
    "def plot_result(col_param, var_result, var_title):\n",
    "    fig, axes = plt.subplots(1,2, figsize = (16,8), sharex='col')\n",
    "    ax1 = var_result.plot(ax = axes[0], x = col_param, y = 'delay_15_true', kind='bar', label=\"Delay\")\n",
    "    ax2 = var_result.plot(ax = axes[1], x = col_param, y = 'percent', kind='bar',label=\"Delay\")\n",
    "    \n",
    "    ax1.title.set_text('Occurence of Delay across ' + var_title)\n",
    "    ax2.title.set_text('Delay Rate across ' + var_title)\n",
    "    \n",
    "    ax1.set_ylabel('Occurence of Delay')\n",
    "    ax2.set_ylabel('Delay Rate')\n",
    "    \n",
    "    ax1.set_xlabel(var_title)\n",
    "    ax2.set_xlabel(var_title)\n",
    "    \n",
    "    ax1.legend(loc='upper right')\n",
    "    ax2.legend(loc='upper right')\n",
    "    \n",
    "    ax1.legend().set_visible(False)\n",
    "    ax2.legend().set_visible(False)"
   ]
  },
  {
   "cell_type": "markdown",
   "id": "2993ca2a",
   "metadata": {},
   "source": [
    "### Destination\n",
    "\n",
    "Behaviour: there's no possible to visualy observe a strong correlation between Delay Rate, Delay Occurence and Destination."
   ]
  },
  {
   "cell_type": "code",
   "execution_count": 37,
   "id": "d31aaa3e",
   "metadata": {
    "ExecuteTime": {
     "end_time": "2023-04-05T02:36:30.616669Z",
     "start_time": "2023-04-05T02:36:28.527200Z"
    },
    "scrolled": false
   },
   "outputs": [
    {
     "data": {
      "image/png": "[encoded data removed]",
      "text/plain": [
       "<Figure size 1152x576 with 2 Axes>"
      ]
     },
     "metadata": {
      "needs_background": "light"
     },
     "output_type": "display_data"
    }
   ],
   "source": [
    "result_dest = delay_rate('SIGLADES')\n",
    "plot_result('SIGLADES', result_dest, 'Destination')"
   ]
  },
  {
   "cell_type": "markdown",
   "id": "77099843",
   "metadata": {},
   "source": [
    "### Airline\n",
    "\n",
    "Behaviour: there's no possible to visualy observe a strong correlation between Delay Rate, Delay Occurence and Airline."
   ]
  },
  {
   "cell_type": "code",
   "execution_count": 38,
   "id": "59f3c571",
   "metadata": {
    "ExecuteTime": {
     "end_time": "2023-04-05T02:36:31.064770Z",
     "start_time": "2023-04-05T02:36:30.617669Z"
    }
   },
   "outputs": [
    {
     "data": {
      "image/png": "[encoded data removed]",
      "text/plain": [
       "<Figure size 1152x576 with 2 Axes>"
      ]
     },
     "metadata": {
      "needs_background": "light"
     },
     "output_type": "display_data"
    }
   ],
   "source": [
    "result_airline = delay_rate('OPERA')\n",
    "plot_result('OPERA', result_airline, 'Airline')"
   ]
  },
  {
   "cell_type": "markdown",
   "id": "3cb83c57",
   "metadata": {},
   "source": [
    "### Month of the year\n",
    "\n",
    "Behaviour: in general, months with more Delay Occurences have higher Delay Rate. <br>(Month of the year and Delay Rate are directly proportional)"
   ]
  },
  {
   "cell_type": "code",
   "execution_count": 39,
   "id": "59228a24",
   "metadata": {
    "ExecuteTime": {
     "end_time": "2023-04-05T02:36:31.320827Z",
     "start_time": "2023-04-05T02:36:31.065770Z"
    }
   },
   "outputs": [
    {
     "data": {
      "image/png": "[encoded data removed]",
      "text/plain": [
       "<Figure size 1152x576 with 2 Axes>"
      ]
     },
     "metadata": {
      "needs_background": "light"
     },
     "output_type": "display_data"
    }
   ],
   "source": [
    "result_month = delay_rate('MES')\n",
    "plot_result('MES', result_month, 'Month of the year')"
   ]
  },
  {
   "cell_type": "markdown",
   "id": "4f224473",
   "metadata": {},
   "source": [
    "### Day of the week\n",
    "\n",
    "Behaviour: in general, days of the week with more Delay Occurences have higher Delay Rate.<br>\n",
    "(Day of the week and Delay Rate are directly proportional)"
   ]
  },
  {
   "cell_type": "code",
   "execution_count": 40,
   "id": "1a28eb91",
   "metadata": {
    "ExecuteTime": {
     "end_time": "2023-04-05T02:36:31.544877Z",
     "start_time": "2023-04-05T02:36:31.321828Z"
    }
   },
   "outputs": [
    {
     "data": {
      "image/png": "[encoded data removed]",
      "text/plain": [
       "<Figure size 1152x576 with 2 Axes>"
      ]
     },
     "metadata": {
      "needs_background": "light"
     },
     "output_type": "display_data"
    }
   ],
   "source": [
    "result_dweek = delay_rate('DIANOM')\n",
    "plot_result('DIANOM', result_dweek, 'Day of the week')"
   ]
  },
  {
   "cell_type": "markdown",
   "id": "ab8dad6f",
   "metadata": {},
   "source": [
    "### Season\n",
    "\n",
    "Behaviour: although Low Season has more Delay Occurences, there's a higher Delay Rate on High Season.<br>\n",
    "(Season and Delay Rate are inversely proportional)"
   ]
  },
  {
   "cell_type": "code",
   "execution_count": 41,
   "id": "4863e9a5",
   "metadata": {
    "ExecuteTime": {
     "end_time": "2023-04-05T02:36:31.752924Z",
     "start_time": "2023-04-05T02:36:31.545878Z"
    }
   },
   "outputs": [
    {
     "data": {
      "image/png": "[encoded data removed]",
      "text/plain": [
       "<Figure size 1152x576 with 2 Axes>"
      ]
     },
     "metadata": {
      "needs_background": "light"
     },
     "output_type": "display_data"
    }
   ],
   "source": [
    "result_season = delay_rate('high_season')\n",
    "plot_result('high_season', result_season, 'Season')"
   ]
  },
  {
   "cell_type": "markdown",
   "id": "ee377a49",
   "metadata": {},
   "source": [
    "### Type of flight\n",
    "\n",
    "Behaviour: International flights have more Delay Occurence and higher Delay Ratem although National flights have less Delay Occurence and lower Delay Rate. <br> \n",
    "(Type of flight and Delay Rate are directly proportional)"
   ]
  },
  {
   "cell_type": "code",
   "execution_count": 42,
   "id": "8e3bfdc3",
   "metadata": {
    "ExecuteTime": {
     "end_time": "2023-04-05T02:36:31.944967Z",
     "start_time": "2023-04-05T02:36:31.753925Z"
    }
   },
   "outputs": [
    {
     "data": {
      "image/png": "[encoded data removed]",
      "text/plain": [
       "<Figure size 1152x576 with 2 Axes>"
      ]
     },
     "metadata": {
      "needs_background": "light"
     },
     "output_type": "display_data"
    }
   ],
   "source": [
    "result_tflight = delay_rate('TIPOVUELO')\n",
    "plot_result('TIPOVUELO', result_tflight, 'Type of flight')"
   ]
  },
  {
   "cell_type": "markdown",
   "id": "98b17fad",
   "metadata": {},
   "source": [
    "### Variables to expect to have the most influence in predicting"
   ]
  },
  {
   "cell_type": "markdown",
   "id": "574330f7",
   "metadata": {},
   "source": [
    "Of the listed variables in this section, I expect that Month of the year, Day of the week, Season and  Flight type to have the most influence in the predictin delays. That's because of the proportional/correlation behaviour."
   ]
  },
  {
   "cell_type": "markdown",
   "id": "0b40a22d",
   "metadata": {},
   "source": [
    "## Training and Testing models"
   ]
  },
  {
   "cell_type": "markdown",
   "id": "74f7a59c",
   "metadata": {},
   "source": [
    "Train one or several models (using the algorithm(s) of your choice) to estimate the likelihood of a flight delay. <br>\n",
    "Feel free to generate additional variables and/or supplement with external variables."
   ]
  },
  {
   "cell_type": "code",
   "execution_count": 43,
   "id": "39323955",
   "metadata": {
    "ExecuteTime": {
     "end_time": "2023-04-05T02:36:31.960971Z",
     "start_time": "2023-04-05T02:36:31.945968Z"
    }
   },
   "outputs": [],
   "source": [
    "#Setting X and y variables\n",
    "#It's temporary, because it's necessary to evaluate if they need to be treated\n",
    "\n",
    "#Setting dependents features\n",
    "X_temp = df_flights[['OPERA','SIGLADES','TIPOVUELO','DIANOM','MES','high_season','period_day']]\n",
    "\n",
    "#Setting the target \n",
    "y_temp = df_flights['delay_15']"
   ]
  },
  {
   "cell_type": "code",
   "execution_count": 44,
   "id": "55a04c60",
   "metadata": {
    "ExecuteTime": {
     "end_time": "2023-04-05T02:36:31.992978Z",
     "start_time": "2023-04-05T02:36:31.961971Z"
    }
   },
   "outputs": [
    {
     "name": "stdout",
     "output_type": "stream",
     "text": [
      "<class 'pandas.core.frame.DataFrame'>\n",
      "Int64Index: 68205 entries, 0 to 68205\n",
      "Data columns (total 7 columns):\n",
      " #   Column       Non-Null Count  Dtype \n",
      "---  ------       --------------  ----- \n",
      " 0   OPERA        68205 non-null  object\n",
      " 1   SIGLADES     68205 non-null  object\n",
      " 2   TIPOVUELO    68205 non-null  object\n",
      " 3   DIANOM       68205 non-null  object\n",
      " 4   MES          68205 non-null  int64 \n",
      " 5   high_season  68205 non-null  int64 \n",
      " 6   period_day   68205 non-null  object\n",
      "dtypes: int64(2), object(5)\n",
      "memory usage: 6.2+ MB\n"
     ]
    }
   ],
   "source": [
    "#Checking the features type\n",
    "\n",
    "X_temp.info()"
   ]
  },
  {
   "cell_type": "code",
   "execution_count": 45,
   "id": "0aaf10e5",
   "metadata": {
    "ExecuteTime": {
     "end_time": "2023-04-05T02:36:32.040989Z",
     "start_time": "2023-04-05T02:36:31.993979Z"
    }
   },
   "outputs": [],
   "source": [
    "#'OPERA','SIGLADES','TIPOVUELO','DIANOM','period_day' are object type, so it's necessary to treat\n",
    "#them before fitting process\n",
    "\n",
    "#For that, it's necessary to \"transform\" each of them from categorical to flag columns with 0 or 1 registers\n",
    "\n",
    "X_temp = pd.get_dummies(X_temp, columns = ['OPERA','SIGLADES','TIPOVUELO','DIANOM','period_day'])"
   ]
  },
  {
   "cell_type": "code",
   "execution_count": 46,
   "id": "c795ad5b",
   "metadata": {
    "ExecuteTime": {
     "end_time": "2023-04-05T02:36:32.072997Z",
     "start_time": "2023-04-05T02:36:32.041989Z"
    },
    "scrolled": false
   },
   "outputs": [
    {
     "name": "stdout",
     "output_type": "stream",
     "text": [
      "<class 'pandas.core.frame.DataFrame'>\n",
      "Int64Index: 68205 entries, 0 to 68205\n",
      "Data columns (total 99 columns):\n",
      " #   Column                          Non-Null Count  Dtype\n",
      "---  ------                          --------------  -----\n",
      " 0   MES                             68205 non-null  int64\n",
      " 1   high_season                     68205 non-null  int64\n",
      " 2   OPERA_Aerolineas Argentinas     68205 non-null  uint8\n",
      " 3   OPERA_Aeromexico                68205 non-null  uint8\n",
      " 4   OPERA_Air Canada                68205 non-null  uint8\n",
      " 5   OPERA_Air France                68205 non-null  uint8\n",
      " 6   OPERA_Alitalia                  68205 non-null  uint8\n",
      " 7   OPERA_American Airlines         68205 non-null  uint8\n",
      " 8   OPERA_Austral                   68205 non-null  uint8\n",
      " 9   OPERA_Avianca                   68205 non-null  uint8\n",
      " 10  OPERA_British Airways           68205 non-null  uint8\n",
      " 11  OPERA_Copa Air                  68205 non-null  uint8\n",
      " 12  OPERA_Delta Air                 68205 non-null  uint8\n",
      " 13  OPERA_Gol Trans                 68205 non-null  uint8\n",
      " 14  OPERA_Grupo LATAM               68205 non-null  uint8\n",
      " 15  OPERA_Iberia                    68205 non-null  uint8\n",
      " 16  OPERA_JetSmart SPA              68205 non-null  uint8\n",
      " 17  OPERA_K.L.M.                    68205 non-null  uint8\n",
      " 18  OPERA_Lacsa                     68205 non-null  uint8\n",
      " 19  OPERA_Latin American Wings      68205 non-null  uint8\n",
      " 20  OPERA_Oceanair Linhas Aereas    68205 non-null  uint8\n",
      " 21  OPERA_Plus Ultra Lineas Aereas  68205 non-null  uint8\n",
      " 22  OPERA_Qantas Airways            68205 non-null  uint8\n",
      " 23  OPERA_Sky Airline               68205 non-null  uint8\n",
      " 24  OPERA_United Airlines           68205 non-null  uint8\n",
      " 25  SIGLADES_Antofagasta            68205 non-null  uint8\n",
      " 26  SIGLADES_Arica                  68205 non-null  uint8\n",
      " 27  SIGLADES_Asuncion               68205 non-null  uint8\n",
      " 28  SIGLADES_Atlanta                68205 non-null  uint8\n",
      " 29  SIGLADES_Auckland N.Z.          68205 non-null  uint8\n",
      " 30  SIGLADES_Balmaceda              68205 non-null  uint8\n",
      " 31  SIGLADES_Bariloche              68205 non-null  uint8\n",
      " 32  SIGLADES_Bogota                 68205 non-null  uint8\n",
      " 33  SIGLADES_Buenos Aires           68205 non-null  uint8\n",
      " 34  SIGLADES_Calama                 68205 non-null  uint8\n",
      " 35  SIGLADES_Cancun                 68205 non-null  uint8\n",
      " 36  SIGLADES_Castro (Chiloe)        68205 non-null  uint8\n",
      " 37  SIGLADES_Cataratas Iguacu       68205 non-null  uint8\n",
      " 38  SIGLADES_Ciudad de Mexico       68205 non-null  uint8\n",
      " 39  SIGLADES_Ciudad de Panama       68205 non-null  uint8\n",
      " 40  SIGLADES_Cochabamba             68205 non-null  uint8\n",
      " 41  SIGLADES_Concepcion             68205 non-null  uint8\n",
      " 42  SIGLADES_Copiapo                68205 non-null  uint8\n",
      " 43  SIGLADES_Cordoba                68205 non-null  uint8\n",
      " 44  SIGLADES_Curitiba, Bra.         68205 non-null  uint8\n",
      " 45  SIGLADES_Dallas                 68205 non-null  uint8\n",
      " 46  SIGLADES_Florianapolis          68205 non-null  uint8\n",
      " 47  SIGLADES_Guayaquil              68205 non-null  uint8\n",
      " 48  SIGLADES_Houston                68205 non-null  uint8\n",
      " 49  SIGLADES_Iquique                68205 non-null  uint8\n",
      " 50  SIGLADES_Isla de Pascua         68205 non-null  uint8\n",
      " 51  SIGLADES_La Paz                 68205 non-null  uint8\n",
      " 52  SIGLADES_La Serena              68205 non-null  uint8\n",
      " 53  SIGLADES_Lima                   68205 non-null  uint8\n",
      " 54  SIGLADES_Londres                68205 non-null  uint8\n",
      " 55  SIGLADES_Los Angeles            68205 non-null  uint8\n",
      " 56  SIGLADES_Madrid                 68205 non-null  uint8\n",
      " 57  SIGLADES_Melbourne              68205 non-null  uint8\n",
      " 58  SIGLADES_Mendoza                68205 non-null  uint8\n",
      " 59  SIGLADES_Miami                  68205 non-null  uint8\n",
      " 60  SIGLADES_Montevideo             68205 non-null  uint8\n",
      " 61  SIGLADES_Neuquen                68205 non-null  uint8\n",
      " 62  SIGLADES_Nueva York             68205 non-null  uint8\n",
      " 63  SIGLADES_Orlando                68205 non-null  uint8\n",
      " 64  SIGLADES_Osorno                 68205 non-null  uint8\n",
      " 65  SIGLADES_Paris                  68205 non-null  uint8\n",
      " 66  SIGLADES_Pisco, Peru            68205 non-null  uint8\n",
      " 67  SIGLADES_Puerto Montt           68205 non-null  uint8\n",
      " 68  SIGLADES_Puerto Natales         68205 non-null  uint8\n",
      " 69  SIGLADES_Puerto Stanley         68205 non-null  uint8\n",
      " 70  SIGLADES_Punta Arenas           68205 non-null  uint8\n",
      " 71  SIGLADES_Punta Cana             68205 non-null  uint8\n",
      " 72  SIGLADES_Punta del Este         68205 non-null  uint8\n",
      " 73  SIGLADES_Quito                  68205 non-null  uint8\n",
      " 74  SIGLADES_Rio de Janeiro         68205 non-null  uint8\n",
      " 75  SIGLADES_Roma                   68205 non-null  uint8\n",
      " 76  SIGLADES_Rosario                68205 non-null  uint8\n",
      " 77  SIGLADES_San Juan, Arg.         68205 non-null  uint8\n",
      " 78  SIGLADES_Santa Cruz             68205 non-null  uint8\n",
      " 79  SIGLADES_Sao Paulo              68205 non-null  uint8\n",
      " 80  SIGLADES_Sydney                 68205 non-null  uint8\n",
      " 81  SIGLADES_Temuco                 68205 non-null  uint8\n",
      " 82  SIGLADES_Toronto                68205 non-null  uint8\n",
      " 83  SIGLADES_Tucuman                68205 non-null  uint8\n",
      " 84  SIGLADES_Ushuia                 68205 non-null  uint8\n",
      " 85  SIGLADES_Valdivia               68205 non-null  uint8\n",
      " 86  SIGLADES_Washington             68205 non-null  uint8\n",
      " 87  TIPOVUELO_I                     68205 non-null  uint8\n",
      " 88  TIPOVUELO_N                     68205 non-null  uint8\n",
      " 89  DIANOM_Domingo                  68205 non-null  uint8\n",
      " 90  DIANOM_Jueves                   68205 non-null  uint8\n",
      " 91  DIANOM_Lunes                    68205 non-null  uint8\n",
      " 92  DIANOM_Martes                   68205 non-null  uint8\n",
      " 93  DIANOM_Miercoles                68205 non-null  uint8\n",
      " 94  DIANOM_Sabado                   68205 non-null  uint8\n",
      " 95  DIANOM_Viernes                  68205 non-null  uint8\n",
      " 96  period_day_afternoon            68205 non-null  uint8\n",
      " 97  period_day_morning              68205 non-null  uint8\n",
      " 98  period_day_night                68205 non-null  uint8\n",
      "dtypes: int64(2), uint8(97)\n",
      "memory usage: 9.9 MB\n"
     ]
    }
   ],
   "source": [
    "#Printing the new X_temp\n",
    "#Now, there're 99 columns\n",
    "\n",
    "X_temp.info()"
   ]
  },
  {
   "cell_type": "code",
   "execution_count": 47,
   "id": "4fd74328",
   "metadata": {
    "ExecuteTime": {
     "end_time": "2023-04-05T02:36:32.169018Z",
     "start_time": "2023-04-05T02:36:32.073997Z"
    }
   },
   "outputs": [
    {
     "data": {
      "text/html": [
       "<div>\n",
       "<style scoped>\n",
       "    .dataframe tbody tr th:only-of-type {\n",
       "        vertical-align: middle;\n",
       "    }\n",
       "\n",
       "    .dataframe tbody tr th {\n",
       "        vertical-align: top;\n",
       "    }\n",
       "\n",
       "    .dataframe thead th {\n",
       "        text-align: right;\n",
       "    }\n",
       "</style>\n",
       "<table border=\"1\" class=\"dataframe\">\n",
       "  <thead>\n",
       "    <tr style=\"text-align: right;\">\n",
       "      <th></th>\n",
       "      <th>Chi2</th>\n",
       "      <th>p-Value</th>\n",
       "    </tr>\n",
       "  </thead>\n",
       "  <tbody>\n",
       "    <tr>\n",
       "      <th>MES</th>\n",
       "      <td>889.349785</td>\n",
       "      <td>2.027985e-195</td>\n",
       "    </tr>\n",
       "    <tr>\n",
       "      <th>OPERA_Latin American Wings</th>\n",
       "      <td>547.532864</td>\n",
       "      <td>4.332061e-121</td>\n",
       "    </tr>\n",
       "    <tr>\n",
       "      <th>TIPOVUELO_I</th>\n",
       "      <td>342.833992</td>\n",
       "      <td>1.540583e-76</td>\n",
       "    </tr>\n",
       "    <tr>\n",
       "      <th>TIPOVUELO_N</th>\n",
       "      <td>289.720042</td>\n",
       "      <td>5.722117e-65</td>\n",
       "    </tr>\n",
       "    <tr>\n",
       "      <th>OPERA_Air Canada</th>\n",
       "      <td>276.685209</td>\n",
       "      <td>3.962430e-62</td>\n",
       "    </tr>\n",
       "    <tr>\n",
       "      <th>SIGLADES_Buenos Aires</th>\n",
       "      <td>210.542357</td>\n",
       "      <td>1.046019e-47</td>\n",
       "    </tr>\n",
       "    <tr>\n",
       "      <th>SIGLADES_Sydney</th>\n",
       "      <td>203.385757</td>\n",
       "      <td>3.810782e-46</td>\n",
       "    </tr>\n",
       "    <tr>\n",
       "      <th>OPERA_Qantas Airways</th>\n",
       "      <td>201.373450</td>\n",
       "      <td>1.047416e-45</td>\n",
       "    </tr>\n",
       "    <tr>\n",
       "      <th>SIGLADES_Ciudad de Panama</th>\n",
       "      <td>183.388353</td>\n",
       "      <td>8.823536e-42</td>\n",
       "    </tr>\n",
       "    <tr>\n",
       "      <th>OPERA_Copa Air</th>\n",
       "      <td>183.388353</td>\n",
       "      <td>8.823536e-42</td>\n",
       "    </tr>\n",
       "    <tr>\n",
       "      <th>OPERA_Gol Trans</th>\n",
       "      <td>156.602157</td>\n",
       "      <td>6.252946e-36</td>\n",
       "    </tr>\n",
       "    <tr>\n",
       "      <th>SIGLADES_Calama</th>\n",
       "      <td>134.258124</td>\n",
       "      <td>4.797466e-31</td>\n",
       "    </tr>\n",
       "    <tr>\n",
       "      <th>period_day_morning</th>\n",
       "      <td>104.020109</td>\n",
       "      <td>2.002730e-24</td>\n",
       "    </tr>\n",
       "    <tr>\n",
       "      <th>DIANOM_Viernes</th>\n",
       "      <td>93.848851</td>\n",
       "      <td>3.405621e-22</td>\n",
       "    </tr>\n",
       "    <tr>\n",
       "      <th>SIGLADES_Cordoba</th>\n",
       "      <td>91.529409</td>\n",
       "      <td>1.099460e-21</td>\n",
       "    </tr>\n",
       "    <tr>\n",
       "      <th>SIGLADES_Sao Paulo</th>\n",
       "      <td>90.735823</td>\n",
       "      <td>1.641935e-21</td>\n",
       "    </tr>\n",
       "    <tr>\n",
       "      <th>SIGLADES_Rio de Janeiro</th>\n",
       "      <td>90.103407</td>\n",
       "      <td>2.260322e-21</td>\n",
       "    </tr>\n",
       "    <tr>\n",
       "      <th>SIGLADES_Auckland N.Z.</th>\n",
       "      <td>85.564213</td>\n",
       "      <td>2.242982e-20</td>\n",
       "    </tr>\n",
       "    <tr>\n",
       "      <th>SIGLADES_Mendoza</th>\n",
       "      <td>82.862787</td>\n",
       "      <td>8.795145e-20</td>\n",
       "    </tr>\n",
       "    <tr>\n",
       "      <th>SIGLADES_Lima</th>\n",
       "      <td>72.243127</td>\n",
       "      <td>1.902522e-17</td>\n",
       "    </tr>\n",
       "  </tbody>\n",
       "</table>\n",
       "</div>"
      ],
      "text/plain": [
       "                                  Chi2        p-Value\n",
       "MES                         889.349785  2.027985e-195\n",
       "OPERA_Latin American Wings  547.532864  4.332061e-121\n",
       "TIPOVUELO_I                 342.833992   1.540583e-76\n",
       "TIPOVUELO_N                 289.720042   5.722117e-65\n",
       "OPERA_Air Canada            276.685209   3.962430e-62\n",
       "SIGLADES_Buenos Aires       210.542357   1.046019e-47\n",
       "SIGLADES_Sydney             203.385757   3.810782e-46\n",
       "OPERA_Qantas Airways        201.373450   1.047416e-45\n",
       "SIGLADES_Ciudad de Panama   183.388353   8.823536e-42\n",
       "OPERA_Copa Air              183.388353   8.823536e-42\n",
       "OPERA_Gol Trans             156.602157   6.252946e-36\n",
       "SIGLADES_Calama             134.258124   4.797466e-31\n",
       "period_day_morning          104.020109   2.002730e-24\n",
       "DIANOM_Viernes               93.848851   3.405621e-22\n",
       "SIGLADES_Cordoba             91.529409   1.099460e-21\n",
       "SIGLADES_Sao Paulo           90.735823   1.641935e-21\n",
       "SIGLADES_Rio de Janeiro      90.103407   2.260322e-21\n",
       "SIGLADES_Auckland N.Z.       85.564213   2.242982e-20\n",
       "SIGLADES_Mendoza             82.862787   8.795145e-20\n",
       "SIGLADES_Lima                72.243127   1.902522e-17"
      ]
     },
     "execution_count": 47,
     "metadata": {},
     "output_type": "execute_result"
    }
   ],
   "source": [
    "#Because of the large amount of features, were selected the most relevants to the model\n",
    "#For that, chi-squared was calculated\n",
    "\n",
    "#When we have a higher chi-squared(and low p-value), that means that we have a statitical evidence\n",
    "#to deduce that the expected and the observed variables aren't the same and they're dependents\n",
    "#Higher chi-squared rate means higher dependency\n",
    "\n",
    "#Calculating Chi-Squared metric\n",
    "chi_scores = chi2(X_temp,y_temp)\n",
    "\n",
    "#Selecting the 20% most dependents variables and plotting a view\n",
    "scores = pd.Series(chi_scores[0], index=X_temp.columns)\n",
    "pvalues = pd.Series(chi_scores[1], index=X_temp.columns)\n",
    "df_chi2_test = pd.DataFrame({'Chi2':scores, 'p-Value':pvalues})\n",
    "df_chi2_score = df_chi2_test.sort_values('Chi2', ascending=False).head(20)\n",
    "df_chi2_score"
   ]
  },
  {
   "cell_type": "markdown",
   "id": "b4caae16",
   "metadata": {},
   "source": [
    "Note: we can see that the 'MES' and 'TIPOVUELO' are in the top 5 in the relevant variables list, as expected before."
   ]
  },
  {
   "cell_type": "code",
   "execution_count": 48,
   "id": "9ade5911",
   "metadata": {
    "ExecuteTime": {
     "end_time": "2023-04-05T02:36:32.185022Z",
     "start_time": "2023-04-05T02:36:32.170018Z"
    }
   },
   "outputs": [],
   "source": [
    "#Defining X dataframe with relevant features to train and test models\n",
    "df_chi2_params = df_chi2_score.index\n",
    "X = X_temp[df_chi2_params]\n",
    "\n",
    "#Setting y - target feature\n",
    "y = y_temp\n",
    "\n",
    "#Creating a list with differents proportions to input in cross-validation test\n",
    "test_size_list = [0.1, 0.2, 0.3, 0.4, 0.5, 0.6, 0.7, 0.8, 0.9]"
   ]
  },
  {
   "cell_type": "code",
   "execution_count": 49,
   "id": "ff5de28f",
   "metadata": {
    "ExecuteTime": {
     "end_time": "2023-04-05T02:36:32.201025Z",
     "start_time": "2023-04-05T02:36:32.186022Z"
    }
   },
   "outputs": [],
   "source": [
    "#Function to calculate metrics to evaluate models\n",
    "#Execute Cross-validation\n",
    "\n",
    "#Cross-validation score: Array of kfolds tests Accuracy\n",
    "#Cross-validation score mean: Accuracy of the cross-validation score average\n",
    "#Cross-validation RMSE: Root Mean Squared Error, the average error of the deviations, giving greater weight to larger erros\n",
    "\n",
    "\n",
    "def model_training(model, X, y, bool_print = True):\n",
    "    model = model.fit(X, y)\n",
    "    \n",
    "    kfold = KFold(n_splits=10)\n",
    "    cv_score = cross_val_score(model, X, y, cv=kfold)\n",
    "    rmse_cv = np.sqrt(-cross_val_score(model, X, y, cv=kfold, scoring='neg_mean_squared_error'))\n",
    "    \n",
    "    if bool_print:\n",
    "        print('• Cross-validation score: ', cv_score)\n",
    "        print('• Cross-validation score mean: ', cv_score.mean())\n",
    "        print('• Cross-validation RMSE: ', rmse_cv.mean())\n",
    "        \n",
    "        \n",
    "    return cv_score, cv_score.mean(), rmse_cv.mean()"
   ]
  },
  {
   "cell_type": "code",
   "execution_count": 50,
   "id": "46fa6aff",
   "metadata": {
    "ExecuteTime": {
     "end_time": "2023-04-05T02:36:32.217029Z",
     "start_time": "2023-04-05T02:36:32.202025Z"
    }
   },
   "outputs": [],
   "source": [
    "#Function to generate X and y values, both training ans testing\n",
    "\n",
    "def test_size_set(test_size_item):\n",
    "    X_train, X_test, y_train, y_test = train_test_split(X, y, test_size=test_size_item, random_state=7)\n",
    "    \n",
    "    return X_train, X_test, y_train, y_test"
   ]
  },
  {
   "cell_type": "code",
   "execution_count": 51,
   "id": "a968e811",
   "metadata": {
    "ExecuteTime": {
     "end_time": "2023-04-05T02:36:32.233032Z",
     "start_time": "2023-04-05T02:36:32.218029Z"
    }
   },
   "outputs": [],
   "source": [
    "#Function to generate a dataframe with values of model evaluation metrics\n",
    "\n",
    "def proportion_test(model, proportion_test_list):\n",
    "    arr_results = []\n",
    "    for i in proportion_test_list:\n",
    "        X_train, X_test, y_train, y_test = test_size_set(i)\n",
    "        cv_score, cv_score_mean, rmse_mean, \\\n",
    "            = model_training(model, X_train, y_train, False)\n",
    "        arr_results.append([i, cv_score, cv_score_mean, rmse_mean])\n",
    "    \n",
    "    return (pd.DataFrame(arr_results, columns=['test_size', 'cv_score', 'cv_score_mean', 'rmse_mean']))"
   ]
  },
  {
   "cell_type": "code",
   "execution_count": 52,
   "id": "b1267367",
   "metadata": {
    "ExecuteTime": {
     "end_time": "2023-04-05T02:36:32.249036Z",
     "start_time": "2023-04-05T02:36:32.234032Z"
    }
   },
   "outputs": [],
   "source": [
    "#Function to test an array of parameters in a model\n",
    "#Use differents values of test-train sizes\n",
    "#It plots the best score with the best estimator to each test-train size\n",
    "\n",
    "def param_test(model, proportion_test_list, model_param):\n",
    "    arr_results = []\n",
    "    for i in proportion_test_list:\n",
    "        randm_src = RandomizedSearchCV(model, param_distributions = model_param, cv = 10)\n",
    "        \n",
    "        X_train, X_test, y_train, y_test = test_size_set(i) \n",
    "        randm_src.fit(X_train, y_train)\n",
    "        \n",
    "        best_estimator = randm_src.best_estimator_\n",
    "        best_score = randm_src.best_score_\n",
    "        arr_results.append([i,best_score,best_estimator])\n",
    "        \n",
    "    return (pd.DataFrame(arr_results, columns=['size', 'best_score','best_estimator']))"
   ]
  },
  {
   "cell_type": "markdown",
   "id": "d98a27ab",
   "metadata": {},
   "source": [
    "### Decision Tree Classifier"
   ]
  },
  {
   "cell_type": "code",
   "execution_count": 53,
   "id": "75a33b6e",
   "metadata": {
    "ExecuteTime": {
     "end_time": "2023-04-05T02:36:32.265040Z",
     "start_time": "2023-04-05T02:36:32.250036Z"
    }
   },
   "outputs": [],
   "source": [
    "#Defining the array of parameters to test the fit in the Decision Tree Classifier\n",
    "\n",
    "parameters_dtc = {'criterion' : ['gini', 'entropy']\n",
    "              , 'splitter' : ['best','random']\n",
    "              , 'max_depth' : [3,5,7,9,10]\n",
    "              , 'min_samples_split' : [2, 4, 6]\n",
    "              , 'max_features' : ['auto', 'sqrt', 'log2']\n",
    "             }"
   ]
  },
  {
   "cell_type": "code",
   "execution_count": 54,
   "id": "a6cba42e",
   "metadata": {
    "ExecuteTime": {
     "end_time": "2023-04-05T02:36:45.504015Z",
     "start_time": "2023-04-05T02:36:32.267040Z"
    }
   },
   "outputs": [
    {
     "data": {
      "text/html": [
       "<div>\n",
       "<style scoped>\n",
       "    .dataframe tbody tr th:only-of-type {\n",
       "        vertical-align: middle;\n",
       "    }\n",
       "\n",
       "    .dataframe tbody tr th {\n",
       "        vertical-align: top;\n",
       "    }\n",
       "\n",
       "    .dataframe thead th {\n",
       "        text-align: right;\n",
       "    }\n",
       "</style>\n",
       "<table border=\"1\" class=\"dataframe\">\n",
       "  <thead>\n",
       "    <tr style=\"text-align: right;\">\n",
       "      <th></th>\n",
       "      <th>size</th>\n",
       "      <th>best_score</th>\n",
       "      <th>best_estimator</th>\n",
       "    </tr>\n",
       "  </thead>\n",
       "  <tbody>\n",
       "    <tr>\n",
       "      <th>0</th>\n",
       "      <td>0.1</td>\n",
       "      <td>0.817053</td>\n",
       "      <td>DecisionTreeClassifier(max_depth=10, max_featu...</td>\n",
       "    </tr>\n",
       "    <tr>\n",
       "      <th>1</th>\n",
       "      <td>0.2</td>\n",
       "      <td>0.817847</td>\n",
       "      <td>DecisionTreeClassifier(criterion='entropy', ma...</td>\n",
       "    </tr>\n",
       "    <tr>\n",
       "      <th>2</th>\n",
       "      <td>0.3</td>\n",
       "      <td>0.817544</td>\n",
       "      <td>DecisionTreeClassifier(criterion='entropy', ma...</td>\n",
       "    </tr>\n",
       "    <tr>\n",
       "      <th>3</th>\n",
       "      <td>0.4</td>\n",
       "      <td>0.817951</td>\n",
       "      <td>DecisionTreeClassifier(max_depth=10, max_featu...</td>\n",
       "    </tr>\n",
       "    <tr>\n",
       "      <th>4</th>\n",
       "      <td>0.5</td>\n",
       "      <td>0.818456</td>\n",
       "      <td>DecisionTreeClassifier(criterion='entropy', ma...</td>\n",
       "    </tr>\n",
       "    <tr>\n",
       "      <th>5</th>\n",
       "      <td>0.6</td>\n",
       "      <td>0.819735</td>\n",
       "      <td>DecisionTreeClassifier(criterion='entropy', ma...</td>\n",
       "    </tr>\n",
       "    <tr>\n",
       "      <th>6</th>\n",
       "      <td>0.7</td>\n",
       "      <td>0.819510</td>\n",
       "      <td>DecisionTreeClassifier(max_depth=10, max_featu...</td>\n",
       "    </tr>\n",
       "    <tr>\n",
       "      <th>7</th>\n",
       "      <td>0.8</td>\n",
       "      <td>0.818268</td>\n",
       "      <td>DecisionTreeClassifier(criterion='entropy', ma...</td>\n",
       "    </tr>\n",
       "    <tr>\n",
       "      <th>8</th>\n",
       "      <td>0.9</td>\n",
       "      <td>0.819941</td>\n",
       "      <td>DecisionTreeClassifier(criterion='entropy', ma...</td>\n",
       "    </tr>\n",
       "  </tbody>\n",
       "</table>\n",
       "</div>"
      ],
      "text/plain": [
       "   size  best_score                                     best_estimator\n",
       "0   0.1    0.817053  DecisionTreeClassifier(max_depth=10, max_featu...\n",
       "1   0.2    0.817847  DecisionTreeClassifier(criterion='entropy', ma...\n",
       "2   0.3    0.817544  DecisionTreeClassifier(criterion='entropy', ma...\n",
       "3   0.4    0.817951  DecisionTreeClassifier(max_depth=10, max_featu...\n",
       "4   0.5    0.818456  DecisionTreeClassifier(criterion='entropy', ma...\n",
       "5   0.6    0.819735  DecisionTreeClassifier(criterion='entropy', ma...\n",
       "6   0.7    0.819510  DecisionTreeClassifier(max_depth=10, max_featu...\n",
       "7   0.8    0.818268  DecisionTreeClassifier(criterion='entropy', ma...\n",
       "8   0.9    0.819941  DecisionTreeClassifier(criterion='entropy', ma..."
      ]
     },
     "execution_count": 54,
     "metadata": {},
     "output_type": "execute_result"
    }
   ],
   "source": [
    "#Executing the paratemers fitting test in the Decision Tree Classifier model\n",
    "\n",
    "param_test_dtc = param_test(tree.DecisionTreeClassifier(),test_size_list,parameters_dtc)\n",
    "param_test_dtc"
   ]
  },
  {
   "cell_type": "code",
   "execution_count": 55,
   "id": "d5fcbc55",
   "metadata": {
    "ExecuteTime": {
     "end_time": "2023-04-05T02:36:45.520019Z",
     "start_time": "2023-04-05T02:36:45.505015Z"
    }
   },
   "outputs": [
    {
     "data": {
      "text/html": [
       "<style>#sk-container-id-1 {color: black;background-color: white;}#sk-container-id-1 pre{padding: 0;}#sk-container-id-1 div.sk-toggleable {background-color: white;}#sk-container-id-1 label.sk-toggleable__label {cursor: pointer;display: block;width: 100%;margin-bottom: 0;padding: 0.3em;box-sizing: border-box;text-align: center;}#sk-container-id-1 label.sk-toggleable__label-arrow:before {content: \"▸\";float: left;margin-right: 0.25em;color: #696969;}#sk-container-id-1 label.sk-toggleable__label-arrow:hover:before {color: black;}#sk-container-id-1 div.sk-estimator:hover label.sk-toggleable__label-arrow:before {color: black;}#sk-container-id-1 div.sk-toggleable__content {max-height: 0;max-width: 0;overflow: hidden;text-align: left;background-color: #f0f8ff;}#sk-container-id-1 div.sk-toggleable__content pre {margin: 0.2em;color: black;border-radius: 0.25em;background-color: #f0f8ff;}#sk-container-id-1 input.sk-toggleable__control:checked~div.sk-toggleable__content {max-height: 200px;max-width: 100%;overflow: auto;}#sk-container-id-1 input.sk-toggleable__control:checked~label.sk-toggleable__label-arrow:before {content: \"▾\";}#sk-container-id-1 div.sk-estimator input.sk-toggleable__control:checked~label.sk-toggleable__label {background-color: #d4ebff;}#sk-container-id-1 div.sk-label input.sk-toggleable__control:checked~label.sk-toggleable__label {background-color: #d4ebff;}#sk-container-id-1 input.sk-hidden--visually {border: 0;clip: rect(1px 1px 1px 1px);clip: rect(1px, 1px, 1px, 1px);height: 1px;margin: -1px;overflow: hidden;padding: 0;position: absolute;width: 1px;}#sk-container-id-1 div.sk-estimator {font-family: monospace;background-color: #f0f8ff;border: 1px dotted black;border-radius: 0.25em;box-sizing: border-box;margin-bottom: 0.5em;}#sk-container-id-1 div.sk-estimator:hover {background-color: #d4ebff;}#sk-container-id-1 div.sk-parallel-item::after {content: \"\";width: 100%;border-bottom: 1px solid gray;flex-grow: 1;}#sk-container-id-1 div.sk-label:hover label.sk-toggleable__label {background-color: #d4ebff;}#sk-container-id-1 div.sk-serial::before {content: \"\";position: absolute;border-left: 1px solid gray;box-sizing: border-box;top: 0;bottom: 0;left: 50%;z-index: 0;}#sk-container-id-1 div.sk-serial {display: flex;flex-direction: column;align-items: center;background-color: white;padding-right: 0.2em;padding-left: 0.2em;position: relative;}#sk-container-id-1 div.sk-item {position: relative;z-index: 1;}#sk-container-id-1 div.sk-parallel {display: flex;align-items: stretch;justify-content: center;background-color: white;position: relative;}#sk-container-id-1 div.sk-item::before, #sk-container-id-1 div.sk-parallel-item::before {content: \"\";position: absolute;border-left: 1px solid gray;box-sizing: border-box;top: 0;bottom: 0;left: 50%;z-index: -1;}#sk-container-id-1 div.sk-parallel-item {display: flex;flex-direction: column;z-index: 1;position: relative;background-color: white;}#sk-container-id-1 div.sk-parallel-item:first-child::after {align-self: flex-end;width: 50%;}#sk-container-id-1 div.sk-parallel-item:last-child::after {align-self: flex-start;width: 50%;}#sk-container-id-1 div.sk-parallel-item:only-child::after {width: 0;}#sk-container-id-1 div.sk-dashed-wrapped {border: 1px dashed gray;margin: 0 0.4em 0.5em 0.4em;box-sizing: border-box;padding-bottom: 0.4em;background-color: white;}#sk-container-id-1 div.sk-label label {font-family: monospace;font-weight: bold;display: inline-block;line-height: 1.2em;}#sk-container-id-1 div.sk-label-container {text-align: center;}#sk-container-id-1 div.sk-container {/* jupyter's `normalize.less` sets `[hidden] { display: none; }` but bootstrap.min.css set `[hidden] { display: none !important; }` so we also need the `!important` here to be able to override the default hidden behavior on the sphinx rendered scikit-learn.org. See: https://github.com/scikit-learn/scikit-learn/issues/21755 */display: inline-block !important;position: relative;}#sk-container-id-1 div.sk-text-repr-fallback {display: none;}</style><div id=\"sk-container-id-1\" class=\"sk-top-container\"><div class=\"sk-text-repr-fallback\"><pre>DecisionTreeClassifier(criterion=&#x27;entropy&#x27;, max_depth=7, max_features=&#x27;log2&#x27;)</pre><b>In a Jupyter environment, please rerun this cell to show the HTML representation or trust the notebook. <br />On GitHub, the HTML representation is unable to render, please try loading this page with nbviewer.org.</b></div><div class=\"sk-container\" hidden><div class=\"sk-item\"><div class=\"sk-estimator sk-toggleable\"><input class=\"sk-toggleable__control sk-hidden--visually\" id=\"sk-estimator-id-1\" type=\"checkbox\" checked><label for=\"sk-estimator-id-1\" class=\"sk-toggleable__label sk-toggleable__label-arrow\">DecisionTreeClassifier</label><div class=\"sk-toggleable__content\"><pre>DecisionTreeClassifier(criterion=&#x27;entropy&#x27;, max_depth=7, max_features=&#x27;log2&#x27;)</pre></div></div></div></div></div>"
      ],
      "text/plain": [
       "DecisionTreeClassifier(criterion='entropy', max_depth=7, max_features='log2')"
      ]
     },
     "execution_count": 55,
     "metadata": {},
     "output_type": "execute_result"
    }
   ],
   "source": [
    "#Getting the estimator with the best score to use in the model test\n",
    "\n",
    "choosed_param_dtc = param_test_dtc.loc[param_test_dtc.best_score.idxmax()]['best_estimator']\n",
    "choosed_param_dtc"
   ]
  },
  {
   "cell_type": "code",
   "execution_count": 56,
   "id": "670fe0c9",
   "metadata": {
    "ExecuteTime": {
     "end_time": "2023-04-05T02:36:48.494688Z",
     "start_time": "2023-04-05T02:36:45.521019Z"
    }
   },
   "outputs": [
    {
     "data": {
      "text/html": [
       "<div>\n",
       "<style scoped>\n",
       "    .dataframe tbody tr th:only-of-type {\n",
       "        vertical-align: middle;\n",
       "    }\n",
       "\n",
       "    .dataframe tbody tr th {\n",
       "        vertical-align: top;\n",
       "    }\n",
       "\n",
       "    .dataframe thead th {\n",
       "        text-align: right;\n",
       "    }\n",
       "</style>\n",
       "<table border=\"1\" class=\"dataframe\">\n",
       "  <thead>\n",
       "    <tr style=\"text-align: right;\">\n",
       "      <th></th>\n",
       "      <th>test_size</th>\n",
       "      <th>cv_score</th>\n",
       "      <th>cv_score_mean</th>\n",
       "      <th>rmse_mean</th>\n",
       "    </tr>\n",
       "  </thead>\n",
       "  <tbody>\n",
       "    <tr>\n",
       "      <th>0</th>\n",
       "      <td>0.1</td>\n",
       "      <td>[0.8154422544388337, 0.8143020035836456, 0.816...</td>\n",
       "      <td>0.816548</td>\n",
       "      <td>0.428973</td>\n",
       "    </tr>\n",
       "    <tr>\n",
       "      <th>1</th>\n",
       "      <td>0.2</td>\n",
       "      <td>[0.8171156312992487, 0.8187648891332234, 0.809...</td>\n",
       "      <td>0.816527</td>\n",
       "      <td>0.426826</td>\n",
       "    </tr>\n",
       "    <tr>\n",
       "      <th>2</th>\n",
       "      <td>0.3</td>\n",
       "      <td>[0.8131937172774869, 0.8094240837696335, 0.817...</td>\n",
       "      <td>0.816518</td>\n",
       "      <td>0.429906</td>\n",
       "    </tr>\n",
       "    <tr>\n",
       "      <th>3</th>\n",
       "      <td>0.4</td>\n",
       "      <td>[0.8050329831419497, 0.8194478377718055, 0.811...</td>\n",
       "      <td>0.816998</td>\n",
       "      <td>0.427586</td>\n",
       "    </tr>\n",
       "    <tr>\n",
       "      <th>4</th>\n",
       "      <td>0.5</td>\n",
       "      <td>[0.8088537085898564, 0.8120785693345061, 0.822...</td>\n",
       "      <td>0.817049</td>\n",
       "      <td>0.428248</td>\n",
       "    </tr>\n",
       "    <tr>\n",
       "      <th>5</th>\n",
       "      <td>0.6</td>\n",
       "      <td>[0.8142176621473067, 0.8277757420300477, 0.820...</td>\n",
       "      <td>0.818122</td>\n",
       "      <td>0.425091</td>\n",
       "    </tr>\n",
       "    <tr>\n",
       "      <th>6</th>\n",
       "      <td>0.7</td>\n",
       "      <td>[0.815828041035662, 0.8225806451612904, 0.8025...</td>\n",
       "      <td>0.816334</td>\n",
       "      <td>0.427167</td>\n",
       "    </tr>\n",
       "    <tr>\n",
       "      <th>7</th>\n",
       "      <td>0.8</td>\n",
       "      <td>[0.819047619047619, 0.8057184750733137, 0.8291...</td>\n",
       "      <td>0.818268</td>\n",
       "      <td>0.427261</td>\n",
       "    </tr>\n",
       "    <tr>\n",
       "      <th>8</th>\n",
       "      <td>0.9</td>\n",
       "      <td>[0.8313782991202346, 0.8093841642228738, 0.813...</td>\n",
       "      <td>0.816862</td>\n",
       "      <td>0.428230</td>\n",
       "    </tr>\n",
       "  </tbody>\n",
       "</table>\n",
       "</div>"
      ],
      "text/plain": [
       "   test_size                                           cv_score  \\\n",
       "0        0.1  [0.8154422544388337, 0.8143020035836456, 0.816...   \n",
       "1        0.2  [0.8171156312992487, 0.8187648891332234, 0.809...   \n",
       "2        0.3  [0.8131937172774869, 0.8094240837696335, 0.817...   \n",
       "3        0.4  [0.8050329831419497, 0.8194478377718055, 0.811...   \n",
       "4        0.5  [0.8088537085898564, 0.8120785693345061, 0.822...   \n",
       "5        0.6  [0.8142176621473067, 0.8277757420300477, 0.820...   \n",
       "6        0.7  [0.815828041035662, 0.8225806451612904, 0.8025...   \n",
       "7        0.8  [0.819047619047619, 0.8057184750733137, 0.8291...   \n",
       "8        0.9  [0.8313782991202346, 0.8093841642228738, 0.813...   \n",
       "\n",
       "   cv_score_mean  rmse_mean  \n",
       "0       0.816548   0.428973  \n",
       "1       0.816527   0.426826  \n",
       "2       0.816518   0.429906  \n",
       "3       0.816998   0.427586  \n",
       "4       0.817049   0.428248  \n",
       "5       0.818122   0.425091  \n",
       "6       0.816334   0.427167  \n",
       "7       0.818268   0.427261  \n",
       "8       0.816862   0.428230  "
      ]
     },
     "execution_count": 56,
     "metadata": {},
     "output_type": "execute_result"
    }
   ],
   "source": [
    "#Testing the Decision Tree Classifier model\n",
    "#Using the best estimators got in the parameters test in the model test\n",
    "\n",
    "df_results_dtc = proportion_test(choosed_param_dtc, test_size_list)\n",
    "df_results_dtc"
   ]
  },
  {
   "cell_type": "code",
   "execution_count": 57,
   "id": "39dc2f5f",
   "metadata": {
    "ExecuteTime": {
     "end_time": "2023-04-05T02:36:48.510691Z",
     "start_time": "2023-04-05T02:36:48.495688Z"
    }
   },
   "outputs": [
    {
     "data": {
      "text/plain": [
       "0.8170252045115908"
      ]
     },
     "execution_count": 57,
     "metadata": {},
     "output_type": "execute_result"
    }
   ],
   "source": [
    "#Getting the average of Cross Validation Average Score to evaluate the Decision Tree Classifier model's performance\n",
    "\n",
    "cvsm_dtc = df_results_dtc['cv_score_mean'].mean()\n",
    "cvsm_dtc"
   ]
  },
  {
   "cell_type": "markdown",
   "id": "ea660140",
   "metadata": {},
   "source": [
    "### Gaussian Naive Bayes"
   ]
  },
  {
   "cell_type": "code",
   "execution_count": 58,
   "id": "47357ca0",
   "metadata": {
    "ExecuteTime": {
     "end_time": "2023-04-05T02:36:51.595385Z",
     "start_time": "2023-04-05T02:36:48.511692Z"
    }
   },
   "outputs": [
    {
     "data": {
      "text/html": [
       "<div>\n",
       "<style scoped>\n",
       "    .dataframe tbody tr th:only-of-type {\n",
       "        vertical-align: middle;\n",
       "    }\n",
       "\n",
       "    .dataframe tbody tr th {\n",
       "        vertical-align: top;\n",
       "    }\n",
       "\n",
       "    .dataframe thead th {\n",
       "        text-align: right;\n",
       "    }\n",
       "</style>\n",
       "<table border=\"1\" class=\"dataframe\">\n",
       "  <thead>\n",
       "    <tr style=\"text-align: right;\">\n",
       "      <th></th>\n",
       "      <th>test_size</th>\n",
       "      <th>cv_score</th>\n",
       "      <th>cv_score_mean</th>\n",
       "      <th>rmse_mean</th>\n",
       "    </tr>\n",
       "  </thead>\n",
       "  <tbody>\n",
       "    <tr>\n",
       "      <th>0</th>\n",
       "      <td>0.1</td>\n",
       "      <td>[0.7827007655970027, 0.7704837921485584, 0.781...</td>\n",
       "      <td>0.778574</td>\n",
       "      <td>0.470534</td>\n",
       "    </tr>\n",
       "    <tr>\n",
       "      <th>1</th>\n",
       "      <td>0.2</td>\n",
       "      <td>[0.7692871541139821, 0.7802822063404801, 0.780...</td>\n",
       "      <td>0.778096</td>\n",
       "      <td>0.471040</td>\n",
       "    </tr>\n",
       "    <tr>\n",
       "      <th>2</th>\n",
       "      <td>0.3</td>\n",
       "      <td>[0.7798952879581151, 0.7798952879581151, 0.780...</td>\n",
       "      <td>0.778899</td>\n",
       "      <td>0.470185</td>\n",
       "    </tr>\n",
       "    <tr>\n",
       "      <th>3</th>\n",
       "      <td>0.4</td>\n",
       "      <td>[0.7759589543122404, 0.7749816760322502, 0.774...</td>\n",
       "      <td>0.778413</td>\n",
       "      <td>0.470709</td>\n",
       "    </tr>\n",
       "    <tr>\n",
       "      <th>4</th>\n",
       "      <td>0.5</td>\n",
       "      <td>[0.772793902081501, 0.7707417179712694, 0.7876...</td>\n",
       "      <td>0.778547</td>\n",
       "      <td>0.470535</td>\n",
       "    </tr>\n",
       "    <tr>\n",
       "      <th>5</th>\n",
       "      <td>0.6</td>\n",
       "      <td>[0.7871015023818249, 0.7827042872847196, 0.780...</td>\n",
       "      <td>0.780221</td>\n",
       "      <td>0.468775</td>\n",
       "    </tr>\n",
       "    <tr>\n",
       "      <th>6</th>\n",
       "      <td>0.7</td>\n",
       "      <td>[0.7830972154372252, 0.7913000977517106, 0.779...</td>\n",
       "      <td>0.779189</td>\n",
       "      <td>0.469814</td>\n",
       "    </tr>\n",
       "    <tr>\n",
       "      <th>7</th>\n",
       "      <td>0.8</td>\n",
       "      <td>[0.7897435897435897, 0.7844574780058651, 0.804...</td>\n",
       "      <td>0.780514</td>\n",
       "      <td>0.468312</td>\n",
       "    </tr>\n",
       "    <tr>\n",
       "      <th>8</th>\n",
       "      <td>0.9</td>\n",
       "      <td>[0.7888563049853372, 0.7419354838709677, 0.766...</td>\n",
       "      <td>0.773460</td>\n",
       "      <td>0.475636</td>\n",
       "    </tr>\n",
       "  </tbody>\n",
       "</table>\n",
       "</div>"
      ],
      "text/plain": [
       "   test_size                                           cv_score  \\\n",
       "0        0.1  [0.7827007655970027, 0.7704837921485584, 0.781...   \n",
       "1        0.2  [0.7692871541139821, 0.7802822063404801, 0.780...   \n",
       "2        0.3  [0.7798952879581151, 0.7798952879581151, 0.780...   \n",
       "3        0.4  [0.7759589543122404, 0.7749816760322502, 0.774...   \n",
       "4        0.5  [0.772793902081501, 0.7707417179712694, 0.7876...   \n",
       "5        0.6  [0.7871015023818249, 0.7827042872847196, 0.780...   \n",
       "6        0.7  [0.7830972154372252, 0.7913000977517106, 0.779...   \n",
       "7        0.8  [0.7897435897435897, 0.7844574780058651, 0.804...   \n",
       "8        0.9  [0.7888563049853372, 0.7419354838709677, 0.766...   \n",
       "\n",
       "   cv_score_mean  rmse_mean  \n",
       "0       0.778574   0.470534  \n",
       "1       0.778096   0.471040  \n",
       "2       0.778899   0.470185  \n",
       "3       0.778413   0.470709  \n",
       "4       0.778547   0.470535  \n",
       "5       0.780221   0.468775  \n",
       "6       0.779189   0.469814  \n",
       "7       0.780514   0.468312  \n",
       "8       0.773460   0.475636  "
      ]
     },
     "execution_count": 58,
     "metadata": {},
     "output_type": "execute_result"
    }
   ],
   "source": [
    "#Testing the Gaussian Naive Bayes model\n",
    "\n",
    "df_results_gb = proportion_test(GaussianNB(), test_size_list)\n",
    "df_results_gb"
   ]
  },
  {
   "cell_type": "code",
   "execution_count": 59,
   "id": "9c9967f6",
   "metadata": {
    "ExecuteTime": {
     "end_time": "2023-04-05T02:36:51.611388Z",
     "start_time": "2023-04-05T02:36:51.596385Z"
    }
   },
   "outputs": [
    {
     "data": {
      "text/plain": [
       "0.778434954175341"
      ]
     },
     "execution_count": 59,
     "metadata": {},
     "output_type": "execute_result"
    }
   ],
   "source": [
    "#Getting the average of Cross Validation Average Score to evaluate the Gaussian Naive Bayes model's performance\n",
    "\n",
    "cvsm_gb = df_results_gb['cv_score_mean'].mean()\n",
    "cvsm_gb"
   ]
  },
  {
   "cell_type": "markdown",
   "id": "f153c97f",
   "metadata": {},
   "source": [
    "### Random Forest Classifier"
   ]
  },
  {
   "cell_type": "code",
   "execution_count": 60,
   "id": "b1fc6266",
   "metadata": {
    "ExecuteTime": {
     "end_time": "2023-04-05T02:36:51.627392Z",
     "start_time": "2023-04-05T02:36:51.612389Z"
    }
   },
   "outputs": [],
   "source": [
    "#Defining the array of parameters to test the fit in the Random Forest Classifier\n",
    "\n",
    "parameters_rfc = {'bootstrap': [True, False]\n",
    "                  , 'max_depth': [3,5,7,9,10]\n",
    "                  , 'max_features': ['auto', 'sqrt']\n",
    "                  , 'min_samples_leaf': [1, 2]\n",
    "                  , 'min_samples_split': [2, 4, 6]\n",
    "                  , 'n_estimators': [10, 17, 25, 33, 41, 48, 56, 64, 72, 80]}"
   ]
  },
  {
   "cell_type": "code",
   "execution_count": 61,
   "id": "8ea2dbbd",
   "metadata": {
    "ExecuteTime": {
     "end_time": "2023-04-05T02:41:52.977124Z",
     "start_time": "2023-04-05T02:36:51.628392Z"
    },
    "scrolled": false
   },
   "outputs": [
    {
     "data": {
      "text/html": [
       "<div>\n",
       "<style scoped>\n",
       "    .dataframe tbody tr th:only-of-type {\n",
       "        vertical-align: middle;\n",
       "    }\n",
       "\n",
       "    .dataframe tbody tr th {\n",
       "        vertical-align: top;\n",
       "    }\n",
       "\n",
       "    .dataframe thead th {\n",
       "        text-align: right;\n",
       "    }\n",
       "</style>\n",
       "<table border=\"1\" class=\"dataframe\">\n",
       "  <thead>\n",
       "    <tr style=\"text-align: right;\">\n",
       "      <th></th>\n",
       "      <th>size</th>\n",
       "      <th>best_score</th>\n",
       "      <th>best_estimator</th>\n",
       "    </tr>\n",
       "  </thead>\n",
       "  <tbody>\n",
       "    <tr>\n",
       "      <th>0</th>\n",
       "      <td>0.1</td>\n",
       "      <td>0.817444</td>\n",
       "      <td>(DecisionTreeClassifier(max_depth=9, max_featu...</td>\n",
       "    </tr>\n",
       "    <tr>\n",
       "      <th>1</th>\n",
       "      <td>0.2</td>\n",
       "      <td>0.818433</td>\n",
       "      <td>(DecisionTreeClassifier(max_depth=10, max_feat...</td>\n",
       "    </tr>\n",
       "    <tr>\n",
       "      <th>2</th>\n",
       "      <td>0.3</td>\n",
       "      <td>0.818738</td>\n",
       "      <td>(DecisionTreeClassifier(max_depth=10, max_feat...</td>\n",
       "    </tr>\n",
       "    <tr>\n",
       "      <th>3</th>\n",
       "      <td>0.4</td>\n",
       "      <td>0.818757</td>\n",
       "      <td>(DecisionTreeClassifier(max_depth=10, max_feat...</td>\n",
       "    </tr>\n",
       "    <tr>\n",
       "      <th>4</th>\n",
       "      <td>0.5</td>\n",
       "      <td>0.819248</td>\n",
       "      <td>(DecisionTreeClassifier(max_depth=9, max_featu...</td>\n",
       "    </tr>\n",
       "    <tr>\n",
       "      <th>5</th>\n",
       "      <td>0.6</td>\n",
       "      <td>0.821164</td>\n",
       "      <td>(DecisionTreeClassifier(max_depth=10, max_feat...</td>\n",
       "    </tr>\n",
       "    <tr>\n",
       "      <th>6</th>\n",
       "      <td>0.7</td>\n",
       "      <td>0.820537</td>\n",
       "      <td>(DecisionTreeClassifier(max_depth=10, max_feat...</td>\n",
       "    </tr>\n",
       "    <tr>\n",
       "      <th>7</th>\n",
       "      <td>0.8</td>\n",
       "      <td>0.819735</td>\n",
       "      <td>(DecisionTreeClassifier(max_depth=10, max_feat...</td>\n",
       "    </tr>\n",
       "    <tr>\n",
       "      <th>8</th>\n",
       "      <td>0.9</td>\n",
       "      <td>0.822287</td>\n",
       "      <td>(DecisionTreeClassifier(max_depth=10, max_feat...</td>\n",
       "    </tr>\n",
       "  </tbody>\n",
       "</table>\n",
       "</div>"
      ],
      "text/plain": [
       "   size  best_score                                     best_estimator\n",
       "0   0.1    0.817444  (DecisionTreeClassifier(max_depth=9, max_featu...\n",
       "1   0.2    0.818433  (DecisionTreeClassifier(max_depth=10, max_feat...\n",
       "2   0.3    0.818738  (DecisionTreeClassifier(max_depth=10, max_feat...\n",
       "3   0.4    0.818757  (DecisionTreeClassifier(max_depth=10, max_feat...\n",
       "4   0.5    0.819248  (DecisionTreeClassifier(max_depth=9, max_featu...\n",
       "5   0.6    0.821164  (DecisionTreeClassifier(max_depth=10, max_feat...\n",
       "6   0.7    0.820537  (DecisionTreeClassifier(max_depth=10, max_feat...\n",
       "7   0.8    0.819735  (DecisionTreeClassifier(max_depth=10, max_feat...\n",
       "8   0.9    0.822287  (DecisionTreeClassifier(max_depth=10, max_feat..."
      ]
     },
     "execution_count": 61,
     "metadata": {},
     "output_type": "execute_result"
    }
   ],
   "source": [
    "#Executing the paratemers fitting test in the Random Forest Classifier model\n",
    "\n",
    "param_test_rfc = param_test(RandomForestClassifier(),test_size_list,parameters_rfc)\n",
    "param_test_rfc"
   ]
  },
  {
   "cell_type": "code",
   "execution_count": 62,
   "id": "baadf559",
   "metadata": {
    "ExecuteTime": {
     "end_time": "2023-04-05T02:41:52.993128Z",
     "start_time": "2023-04-05T02:41:52.978124Z"
    }
   },
   "outputs": [
    {
     "data": {
      "text/html": [
       "<style>#sk-container-id-2 {color: black;background-color: white;}#sk-container-id-2 pre{padding: 0;}#sk-container-id-2 div.sk-toggleable {background-color: white;}#sk-container-id-2 label.sk-toggleable__label {cursor: pointer;display: block;width: 100%;margin-bottom: 0;padding: 0.3em;box-sizing: border-box;text-align: center;}#sk-container-id-2 label.sk-toggleable__label-arrow:before {content: \"▸\";float: left;margin-right: 0.25em;color: #696969;}#sk-container-id-2 label.sk-toggleable__label-arrow:hover:before {color: black;}#sk-container-id-2 div.sk-estimator:hover label.sk-toggleable__label-arrow:before {color: black;}#sk-container-id-2 div.sk-toggleable__content {max-height: 0;max-width: 0;overflow: hidden;text-align: left;background-color: #f0f8ff;}#sk-container-id-2 div.sk-toggleable__content pre {margin: 0.2em;color: black;border-radius: 0.25em;background-color: #f0f8ff;}#sk-container-id-2 input.sk-toggleable__control:checked~div.sk-toggleable__content {max-height: 200px;max-width: 100%;overflow: auto;}#sk-container-id-2 input.sk-toggleable__control:checked~label.sk-toggleable__label-arrow:before {content: \"▾\";}#sk-container-id-2 div.sk-estimator input.sk-toggleable__control:checked~label.sk-toggleable__label {background-color: #d4ebff;}#sk-container-id-2 div.sk-label input.sk-toggleable__control:checked~label.sk-toggleable__label {background-color: #d4ebff;}#sk-container-id-2 input.sk-hidden--visually {border: 0;clip: rect(1px 1px 1px 1px);clip: rect(1px, 1px, 1px, 1px);height: 1px;margin: -1px;overflow: hidden;padding: 0;position: absolute;width: 1px;}#sk-container-id-2 div.sk-estimator {font-family: monospace;background-color: #f0f8ff;border: 1px dotted black;border-radius: 0.25em;box-sizing: border-box;margin-bottom: 0.5em;}#sk-container-id-2 div.sk-estimator:hover {background-color: #d4ebff;}#sk-container-id-2 div.sk-parallel-item::after {content: \"\";width: 100%;border-bottom: 1px solid gray;flex-grow: 1;}#sk-container-id-2 div.sk-label:hover label.sk-toggleable__label {background-color: #d4ebff;}#sk-container-id-2 div.sk-serial::before {content: \"\";position: absolute;border-left: 1px solid gray;box-sizing: border-box;top: 0;bottom: 0;left: 50%;z-index: 0;}#sk-container-id-2 div.sk-serial {display: flex;flex-direction: column;align-items: center;background-color: white;padding-right: 0.2em;padding-left: 0.2em;position: relative;}#sk-container-id-2 div.sk-item {position: relative;z-index: 1;}#sk-container-id-2 div.sk-parallel {display: flex;align-items: stretch;justify-content: center;background-color: white;position: relative;}#sk-container-id-2 div.sk-item::before, #sk-container-id-2 div.sk-parallel-item::before {content: \"\";position: absolute;border-left: 1px solid gray;box-sizing: border-box;top: 0;bottom: 0;left: 50%;z-index: -1;}#sk-container-id-2 div.sk-parallel-item {display: flex;flex-direction: column;z-index: 1;position: relative;background-color: white;}#sk-container-id-2 div.sk-parallel-item:first-child::after {align-self: flex-end;width: 50%;}#sk-container-id-2 div.sk-parallel-item:last-child::after {align-self: flex-start;width: 50%;}#sk-container-id-2 div.sk-parallel-item:only-child::after {width: 0;}#sk-container-id-2 div.sk-dashed-wrapped {border: 1px dashed gray;margin: 0 0.4em 0.5em 0.4em;box-sizing: border-box;padding-bottom: 0.4em;background-color: white;}#sk-container-id-2 div.sk-label label {font-family: monospace;font-weight: bold;display: inline-block;line-height: 1.2em;}#sk-container-id-2 div.sk-label-container {text-align: center;}#sk-container-id-2 div.sk-container {/* jupyter's `normalize.less` sets `[hidden] { display: none; }` but bootstrap.min.css set `[hidden] { display: none !important; }` so we also need the `!important` here to be able to override the default hidden behavior on the sphinx rendered scikit-learn.org. See: https://github.com/scikit-learn/scikit-learn/issues/21755 */display: inline-block !important;position: relative;}#sk-container-id-2 div.sk-text-repr-fallback {display: none;}</style><div id=\"sk-container-id-2\" class=\"sk-top-container\"><div class=\"sk-text-repr-fallback\"><pre>RandomForestClassifier(bootstrap=False, max_depth=10, min_samples_leaf=2,\n",
       "                       min_samples_split=6, n_estimators=56)</pre><b>In a Jupyter environment, please rerun this cell to show the HTML representation or trust the notebook. <br />On GitHub, the HTML representation is unable to render, please try loading this page with nbviewer.org.</b></div><div class=\"sk-container\" hidden><div class=\"sk-item\"><div class=\"sk-estimator sk-toggleable\"><input class=\"sk-toggleable__control sk-hidden--visually\" id=\"sk-estimator-id-2\" type=\"checkbox\" checked><label for=\"sk-estimator-id-2\" class=\"sk-toggleable__label sk-toggleable__label-arrow\">RandomForestClassifier</label><div class=\"sk-toggleable__content\"><pre>RandomForestClassifier(bootstrap=False, max_depth=10, min_samples_leaf=2,\n",
       "                       min_samples_split=6, n_estimators=56)</pre></div></div></div></div></div>"
      ],
      "text/plain": [
       "RandomForestClassifier(bootstrap=False, max_depth=10, min_samples_leaf=2,\n",
       "                       min_samples_split=6, n_estimators=56)"
      ]
     },
     "execution_count": 62,
     "metadata": {},
     "output_type": "execute_result"
    }
   ],
   "source": [
    "#Getting the estimator with the best score to use in the model test\n",
    "\n",
    "choosed_param_rfc = param_test_rfc.loc[param_test_rfc.best_score.idxmax()]['best_estimator']\n",
    "choosed_param_rfc"
   ]
  },
  {
   "cell_type": "code",
   "execution_count": 63,
   "id": "2fc27796",
   "metadata": {
    "ExecuteTime": {
     "end_time": "2023-04-05T02:43:43.515969Z",
     "start_time": "2023-04-05T02:41:52.994128Z"
    }
   },
   "outputs": [
    {
     "data": {
      "text/html": [
       "<div>\n",
       "<style scoped>\n",
       "    .dataframe tbody tr th:only-of-type {\n",
       "        vertical-align: middle;\n",
       "    }\n",
       "\n",
       "    .dataframe tbody tr th {\n",
       "        vertical-align: top;\n",
       "    }\n",
       "\n",
       "    .dataframe thead th {\n",
       "        text-align: right;\n",
       "    }\n",
       "</style>\n",
       "<table border=\"1\" class=\"dataframe\">\n",
       "  <thead>\n",
       "    <tr style=\"text-align: right;\">\n",
       "      <th></th>\n",
       "      <th>test_size</th>\n",
       "      <th>cv_score</th>\n",
       "      <th>cv_score_mean</th>\n",
       "      <th>rmse_mean</th>\n",
       "    </tr>\n",
       "  </thead>\n",
       "  <tbody>\n",
       "    <tr>\n",
       "      <th>0</th>\n",
       "      <td>0.1</td>\n",
       "      <td>[0.816908291252647, 0.8159309333767715, 0.8165...</td>\n",
       "      <td>0.817998</td>\n",
       "      <td>0.426766</td>\n",
       "    </tr>\n",
       "    <tr>\n",
       "      <th>1</th>\n",
       "      <td>0.2</td>\n",
       "      <td>[0.8161993769470405, 0.817482133040132, 0.8108...</td>\n",
       "      <td>0.817884</td>\n",
       "      <td>0.426479</td>\n",
       "    </tr>\n",
       "    <tr>\n",
       "      <th>2</th>\n",
       "      <td>0.3</td>\n",
       "      <td>[0.8186387434554974, 0.810890052356021, 0.8209...</td>\n",
       "      <td>0.818885</td>\n",
       "      <td>0.425525</td>\n",
       "    </tr>\n",
       "    <tr>\n",
       "      <th>3</th>\n",
       "      <td>0.4</td>\n",
       "      <td>[0.8094307354019057, 0.8206694356217933, 0.811...</td>\n",
       "      <td>0.818806</td>\n",
       "      <td>0.426044</td>\n",
       "    </tr>\n",
       "    <tr>\n",
       "      <th>4</th>\n",
       "      <td>0.5</td>\n",
       "      <td>[0.8144239226033422, 0.8117854001759015, 0.823...</td>\n",
       "      <td>0.819366</td>\n",
       "      <td>0.424755</td>\n",
       "    </tr>\n",
       "    <tr>\n",
       "      <th>5</th>\n",
       "      <td>0.6</td>\n",
       "      <td>[0.8175155734701356, 0.8299743495786002, 0.822...</td>\n",
       "      <td>0.821054</td>\n",
       "      <td>0.422797</td>\n",
       "    </tr>\n",
       "    <tr>\n",
       "      <th>6</th>\n",
       "      <td>0.7</td>\n",
       "      <td>[0.82266731802638, 0.8264907135874878, 0.80938...</td>\n",
       "      <td>0.820879</td>\n",
       "      <td>0.423850</td>\n",
       "    </tr>\n",
       "    <tr>\n",
       "      <th>7</th>\n",
       "      <td>0.8</td>\n",
       "      <td>[0.8168498168498168, 0.8086510263929618, 0.829...</td>\n",
       "      <td>0.820321</td>\n",
       "      <td>0.423482</td>\n",
       "    </tr>\n",
       "    <tr>\n",
       "      <th>8</th>\n",
       "      <td>0.9</td>\n",
       "      <td>[0.8387096774193549, 0.8167155425219942, 0.821...</td>\n",
       "      <td>0.822141</td>\n",
       "      <td>0.420690</td>\n",
       "    </tr>\n",
       "  </tbody>\n",
       "</table>\n",
       "</div>"
      ],
      "text/plain": [
       "   test_size                                           cv_score  \\\n",
       "0        0.1  [0.816908291252647, 0.8159309333767715, 0.8165...   \n",
       "1        0.2  [0.8161993769470405, 0.817482133040132, 0.8108...   \n",
       "2        0.3  [0.8186387434554974, 0.810890052356021, 0.8209...   \n",
       "3        0.4  [0.8094307354019057, 0.8206694356217933, 0.811...   \n",
       "4        0.5  [0.8144239226033422, 0.8117854001759015, 0.823...   \n",
       "5        0.6  [0.8175155734701356, 0.8299743495786002, 0.822...   \n",
       "6        0.7  [0.82266731802638, 0.8264907135874878, 0.80938...   \n",
       "7        0.8  [0.8168498168498168, 0.8086510263929618, 0.829...   \n",
       "8        0.9  [0.8387096774193549, 0.8167155425219942, 0.821...   \n",
       "\n",
       "   cv_score_mean  rmse_mean  \n",
       "0       0.817998   0.426766  \n",
       "1       0.817884   0.426479  \n",
       "2       0.818885   0.425525  \n",
       "3       0.818806   0.426044  \n",
       "4       0.819366   0.424755  \n",
       "5       0.821054   0.422797  \n",
       "6       0.820879   0.423850  \n",
       "7       0.820321   0.423482  \n",
       "8       0.822141   0.420690  "
      ]
     },
     "execution_count": 63,
     "metadata": {},
     "output_type": "execute_result"
    }
   ],
   "source": [
    "#Testing the Random Forest Classifier model\n",
    "#Using the best estimators got in the parameters test in the model test\n",
    "\n",
    "df_results_rfc = proportion_test(choosed_param_rfc, test_size_list)\n",
    "df_results_rfc"
   ]
  },
  {
   "cell_type": "code",
   "execution_count": 64,
   "id": "ec03081c",
   "metadata": {
    "ExecuteTime": {
     "end_time": "2023-04-05T02:43:43.531973Z",
     "start_time": "2023-04-05T02:43:43.516970Z"
    }
   },
   "outputs": [
    {
     "data": {
      "text/plain": [
       "0.8197037353075918"
      ]
     },
     "execution_count": 64,
     "metadata": {},
     "output_type": "execute_result"
    }
   ],
   "source": [
    "#Getting the average of Cross Validation Average Score to evaluate the Random Forest Classifier model's performance\n",
    "\n",
    "cvsm_rfc = df_results_rfc['cv_score_mean'].mean()\n",
    "cvsm_rfc"
   ]
  },
  {
   "cell_type": "markdown",
   "id": "55445125",
   "metadata": {},
   "source": [
    "## Predicting with selected models"
   ]
  },
  {
   "cell_type": "markdown",
   "id": "6565d424",
   "metadata": {},
   "source": [
    "Decision Tree Classifier and Random Forest Classifier got similar Accuracy: 0.817 and 0.819, respectively.\n",
    "\n",
    "In order to choose the best model, the predicting was performed on both to evaluate and compare the performances."
   ]
  },
  {
   "cell_type": "code",
   "execution_count": 65,
   "id": "30398a60",
   "metadata": {
    "ExecuteTime": {
     "end_time": "2023-04-05T02:43:43.547976Z",
     "start_time": "2023-04-05T02:43:43.532973Z"
    }
   },
   "outputs": [],
   "source": [
    "#Setting a test size as 0.7 to make predictions\n",
    "\n",
    "test_size_predicting = 0.7"
   ]
  },
  {
   "cell_type": "code",
   "execution_count": 66,
   "id": "d78c471e",
   "metadata": {
    "ExecuteTime": {
     "end_time": "2023-04-05T02:43:43.563980Z",
     "start_time": "2023-04-05T02:43:43.548977Z"
    }
   },
   "outputs": [],
   "source": [
    "#Function to calculata some metrics to evaluate the models prediction\n",
    "\n",
    "def metrics_predicting (y_test, y_predicted):\n",
    "    # Accuracy\n",
    "    accuracy = accuracy_score(y_test, y_predicted)\n",
    "    print('Accuracy: ', accuracy)\n",
    "\n",
    "    # Precision\n",
    "    precision = precision_score(y_test, y_predicted)\n",
    "    print('Precision: ', precision)\n",
    "\n",
    "    # Recall\n",
    "    recall = recall_score(y_test, y_predicted)\n",
    "    print('Recall: ', recall)\n",
    "\n",
    "    # F1-Score\n",
    "    f1 = f1_score(y_test, y_predicted)\n",
    "    print('F1-Score: ', f1)"
   ]
  },
  {
   "cell_type": "markdown",
   "id": "8be8cb62",
   "metadata": {},
   "source": [
    "### Decision Tree Classifier"
   ]
  },
  {
   "cell_type": "code",
   "execution_count": 67,
   "id": "e751ef2f",
   "metadata": {
    "ExecuteTime": {
     "end_time": "2023-04-05T02:43:43.579984Z",
     "start_time": "2023-04-05T02:43:43.564981Z"
    }
   },
   "outputs": [],
   "source": [
    "#Setting the same parameters that are in the Training/Testing step\n",
    "choosed_model_dtc = choosed_param_dtc\n",
    "\n",
    "#Taking X and y, train and test, with the setted test size\n",
    "X_train_dtc, X_test_dtc, y_train_dtc, y_test_dtc = test_size_set(test_size_predicting)"
   ]
  },
  {
   "cell_type": "code",
   "execution_count": 68,
   "id": "98f877d7",
   "metadata": {
    "ExecuteTime": {
     "end_time": "2023-04-05T02:43:43.868049Z",
     "start_time": "2023-04-05T02:43:43.587985Z"
    }
   },
   "outputs": [],
   "source": [
    "#Applying Smote to try to reduce the unbalanced behavior of 'delay_15' in the dataset\n",
    "\n",
    "X_smote_dtc_res, y_smote_dtc_res = smote.fit_resample(X_train_dtc, y_train_dtc)"
   ]
  },
  {
   "cell_type": "code",
   "execution_count": 69,
   "id": "d3d61525",
   "metadata": {
    "ExecuteTime": {
     "end_time": "2023-04-05T02:43:43.900056Z",
     "start_time": "2023-04-05T02:43:43.871049Z"
    }
   },
   "outputs": [
    {
     "data": {
      "text/html": [
       "<style>#sk-container-id-3 {color: black;background-color: white;}#sk-container-id-3 pre{padding: 0;}#sk-container-id-3 div.sk-toggleable {background-color: white;}#sk-container-id-3 label.sk-toggleable__label {cursor: pointer;display: block;width: 100%;margin-bottom: 0;padding: 0.3em;box-sizing: border-box;text-align: center;}#sk-container-id-3 label.sk-toggleable__label-arrow:before {content: \"▸\";float: left;margin-right: 0.25em;color: #696969;}#sk-container-id-3 label.sk-toggleable__label-arrow:hover:before {color: black;}#sk-container-id-3 div.sk-estimator:hover label.sk-toggleable__label-arrow:before {color: black;}#sk-container-id-3 div.sk-toggleable__content {max-height: 0;max-width: 0;overflow: hidden;text-align: left;background-color: #f0f8ff;}#sk-container-id-3 div.sk-toggleable__content pre {margin: 0.2em;color: black;border-radius: 0.25em;background-color: #f0f8ff;}#sk-container-id-3 input.sk-toggleable__control:checked~div.sk-toggleable__content {max-height: 200px;max-width: 100%;overflow: auto;}#sk-container-id-3 input.sk-toggleable__control:checked~label.sk-toggleable__label-arrow:before {content: \"▾\";}#sk-container-id-3 div.sk-estimator input.sk-toggleable__control:checked~label.sk-toggleable__label {background-color: #d4ebff;}#sk-container-id-3 div.sk-label input.sk-toggleable__control:checked~label.sk-toggleable__label {background-color: #d4ebff;}#sk-container-id-3 input.sk-hidden--visually {border: 0;clip: rect(1px 1px 1px 1px);clip: rect(1px, 1px, 1px, 1px);height: 1px;margin: -1px;overflow: hidden;padding: 0;position: absolute;width: 1px;}#sk-container-id-3 div.sk-estimator {font-family: monospace;background-color: #f0f8ff;border: 1px dotted black;border-radius: 0.25em;box-sizing: border-box;margin-bottom: 0.5em;}#sk-container-id-3 div.sk-estimator:hover {background-color: #d4ebff;}#sk-container-id-3 div.sk-parallel-item::after {content: \"\";width: 100%;border-bottom: 1px solid gray;flex-grow: 1;}#sk-container-id-3 div.sk-label:hover label.sk-toggleable__label {background-color: #d4ebff;}#sk-container-id-3 div.sk-serial::before {content: \"\";position: absolute;border-left: 1px solid gray;box-sizing: border-box;top: 0;bottom: 0;left: 50%;z-index: 0;}#sk-container-id-3 div.sk-serial {display: flex;flex-direction: column;align-items: center;background-color: white;padding-right: 0.2em;padding-left: 0.2em;position: relative;}#sk-container-id-3 div.sk-item {position: relative;z-index: 1;}#sk-container-id-3 div.sk-parallel {display: flex;align-items: stretch;justify-content: center;background-color: white;position: relative;}#sk-container-id-3 div.sk-item::before, #sk-container-id-3 div.sk-parallel-item::before {content: \"\";position: absolute;border-left: 1px solid gray;box-sizing: border-box;top: 0;bottom: 0;left: 50%;z-index: -1;}#sk-container-id-3 div.sk-parallel-item {display: flex;flex-direction: column;z-index: 1;position: relative;background-color: white;}#sk-container-id-3 div.sk-parallel-item:first-child::after {align-self: flex-end;width: 50%;}#sk-container-id-3 div.sk-parallel-item:last-child::after {align-self: flex-start;width: 50%;}#sk-container-id-3 div.sk-parallel-item:only-child::after {width: 0;}#sk-container-id-3 div.sk-dashed-wrapped {border: 1px dashed gray;margin: 0 0.4em 0.5em 0.4em;box-sizing: border-box;padding-bottom: 0.4em;background-color: white;}#sk-container-id-3 div.sk-label label {font-family: monospace;font-weight: bold;display: inline-block;line-height: 1.2em;}#sk-container-id-3 div.sk-label-container {text-align: center;}#sk-container-id-3 div.sk-container {/* jupyter's `normalize.less` sets `[hidden] { display: none; }` but bootstrap.min.css set `[hidden] { display: none !important; }` so we also need the `!important` here to be able to override the default hidden behavior on the sphinx rendered scikit-learn.org. See: https://github.com/scikit-learn/scikit-learn/issues/21755 */display: inline-block !important;position: relative;}#sk-container-id-3 div.sk-text-repr-fallback {display: none;}</style><div id=\"sk-container-id-3\" class=\"sk-top-container\"><div class=\"sk-text-repr-fallback\"><pre>DecisionTreeClassifier(criterion=&#x27;entropy&#x27;, max_depth=7, max_features=&#x27;log2&#x27;)</pre><b>In a Jupyter environment, please rerun this cell to show the HTML representation or trust the notebook. <br />On GitHub, the HTML representation is unable to render, please try loading this page with nbviewer.org.</b></div><div class=\"sk-container\" hidden><div class=\"sk-item\"><div class=\"sk-estimator sk-toggleable\"><input class=\"sk-toggleable__control sk-hidden--visually\" id=\"sk-estimator-id-3\" type=\"checkbox\" checked><label for=\"sk-estimator-id-3\" class=\"sk-toggleable__label sk-toggleable__label-arrow\">DecisionTreeClassifier</label><div class=\"sk-toggleable__content\"><pre>DecisionTreeClassifier(criterion=&#x27;entropy&#x27;, max_depth=7, max_features=&#x27;log2&#x27;)</pre></div></div></div></div></div>"
      ],
      "text/plain": [
       "DecisionTreeClassifier(criterion='entropy', max_depth=7, max_features='log2')"
      ]
     },
     "execution_count": 69,
     "metadata": {},
     "output_type": "execute_result"
    }
   ],
   "source": [
    "#Fitting Smote X and y in the model\n",
    "\n",
    "choosed_model_dtc.fit(X_smote_dtc_res, y_smote_dtc_res)"
   ]
  },
  {
   "cell_type": "code",
   "execution_count": 70,
   "id": "9d6c0c5b",
   "metadata": {
    "ExecuteTime": {
     "end_time": "2023-04-05T02:43:43.916059Z",
     "start_time": "2023-04-05T02:43:43.901056Z"
    }
   },
   "outputs": [
    {
     "name": "stdout",
     "output_type": "stream",
     "text": [
      "[0 0 0 ... 1 1 1]\n"
     ]
    }
   ],
   "source": [
    "#Making predictions\n",
    "\n",
    "choosed_model_predictions_dtc = choosed_model_dtc.predict(X_test_dtc)\n",
    "print(choosed_model_predictions_dtc)"
   ]
  },
  {
   "cell_type": "code",
   "execution_count": 71,
   "id": "12eaf855",
   "metadata": {
    "ExecuteTime": {
     "end_time": "2023-04-05T02:43:43.932063Z",
     "start_time": "2023-04-05T02:43:43.917061Z"
    }
   },
   "outputs": [
    {
     "data": {
      "text/plain": [
       "0    25645\n",
       "1    22099\n",
       "dtype: int64"
      ]
     },
     "execution_count": 71,
     "metadata": {},
     "output_type": "execute_result"
    }
   ],
   "source": [
    "#Observing the proportion of predictions\n",
    "\n",
    "pd.Series(choosed_model_predictions_dtc).value_counts()"
   ]
  },
  {
   "cell_type": "code",
   "execution_count": 72,
   "id": "af894082",
   "metadata": {
    "ExecuteTime": {
     "end_time": "2023-04-05T02:43:43.980074Z",
     "start_time": "2023-04-05T02:43:43.933063Z"
    }
   },
   "outputs": [
    {
     "name": "stdout",
     "output_type": "stream",
     "text": [
      "Accuracy:  0.5809944705093834\n",
      "Precision:  0.24697950133490204\n",
      "Recall:  0.6186805712990252\n",
      "F1-Score:  0.3530286860062741\n"
     ]
    }
   ],
   "source": [
    "#Getting metrics values the Decision Tree Classifier predicting\n",
    "\n",
    "metrics_predicting(y_test_dtc, choosed_model_predictions_dtc)"
   ]
  },
  {
   "cell_type": "markdown",
   "id": "7cc66e79",
   "metadata": {},
   "source": [
    "### Random Forest Classifier"
   ]
  },
  {
   "cell_type": "code",
   "execution_count": 73,
   "id": "a462abd1",
   "metadata": {
    "ExecuteTime": {
     "end_time": "2023-04-05T02:43:43.996077Z",
     "start_time": "2023-04-05T02:43:43.981074Z"
    }
   },
   "outputs": [],
   "source": [
    "#Setting the same parameters that are in the Training/Testing step\n",
    "choosed_model_rfc = choosed_param_rfc\n",
    "\n",
    "#Taking X and y, train and test, with the setted test size\n",
    "X_train_rfc, X_test_rfc, y_train_rfc, y_test_rfc = test_size_set(test_size_predicting)"
   ]
  },
  {
   "cell_type": "code",
   "execution_count": 74,
   "id": "9ab05a5e",
   "metadata": {
    "ExecuteTime": {
     "end_time": "2023-04-05T02:43:44.284142Z",
     "start_time": "2023-04-05T02:43:43.997077Z"
    }
   },
   "outputs": [],
   "source": [
    "#Applying Smote to try to reduce the unbalanced behavior of 'delay_15' in the dataset\n",
    "\n",
    "X_smote_rfc_res, y_smote_rfc_res = smote.fit_resample(X_train_rfc, y_train_rfc)"
   ]
  },
  {
   "cell_type": "code",
   "execution_count": 75,
   "id": "ddd3a665",
   "metadata": {
    "ExecuteTime": {
     "end_time": "2023-04-05T02:43:44.876275Z",
     "start_time": "2023-04-05T02:43:44.285142Z"
    }
   },
   "outputs": [
    {
     "data": {
      "text/html": [
       "<style>#sk-container-id-4 {color: black;background-color: white;}#sk-container-id-4 pre{padding: 0;}#sk-container-id-4 div.sk-toggleable {background-color: white;}#sk-container-id-4 label.sk-toggleable__label {cursor: pointer;display: block;width: 100%;margin-bottom: 0;padding: 0.3em;box-sizing: border-box;text-align: center;}#sk-container-id-4 label.sk-toggleable__label-arrow:before {content: \"▸\";float: left;margin-right: 0.25em;color: #696969;}#sk-container-id-4 label.sk-toggleable__label-arrow:hover:before {color: black;}#sk-container-id-4 div.sk-estimator:hover label.sk-toggleable__label-arrow:before {color: black;}#sk-container-id-4 div.sk-toggleable__content {max-height: 0;max-width: 0;overflow: hidden;text-align: left;background-color: #f0f8ff;}#sk-container-id-4 div.sk-toggleable__content pre {margin: 0.2em;color: black;border-radius: 0.25em;background-color: #f0f8ff;}#sk-container-id-4 input.sk-toggleable__control:checked~div.sk-toggleable__content {max-height: 200px;max-width: 100%;overflow: auto;}#sk-container-id-4 input.sk-toggleable__control:checked~label.sk-toggleable__label-arrow:before {content: \"▾\";}#sk-container-id-4 div.sk-estimator input.sk-toggleable__control:checked~label.sk-toggleable__label {background-color: #d4ebff;}#sk-container-id-4 div.sk-label input.sk-toggleable__control:checked~label.sk-toggleable__label {background-color: #d4ebff;}#sk-container-id-4 input.sk-hidden--visually {border: 0;clip: rect(1px 1px 1px 1px);clip: rect(1px, 1px, 1px, 1px);height: 1px;margin: -1px;overflow: hidden;padding: 0;position: absolute;width: 1px;}#sk-container-id-4 div.sk-estimator {font-family: monospace;background-color: #f0f8ff;border: 1px dotted black;border-radius: 0.25em;box-sizing: border-box;margin-bottom: 0.5em;}#sk-container-id-4 div.sk-estimator:hover {background-color: #d4ebff;}#sk-container-id-4 div.sk-parallel-item::after {content: \"\";width: 100%;border-bottom: 1px solid gray;flex-grow: 1;}#sk-container-id-4 div.sk-label:hover label.sk-toggleable__label {background-color: #d4ebff;}#sk-container-id-4 div.sk-serial::before {content: \"\";position: absolute;border-left: 1px solid gray;box-sizing: border-box;top: 0;bottom: 0;left: 50%;z-index: 0;}#sk-container-id-4 div.sk-serial {display: flex;flex-direction: column;align-items: center;background-color: white;padding-right: 0.2em;padding-left: 0.2em;position: relative;}#sk-container-id-4 div.sk-item {position: relative;z-index: 1;}#sk-container-id-4 div.sk-parallel {display: flex;align-items: stretch;justify-content: center;background-color: white;position: relative;}#sk-container-id-4 div.sk-item::before, #sk-container-id-4 div.sk-parallel-item::before {content: \"\";position: absolute;border-left: 1px solid gray;box-sizing: border-box;top: 0;bottom: 0;left: 50%;z-index: -1;}#sk-container-id-4 div.sk-parallel-item {display: flex;flex-direction: column;z-index: 1;position: relative;background-color: white;}#sk-container-id-4 div.sk-parallel-item:first-child::after {align-self: flex-end;width: 50%;}#sk-container-id-4 div.sk-parallel-item:last-child::after {align-self: flex-start;width: 50%;}#sk-container-id-4 div.sk-parallel-item:only-child::after {width: 0;}#sk-container-id-4 div.sk-dashed-wrapped {border: 1px dashed gray;margin: 0 0.4em 0.5em 0.4em;box-sizing: border-box;padding-bottom: 0.4em;background-color: white;}#sk-container-id-4 div.sk-label label {font-family: monospace;font-weight: bold;display: inline-block;line-height: 1.2em;}#sk-container-id-4 div.sk-label-container {text-align: center;}#sk-container-id-4 div.sk-container {/* jupyter's `normalize.less` sets `[hidden] { display: none; }` but bootstrap.min.css set `[hidden] { display: none !important; }` so we also need the `!important` here to be able to override the default hidden behavior on the sphinx rendered scikit-learn.org. See: https://github.com/scikit-learn/scikit-learn/issues/21755 */display: inline-block !important;position: relative;}#sk-container-id-4 div.sk-text-repr-fallback {display: none;}</style><div id=\"sk-container-id-4\" class=\"sk-top-container\"><div class=\"sk-text-repr-fallback\"><pre>RandomForestClassifier(bootstrap=False, max_depth=10, min_samples_leaf=2,\n",
       "                       min_samples_split=6, n_estimators=56)</pre><b>In a Jupyter environment, please rerun this cell to show the HTML representation or trust the notebook. <br />On GitHub, the HTML representation is unable to render, please try loading this page with nbviewer.org.</b></div><div class=\"sk-container\" hidden><div class=\"sk-item\"><div class=\"sk-estimator sk-toggleable\"><input class=\"sk-toggleable__control sk-hidden--visually\" id=\"sk-estimator-id-4\" type=\"checkbox\" checked><label for=\"sk-estimator-id-4\" class=\"sk-toggleable__label sk-toggleable__label-arrow\">RandomForestClassifier</label><div class=\"sk-toggleable__content\"><pre>RandomForestClassifier(bootstrap=False, max_depth=10, min_samples_leaf=2,\n",
       "                       min_samples_split=6, n_estimators=56)</pre></div></div></div></div></div>"
      ],
      "text/plain": [
       "RandomForestClassifier(bootstrap=False, max_depth=10, min_samples_leaf=2,\n",
       "                       min_samples_split=6, n_estimators=56)"
      ]
     },
     "execution_count": 75,
     "metadata": {},
     "output_type": "execute_result"
    }
   ],
   "source": [
    "#Fitting Smote X and y in the model\n",
    "\n",
    "choosed_model_rfc.fit(X_smote_rfc_res, y_smote_rfc_res)"
   ]
  },
  {
   "cell_type": "code",
   "execution_count": 76,
   "id": "6de3a476",
   "metadata": {
    "ExecuteTime": {
     "end_time": "2023-04-05T02:43:45.100325Z",
     "start_time": "2023-04-05T02:43:44.877275Z"
    }
   },
   "outputs": [
    {
     "name": "stdout",
     "output_type": "stream",
     "text": [
      "[0 0 0 ... 1 1 0]\n"
     ]
    }
   ],
   "source": [
    "#Making predictions\n",
    "\n",
    "choosed_model_predictions_rfc = choosed_model_rfc.predict(X_test_rfc)\n",
    "print(choosed_model_predictions_rfc)"
   ]
  },
  {
   "cell_type": "code",
   "execution_count": 77,
   "id": "c7b50b18",
   "metadata": {
    "ExecuteTime": {
     "end_time": "2023-04-05T02:43:45.116329Z",
     "start_time": "2023-04-05T02:43:45.101325Z"
    }
   },
   "outputs": [
    {
     "data": {
      "text/plain": [
       "0    26321\n",
       "1    21423\n",
       "dtype: int64"
      ]
     },
     "execution_count": 77,
     "metadata": {},
     "output_type": "execute_result"
    }
   ],
   "source": [
    "#Observing the proportion of predictions\n",
    "\n",
    "pd.Series(choosed_model_predictions_rfc).value_counts()"
   ]
  },
  {
   "cell_type": "code",
   "execution_count": 78,
   "id": "88023000",
   "metadata": {
    "ExecuteTime": {
     "end_time": "2023-04-05T02:43:45.164340Z",
     "start_time": "2023-04-05T02:43:45.117329Z"
    }
   },
   "outputs": [
    {
     "name": "stdout",
     "output_type": "stream",
     "text": [
      "Accuracy:  0.5975829423592494\n",
      "Precision:  0.2574802782056668\n",
      "Recall:  0.6252550442076626\n",
      "F1-Score:  0.3647545048768392\n"
     ]
    }
   ],
   "source": [
    "#Getting metrics values of the Random Forest Classifier predicting\n",
    "\n",
    "metrics_predicting(y_test_rfc, choosed_model_predictions_rfc)"
   ]
  },
  {
   "cell_type": "markdown",
   "id": "e1a7187e",
   "metadata": {},
   "source": [
    "### Models Metrics Comparison\n",
    "\n",
    "Decision Tree go a better Recall (0.7294), but Random Forest got better Accuracy (0.5873), Precision (0.2574) and F1-score (0.3680).\n",
    "\n",
    "**Choosed Model**: Random Forest"
   ]
  },
  {
   "cell_type": "markdown",
   "id": "1b89d069",
   "metadata": {},
   "source": [
    "## Choosed model Analysis\n",
    "\n",
    "Evaluate model performance in the predictive task across each model that you trained. <br>\n",
    "Define and justify what metrics you used to assess model performance. Pick the best trained model and evaluate the following: \n",
    "<ol>\n",
    "<li>What variables were the most influential in the prediction task?</li>\n",
    "<li>How could you improve the Performance?</li>\n",
    "</ol>"
   ]
  },
  {
   "cell_type": "markdown",
   "id": "fa044e83",
   "metadata": {},
   "source": [
    "### What variables were the most influential in the prediction task?"
   ]
  },
  {
   "cell_type": "markdown",
   "id": "1a85ec40",
   "metadata": {},
   "source": [
    "The top 5 most influential variable in the predict are:"
   ]
  },
  {
   "cell_type": "code",
   "execution_count": 83,
   "id": "4a379e36",
   "metadata": {
    "ExecuteTime": {
     "end_time": "2023-04-05T02:46:25.110290Z",
     "start_time": "2023-04-05T02:46:25.092286Z"
    },
    "code_folding": []
   },
   "outputs": [
    {
     "data": {
      "text/plain": [
       "MES                           0.468323\n",
       "period_day_morning            0.084279\n",
       "OPERA_Latin American Wings    0.083019\n",
       "TIPOVUELO_N                   0.070280\n",
       "TIPOVUELO_I                   0.054968\n",
       "dtype: float64"
      ]
     },
     "execution_count": 83,
     "metadata": {},
     "output_type": "execute_result"
    }
   ],
   "source": [
    "#Setting the X used to train and test models\n",
    "\n",
    "#Getting features names\n",
    "feature_names = [i for i in X.columns]\n",
    "\n",
    "#Calculating the features importance\n",
    "importances = choosed_model_rfc.feature_importances_\n",
    "std = np.std([tree.feature_importances_ for tree in choosed_model_rfc.estimators_], axis=0)\n",
    "\n",
    "#Printing the features with the respective importance\n",
    "mordel_importances = pd.Series(importances, index=feature_names)\n",
    "mordel_importances.sort_values(ascending=False).head(5)"
   ]
  },
  {
   "cell_type": "markdown",
   "id": "873ad657",
   "metadata": {},
   "source": [
    "Plotting a view with the other features, just for ilustration."
   ]
  },
  {
   "cell_type": "code",
   "execution_count": 82,
   "id": "6bfd81dc",
   "metadata": {
    "ExecuteTime": {
     "end_time": "2023-04-05T02:45:13.574211Z",
     "start_time": "2023-04-05T02:45:13.340159Z"
    }
   },
   "outputs": [
    {
     "data": {
      "image/png": "[encoded data removed]",
      "text/plain": [
       "<Figure size 1152x576 with 1 Axes>"
      ]
     },
     "metadata": {
      "needs_background": "light"
     },
     "output_type": "display_data"
    }
   ],
   "source": [
    "fig, ax = plt.subplots(figsize = (16,8))\n",
    "mordel_importances.plot.bar(yerr=std, ax=ax)\n",
    "ax.set_title('Feature')\n",
    "ax.set_ylabel('Feature importances (Mean decrease in impurity)')\n",
    "fig.tight_layout()"
   ]
  },
  {
   "cell_type": "markdown",
   "id": "768a3fe0",
   "metadata": {
    "ExecuteTime": {
     "end_time": "2023-04-05T01:59:00.334887Z",
     "start_time": "2023-04-05T01:59:00.316884Z"
    }
   },
   "source": [
    "### How could you improve the Performance?\n",
    "\n",
    "Some ideas to how to improve model Performance:\n",
    "- Choosing more variables to fit in the model\n",
    "- Testing other hyperparameters values and test in each model\n",
    "- Test e evaluate more models\n",
    "- The proportion of Delay Rate in the dataset 0 (60%) and 1 (20%) looks like an unbalanced characteristic. SMOTE was used, but maybe it's worth to test other (or better) ways to apply\n",
    "- Add more features - for example: weather, natural disaster, war"
   ]
  },
  {
   "cell_type": "markdown",
   "id": "55b0c2f7",
   "metadata": {},
   "source": [
    "## Some References\n",
    "\n",
    "Just some ones that I reminded to save.\n",
    "\n",
    "How to Implement Decision Trees in Python (Train, Test, Evaluate, Explain) \\\n",
    "https://www.youtube.com/watch?v=wxS5P7yDHRA&ab_channel=M%C4%B1sraTurp \\\n",
    " \\\n",
    "RandomizedSearchCV to find Optimal Parameters in Python \\\n",
    "https://www.projectpro.io/recipes/find-optimal-parameters-using-randomizedsearchcv-for-regression#mcetoc_1g1isi137e \\\n",
    " \\\n",
    "Machine Learning Tutorial : Decision Tree hyperparameter optimization \\\n",
    "https://www.youtube.com/watch?v=gRTUwkjIVUU&ab_channel=KunaalNaik \\\n",
    " \\\n",
    "scikit-learn - Machine Learning in Python \\\n",
    "https://scikit-learn.org/stable/index.html \\\n",
    " \\\n",
    "Random Forest Hyperparameter Tuning in Python \\\n",
    "https://www.geeksforgeeks.org/random-forest-hyperparameter-tuning-in-python/ \\\n",
    "\n",
    "Estatística para Seleção de Atributos \\\n",
    "https://medium.com/data-hackers/estat%C3%ADstica-para-sele%C3%A7%C3%A3o-de-atributos-81bdc274dd2c#:~:text=Teste%20do%20Chi%2DQuadrado&text=Quanto%20mais%20alto%20o%20Chi,feature_selection%20import%20chi2%20\n",
    "\n",
    "Dados Desbalanceados — O que são e como lidar com eles \\\n",
    "https://medium.com/turing-talks/dados-desbalanceados-o-que-s%C3%A3o-e-como-evit%C3%A1-los-43df4f49732b \n",
    "\n",
    "Feature importances with a forest of trees \\\n",
    "https://scikit-learn.org/stable/auto_examples/ensemble/plot_forest_importances.html"
   ]
  }
 ],
 "metadata": {
  "hide_input": false,
  "kernelspec": {
   "display_name": "Python 3",
   "language": "python",
   "name": "python3"
  },
  "language_info": {
   "codemirror_mode": {
    "name": "ipython",
    "version": 3
   },
   "file_extension": ".py",
   "mimetype": "text/x-python",
   "name": "python",
   "nbconvert_exporter": "python",
   "pygments_lexer": "ipython3",
   "version": "3.8.8"
  },
  "toc": {
   "base_numbering": 1,
   "nav_menu": {},
   "number_sections": true,
   "sideBar": true,
   "skip_h1_title": false,
   "title_cell": "Table of Contents",
   "title_sidebar": "Contents",
   "toc_cell": false,
   "toc_position": {},
   "toc_section_display": true,
   "toc_window_display": false
  },
  "varInspector": {
   "cols": {
    "lenName": 16,
    "lenType": 16,
    "lenVar": 40
   },
   "kernels_config": {
    "python": {
     "delete_cmd_postfix": "",
     "delete_cmd_prefix": "del ",
     "library": "var_list.py",
     "varRefreshCmd": "print(var_dic_list())"
    },
    "r": {
     "delete_cmd_postfix": ") ",
     "delete_cmd_prefix": "rm(",
     "library": "var_list.r",
     "varRefreshCmd": "cat(var_dic_list()) "
    }
   },
   "types_to_exclude": [
    "module",
    "function",
    "builtin_function_or_method",
    "instance",
    "_Feature"
   ],
   "window_display": false
  }
 },
 "nbformat": 4,
 "nbformat_minor": 5
}
